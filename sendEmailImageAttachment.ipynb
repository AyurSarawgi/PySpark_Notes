{
  "nbformat": 4,
  "nbformat_minor": 0,
  "metadata": {
    "colab": {
      "name": "sendEmailImageAttachment.ipynb",
      "provenance": [],
      "authorship_tag": "ABX9TyNylC7gPaehzho9EHSdq8l8",
      "include_colab_link": true
    },
    "kernelspec": {
      "name": "python3",
      "display_name": "Python 3"
    },
    "language_info": {
      "name": "python"
    }
  },
  "cells": [
    {
      "cell_type": "markdown",
      "metadata": {
        "id": "view-in-github",
        "colab_type": "text"
      },
      "source": [
        "<a href=\"https://colab.research.google.com/github/AyurSarawgi/PySpark_Notes/blob/main/sendEmailImageAttachment.ipynb\" target=\"_parent\"><img src=\"https://colab.research.google.com/assets/colab-badge.svg\" alt=\"Open In Colab\"/></a>"
      ]
    },
    {
      "cell_type": "code",
      "execution_count": 1,
      "metadata": {
        "id": "2_Lzuz9o6YzH"
      },
      "outputs": [],
      "source": [
        "import os\n",
        "import smtplib\n",
        "import imghdr\n",
        "from email.message import EmailMessage\n",
        "EMAIL_ADDRESS= 'ayursarawgi0929@gmail.com'\n",
        "#EMAIL_ADDRESS= os.environ.get('EMAIL_USER')\n",
        "EMAIL_PASSWORD ='gtwzxhnceyoxsneg' \n",
        "#EMAIL_PASSWORD= os.environ.get('EMAIL_PASS')\n",
        "\n",
        "msg= EmailMessage()\n",
        "msg['Subject'] = 'Hi Moti --> Testing Something'\n",
        "msg['From'] = EMAIL_ADDRESS\n",
        "msg['To'] = 'pranitaprabhati2000@gmail.com'\n",
        "msg.set_content('You got the mail \\n moti???')\n",
        "\n",
        "image_files = ['/content/aa.jpg','/content/ab.jpg','/content/ac.jpg']\n",
        "\n",
        "for files in image_files:\n",
        "  with open(files, 'rb') as img_file:\n",
        "    file_data= img_file.read()\n",
        "    file_type= imghdr.what(img_file.name)\n",
        "    file_name= img_file.name\n",
        "\n",
        "  msg.add_attachment(file_data,maintype= 'image', subtype= 'file_type', filename= file_name)\n",
        "\n",
        "with smtplib.SMTP_SSL('smtp.gmail.com',465) as smtp:\n",
        "  smtp.login(EMAIL_ADDRESS,EMAIL_PASSWORD)\n",
        "  smtp.send_message(msg)\n",
        "\n",
        "    \n"
      ]
    }
  ]
}