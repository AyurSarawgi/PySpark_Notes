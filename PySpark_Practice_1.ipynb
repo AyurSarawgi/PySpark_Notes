{
  "nbformat": 4,
  "nbformat_minor": 0,
  "metadata": {
    "colab": {
      "name": "PySpark_Practice-1.ipynb",
      "provenance": [],
      "collapsed_sections": [],
      "authorship_tag": "ABX9TyNqPc7uwIAt2dhd6VW2ThsL",
      "include_colab_link": true
    },
    "kernelspec": {
      "name": "python3",
      "display_name": "Python 3"
    },
    "language_info": {
      "name": "python"
    }
  },
  "cells": [
    {
      "cell_type": "markdown",
      "metadata": {
        "id": "view-in-github",
        "colab_type": "text"
      },
      "source": [
        "<a href=\"https://colab.research.google.com/github/AyurSarawgi/PySpark_Notes/blob/main/PySpark_Practice_1.ipynb\" target=\"_parent\"><img src=\"https://colab.research.google.com/assets/colab-badge.svg\" alt=\"Open In Colab\"/></a>"
      ]
    },
    {
      "cell_type": "code",
      "metadata": {
        "colab": {
          "base_uri": "https://localhost:8080/"
        },
        "id": "PPb_whXhgBgn",
        "outputId": "1aa2ef44-d1fa-46bc-84fb-851abc524e08"
      },
      "source": [
        "!pip install pyspark"
      ],
      "execution_count": 2,
      "outputs": [
        {
          "output_type": "stream",
          "text": [
            "Collecting pyspark\n",
            "  Downloading pyspark-3.1.2.tar.gz (212.4 MB)\n",
            "\u001b[K     |████████████████████████████████| 212.4 MB 61 kB/s \n",
            "\u001b[?25hCollecting py4j==0.10.9\n",
            "  Downloading py4j-0.10.9-py2.py3-none-any.whl (198 kB)\n",
            "\u001b[K     |████████████████████████████████| 198 kB 31.2 MB/s \n",
            "\u001b[?25hBuilding wheels for collected packages: pyspark\n",
            "  Building wheel for pyspark (setup.py) ... \u001b[?25l\u001b[?25hdone\n",
            "  Created wheel for pyspark: filename=pyspark-3.1.2-py2.py3-none-any.whl size=212880768 sha256=9e175a82fcf813f799696e81c02da184ef3cb001f918e4c760222dbfee6acfd1\n",
            "  Stored in directory: /root/.cache/pip/wheels/a5/0a/c1/9561f6fecb759579a7d863dcd846daaa95f598744e71b02c77\n",
            "Successfully built pyspark\n",
            "Installing collected packages: py4j, pyspark\n",
            "Successfully installed py4j-0.10.9 pyspark-3.1.2\n"
          ],
          "name": "stdout"
        }
      ]
    },
    {
      "cell_type": "code",
      "metadata": {
        "id": "RKPWZDotg4QJ"
      },
      "source": [
        "import pyspark"
      ],
      "execution_count": 3,
      "outputs": []
    },
    {
      "cell_type": "code",
      "metadata": {
        "id": "CUqnDDvkg8QS"
      },
      "source": [
        "from pyspark.sql import SparkSession"
      ],
      "execution_count": 4,
      "outputs": []
    },
    {
      "cell_type": "code",
      "metadata": {
        "id": "Vzba94z1g8yZ"
      },
      "source": [
        "spark=SparkSession.builder.appName('Practice-1').getOrCreate()"
      ],
      "execution_count": 5,
      "outputs": []
    },
    {
      "cell_type": "markdown",
      "metadata": {
        "id": "DfwiJrQUhWSA"
      },
      "source": [
        "# ***1.READING A FILE***"
      ]
    },
    {
      "cell_type": "code",
      "metadata": {
        "colab": {
          "base_uri": "https://localhost:8080/"
        },
        "id": "YgO7SGl8hkGC",
        "outputId": "523c1c22-2f2f-48eb-9ccf-c69b131a0b7e"
      },
      "source": [
        "df_pyspark=spark.read.csv('test.csv')\n",
        "df_pyspark.show()"
      ],
      "execution_count": 7,
      "outputs": [
        {
          "output_type": "stream",
          "text": [
            "+---------+--------------------+----------+----------+--------------------+-----+\n",
            "|      _c0|                 _c1|       _c2|       _c3|                 _c4|  _c5|\n",
            "+---------+--------------------+----------+----------+--------------------+-----+\n",
            "|ProductID|         ProductName|SupplierID|CategoryID|                Unit|Price|\n",
            "|        1|               Chais|         1|         1|  10 boxes x 20 bags|   18|\n",
            "|        2|               Chang|         1|         1|  24 - 12 oz bottles|   19|\n",
            "|        3|       Aniseed Syrup|         1|         2| 12 - 550 ml bottles|   10|\n",
            "|        4|Chef Anton's Caju...|         2|         2|      48 - 6 oz jars|   22|\n",
            "|        5|Chef Anton's Gumb...|         2|         2|            36 boxes|21.35|\n",
            "|        6|Grandma's Boysenb...|         3|         2|      12 - 8 oz jars|   25|\n",
            "|     null|                null|      null|      null|                null| null|\n",
            "|        8|Northwoods Cranbe...|         3|         2|     12 - 12 oz jars|   40|\n",
            "|     null|     Mishi Kobe Niku|         4|         6|    18 - 500 g pkgs.|   97|\n",
            "|       10|               Ikura|      null|         8|    12 - 200 ml jars|   31|\n",
            "|       11|      Queso Cabrales|         5|      null|           1 kg pkg.|   21|\n",
            "|       12|Queso Manchego La...|         5|         4|                null|   38|\n",
            "|       13|               Konbu|         6|         8|            2 kg box| null|\n",
            "|       14|                Tofu|         6|         7|    40 - 100 g pkgs.|23.25|\n",
            "|       15|        Genen Shouyu|         6|         2| 24 - 250 ml bottles| 15.5|\n",
            "|       16|             Pavlova|         7|         3|    32 - 500 g boxes|17.45|\n",
            "|       17|        Alice Mutton|         7|         6|      20 - 1 kg tins|   39|\n",
            "|       18|    Carnarvon Tigers|         7|         8|          16 kg pkg.| 62.5|\n",
            "|       19|Teatime Chocolate...|         8|         3|10 boxes x 12 pieces|  9.2|\n",
            "+---------+--------------------+----------+----------+--------------------+-----+\n",
            "only showing top 20 rows\n",
            "\n"
          ],
          "name": "stdout"
        }
      ]
    },
    {
      "cell_type": "markdown",
      "metadata": {
        "id": "U1lWD0mEmalj"
      },
      "source": [
        "### 1.1 Reading Files With Header"
      ]
    },
    {
      "cell_type": "code",
      "metadata": {
        "colab": {
          "base_uri": "https://localhost:8080/"
        },
        "id": "hTUKJHMvmjgl",
        "outputId": "943a3d8e-a2ec-4060-afab-1415e1737c23"
      },
      "source": [
        "df_pyspark=spark.read.option('header','true').csv('test.csv')\n",
        "df_pyspark.show()"
      ],
      "execution_count": 8,
      "outputs": [
        {
          "output_type": "stream",
          "text": [
            "+---------+--------------------+----------+----------+--------------------+-----+\n",
            "|ProductID|         ProductName|SupplierID|CategoryID|                Unit|Price|\n",
            "+---------+--------------------+----------+----------+--------------------+-----+\n",
            "|        1|               Chais|         1|         1|  10 boxes x 20 bags|   18|\n",
            "|        2|               Chang|         1|         1|  24 - 12 oz bottles|   19|\n",
            "|        3|       Aniseed Syrup|         1|         2| 12 - 550 ml bottles|   10|\n",
            "|        4|Chef Anton's Caju...|         2|         2|      48 - 6 oz jars|   22|\n",
            "|        5|Chef Anton's Gumb...|         2|         2|            36 boxes|21.35|\n",
            "|        6|Grandma's Boysenb...|         3|         2|      12 - 8 oz jars|   25|\n",
            "|     null|                null|      null|      null|                null| null|\n",
            "|        8|Northwoods Cranbe...|         3|         2|     12 - 12 oz jars|   40|\n",
            "|     null|     Mishi Kobe Niku|         4|         6|    18 - 500 g pkgs.|   97|\n",
            "|       10|               Ikura|      null|         8|    12 - 200 ml jars|   31|\n",
            "|       11|      Queso Cabrales|         5|      null|           1 kg pkg.|   21|\n",
            "|       12|Queso Manchego La...|         5|         4|                null|   38|\n",
            "|       13|               Konbu|         6|         8|            2 kg box| null|\n",
            "|       14|                Tofu|         6|         7|    40 - 100 g pkgs.|23.25|\n",
            "|       15|        Genen Shouyu|         6|         2| 24 - 250 ml bottles| 15.5|\n",
            "|       16|             Pavlova|         7|         3|    32 - 500 g boxes|17.45|\n",
            "|       17|        Alice Mutton|         7|         6|      20 - 1 kg tins|   39|\n",
            "|       18|    Carnarvon Tigers|         7|         8|          16 kg pkg.| 62.5|\n",
            "|       19|Teatime Chocolate...|         8|         3|10 boxes x 12 pieces|  9.2|\n",
            "|       20|Sir Rodney's Marm...|         8|         3|       30 gift boxes|   81|\n",
            "+---------+--------------------+----------+----------+--------------------+-----+\n",
            "only showing top 20 rows\n",
            "\n"
          ],
          "name": "stdout"
        }
      ]
    },
    {
      "cell_type": "code",
      "metadata": {
        "colab": {
          "base_uri": "https://localhost:8080/"
        },
        "id": "eISdJeGQnCh5",
        "outputId": "35e5c649-d850-469d-ed11-6cc6fa4e6006"
      },
      "source": [
        "df_pyspark=spark.read.csv('test.csv',header=True)\n",
        "df_pyspark.show()"
      ],
      "execution_count": 9,
      "outputs": [
        {
          "output_type": "stream",
          "text": [
            "+---------+--------------------+----------+----------+--------------------+-----+\n",
            "|ProductID|         ProductName|SupplierID|CategoryID|                Unit|Price|\n",
            "+---------+--------------------+----------+----------+--------------------+-----+\n",
            "|        1|               Chais|         1|         1|  10 boxes x 20 bags|   18|\n",
            "|        2|               Chang|         1|         1|  24 - 12 oz bottles|   19|\n",
            "|        3|       Aniseed Syrup|         1|         2| 12 - 550 ml bottles|   10|\n",
            "|        4|Chef Anton's Caju...|         2|         2|      48 - 6 oz jars|   22|\n",
            "|        5|Chef Anton's Gumb...|         2|         2|            36 boxes|21.35|\n",
            "|        6|Grandma's Boysenb...|         3|         2|      12 - 8 oz jars|   25|\n",
            "|     null|                null|      null|      null|                null| null|\n",
            "|        8|Northwoods Cranbe...|         3|         2|     12 - 12 oz jars|   40|\n",
            "|     null|     Mishi Kobe Niku|         4|         6|    18 - 500 g pkgs.|   97|\n",
            "|       10|               Ikura|      null|         8|    12 - 200 ml jars|   31|\n",
            "|       11|      Queso Cabrales|         5|      null|           1 kg pkg.|   21|\n",
            "|       12|Queso Manchego La...|         5|         4|                null|   38|\n",
            "|       13|               Konbu|         6|         8|            2 kg box| null|\n",
            "|       14|                Tofu|         6|         7|    40 - 100 g pkgs.|23.25|\n",
            "|       15|        Genen Shouyu|         6|         2| 24 - 250 ml bottles| 15.5|\n",
            "|       16|             Pavlova|         7|         3|    32 - 500 g boxes|17.45|\n",
            "|       17|        Alice Mutton|         7|         6|      20 - 1 kg tins|   39|\n",
            "|       18|    Carnarvon Tigers|         7|         8|          16 kg pkg.| 62.5|\n",
            "|       19|Teatime Chocolate...|         8|         3|10 boxes x 12 pieces|  9.2|\n",
            "|       20|Sir Rodney's Marm...|         8|         3|       30 gift boxes|   81|\n",
            "+---------+--------------------+----------+----------+--------------------+-----+\n",
            "only showing top 20 rows\n",
            "\n"
          ],
          "name": "stdout"
        }
      ]
    },
    {
      "cell_type": "markdown",
      "metadata": {
        "id": "07SQVuY9nL6J"
      },
      "source": [
        "### 1.2 Reading N Rows From Top Only (in form of list)"
      ]
    },
    {
      "cell_type": "code",
      "metadata": {
        "colab": {
          "base_uri": "https://localhost:8080/"
        },
        "id": "oSCc_ASZnUBh",
        "outputId": "b7bd2e4c-7e68-4a4e-fd27-c8ccf77fc7cf"
      },
      "source": [
        "df_pyspark.head(4)"
      ],
      "execution_count": 10,
      "outputs": [
        {
          "output_type": "execute_result",
          "data": {
            "text/plain": [
              "[Row(ProductID='1', ProductName='Chais', SupplierID='1', CategoryID='1', Unit='10 boxes x 20 bags', Price='18'),\n",
              " Row(ProductID='2', ProductName='Chang', SupplierID='1', CategoryID='1', Unit='24 - 12 oz bottles', Price='19'),\n",
              " Row(ProductID='3', ProductName='Aniseed Syrup', SupplierID='1', CategoryID='2', Unit='12 - 550 ml bottles', Price='10'),\n",
              " Row(ProductID='4', ProductName=\"Chef Anton's Cajun Seasoning\", SupplierID='2', CategoryID='2', Unit='48 - 6 oz jars', Price='22')]"
            ]
          },
          "metadata": {
            "tags": []
          },
          "execution_count": 10
        }
      ]
    },
    {
      "cell_type": "markdown",
      "metadata": {
        "id": "ewUnzFL7nsNj"
      },
      "source": [
        "### 1.3 Information Regarding Columns"
      ]
    },
    {
      "cell_type": "code",
      "metadata": {
        "colab": {
          "base_uri": "https://localhost:8080/"
        },
        "id": "TJT_rxKtnyBE",
        "outputId": "0bc21ff5-65ee-43d7-ef01-44ca379164ea"
      },
      "source": [
        "df_pyspark.printSchema()"
      ],
      "execution_count": 11,
      "outputs": [
        {
          "output_type": "stream",
          "text": [
            "root\n",
            " |-- ProductID: string (nullable = true)\n",
            " |-- ProductName: string (nullable = true)\n",
            " |-- SupplierID: string (nullable = true)\n",
            " |-- CategoryID: string (nullable = true)\n",
            " |-- Unit: string (nullable = true)\n",
            " |-- Price: string (nullable = true)\n",
            "\n"
          ],
          "name": "stdout"
        }
      ]
    },
    {
      "cell_type": "markdown",
      "metadata": {
        "id": "AdGlWLbdn33Z"
      },
      "source": [
        "### 1.4 Setting Column DataType According To Data Present"
      ]
    },
    {
      "cell_type": "code",
      "metadata": {
        "colab": {
          "base_uri": "https://localhost:8080/"
        },
        "id": "RSrLBZDzn_gy",
        "outputId": "b269a9e9-1267-4eca-e312-86fe4f4920ba"
      },
      "source": [
        "df_pyspark=spark.read.csv('test.csv',header=True,inferSchema=True)\n",
        "df_pyspark.show()\n",
        "\n",
        "df_pyspark.printSchema()"
      ],
      "execution_count": 12,
      "outputs": [
        {
          "output_type": "stream",
          "text": [
            "+---------+--------------------+----------+----------+--------------------+-----+\n",
            "|ProductID|         ProductName|SupplierID|CategoryID|                Unit|Price|\n",
            "+---------+--------------------+----------+----------+--------------------+-----+\n",
            "|        1|               Chais|         1|         1|  10 boxes x 20 bags| 18.0|\n",
            "|        2|               Chang|         1|         1|  24 - 12 oz bottles| 19.0|\n",
            "|        3|       Aniseed Syrup|         1|         2| 12 - 550 ml bottles| 10.0|\n",
            "|        4|Chef Anton's Caju...|         2|         2|      48 - 6 oz jars| 22.0|\n",
            "|        5|Chef Anton's Gumb...|         2|         2|            36 boxes|21.35|\n",
            "|        6|Grandma's Boysenb...|         3|         2|      12 - 8 oz jars| 25.0|\n",
            "|     null|                null|      null|      null|                null| null|\n",
            "|        8|Northwoods Cranbe...|         3|         2|     12 - 12 oz jars| 40.0|\n",
            "|     null|     Mishi Kobe Niku|         4|         6|    18 - 500 g pkgs.| 97.0|\n",
            "|       10|               Ikura|      null|         8|    12 - 200 ml jars| 31.0|\n",
            "|       11|      Queso Cabrales|         5|      null|           1 kg pkg.| 21.0|\n",
            "|       12|Queso Manchego La...|         5|         4|                null| 38.0|\n",
            "|       13|               Konbu|         6|         8|            2 kg box| null|\n",
            "|       14|                Tofu|         6|         7|    40 - 100 g pkgs.|23.25|\n",
            "|       15|        Genen Shouyu|         6|         2| 24 - 250 ml bottles| 15.5|\n",
            "|       16|             Pavlova|         7|         3|    32 - 500 g boxes|17.45|\n",
            "|       17|        Alice Mutton|         7|         6|      20 - 1 kg tins| 39.0|\n",
            "|       18|    Carnarvon Tigers|         7|         8|          16 kg pkg.| 62.5|\n",
            "|       19|Teatime Chocolate...|         8|         3|10 boxes x 12 pieces|  9.2|\n",
            "|       20|Sir Rodney's Marm...|         8|         3|       30 gift boxes| 81.0|\n",
            "+---------+--------------------+----------+----------+--------------------+-----+\n",
            "only showing top 20 rows\n",
            "\n",
            "root\n",
            " |-- ProductID: integer (nullable = true)\n",
            " |-- ProductName: string (nullable = true)\n",
            " |-- SupplierID: integer (nullable = true)\n",
            " |-- CategoryID: integer (nullable = true)\n",
            " |-- Unit: string (nullable = true)\n",
            " |-- Price: double (nullable = true)\n",
            "\n"
          ],
          "name": "stdout"
        }
      ]
    },
    {
      "cell_type": "markdown",
      "metadata": {
        "id": "bgg8aPvJo2NT"
      },
      "source": [
        "# ***2. ALL ABOUT COLUMNS***"
      ]
    },
    {
      "cell_type": "code",
      "metadata": {
        "id": "x29mfoRZpF_j"
      },
      "source": [
        ""
      ],
      "execution_count": 12,
      "outputs": []
    },
    {
      "cell_type": "markdown",
      "metadata": {
        "id": "rI3Cf8VtpLX4"
      },
      "source": [
        "### 2.1 All Column Names"
      ]
    },
    {
      "cell_type": "code",
      "metadata": {
        "colab": {
          "base_uri": "https://localhost:8080/"
        },
        "id": "IWYQ2dHmpP0q",
        "outputId": "4b4db264-a09e-4e0e-f4ff-fe1363b4c467"
      },
      "source": [
        "df_pyspark.columns"
      ],
      "execution_count": 13,
      "outputs": [
        {
          "output_type": "execute_result",
          "data": {
            "text/plain": [
              "['ProductID', 'ProductName', 'SupplierID', 'CategoryID', 'Unit', 'Price']"
            ]
          },
          "metadata": {
            "tags": []
          },
          "execution_count": 13
        }
      ]
    },
    {
      "cell_type": "markdown",
      "metadata": {
        "id": "RYHub4BVpZEJ"
      },
      "source": [
        "### 2.2 Selecting Columns"
      ]
    },
    {
      "cell_type": "code",
      "metadata": {
        "colab": {
          "base_uri": "https://localhost:8080/"
        },
        "id": "bUOi3WMipemk",
        "outputId": "3fca08ea-25f3-45fd-c4e8-5f7111bd3c84"
      },
      "source": [
        "df_pyspark.select('ProductID').show()"
      ],
      "execution_count": 14,
      "outputs": [
        {
          "output_type": "stream",
          "text": [
            "+---------+\n",
            "|ProductID|\n",
            "+---------+\n",
            "|        1|\n",
            "|        2|\n",
            "|        3|\n",
            "|        4|\n",
            "|        5|\n",
            "|        6|\n",
            "|     null|\n",
            "|        8|\n",
            "|     null|\n",
            "|       10|\n",
            "|       11|\n",
            "|       12|\n",
            "|       13|\n",
            "|       14|\n",
            "|       15|\n",
            "|       16|\n",
            "|       17|\n",
            "|       18|\n",
            "|       19|\n",
            "|       20|\n",
            "+---------+\n",
            "only showing top 20 rows\n",
            "\n"
          ],
          "name": "stdout"
        }
      ]
    },
    {
      "cell_type": "code",
      "metadata": {
        "colab": {
          "base_uri": "https://localhost:8080/"
        },
        "id": "-tWw3ENfpmq7",
        "outputId": "fa491e12-018d-47de-f9a2-41889eb9dc23"
      },
      "source": [
        "df_pyspark.select('ProductID','ProductName').show()"
      ],
      "execution_count": 15,
      "outputs": [
        {
          "output_type": "stream",
          "text": [
            "+---------+--------------------+\n",
            "|ProductID|         ProductName|\n",
            "+---------+--------------------+\n",
            "|        1|               Chais|\n",
            "|        2|               Chang|\n",
            "|        3|       Aniseed Syrup|\n",
            "|        4|Chef Anton's Caju...|\n",
            "|        5|Chef Anton's Gumb...|\n",
            "|        6|Grandma's Boysenb...|\n",
            "|     null|                null|\n",
            "|        8|Northwoods Cranbe...|\n",
            "|     null|     Mishi Kobe Niku|\n",
            "|       10|               Ikura|\n",
            "|       11|      Queso Cabrales|\n",
            "|       12|Queso Manchego La...|\n",
            "|       13|               Konbu|\n",
            "|       14|                Tofu|\n",
            "|       15|        Genen Shouyu|\n",
            "|       16|             Pavlova|\n",
            "|       17|        Alice Mutton|\n",
            "|       18|    Carnarvon Tigers|\n",
            "|       19|Teatime Chocolate...|\n",
            "|       20|Sir Rodney's Marm...|\n",
            "+---------+--------------------+\n",
            "only showing top 20 rows\n",
            "\n"
          ],
          "name": "stdout"
        }
      ]
    },
    {
      "cell_type": "code",
      "metadata": {
        "colab": {
          "base_uri": "https://localhost:8080/"
        },
        "id": "KJDVfXRCpyf6",
        "outputId": "5ca3059c-63ec-4304-facb-6699fbe1fcbe"
      },
      "source": [
        "df_pyspark.select('ProductName','ProductID').show()"
      ],
      "execution_count": 16,
      "outputs": [
        {
          "output_type": "stream",
          "text": [
            "+--------------------+---------+\n",
            "|         ProductName|ProductID|\n",
            "+--------------------+---------+\n",
            "|               Chais|        1|\n",
            "|               Chang|        2|\n",
            "|       Aniseed Syrup|        3|\n",
            "|Chef Anton's Caju...|        4|\n",
            "|Chef Anton's Gumb...|        5|\n",
            "|Grandma's Boysenb...|        6|\n",
            "|                null|     null|\n",
            "|Northwoods Cranbe...|        8|\n",
            "|     Mishi Kobe Niku|     null|\n",
            "|               Ikura|       10|\n",
            "|      Queso Cabrales|       11|\n",
            "|Queso Manchego La...|       12|\n",
            "|               Konbu|       13|\n",
            "|                Tofu|       14|\n",
            "|        Genen Shouyu|       15|\n",
            "|             Pavlova|       16|\n",
            "|        Alice Mutton|       17|\n",
            "|    Carnarvon Tigers|       18|\n",
            "|Teatime Chocolate...|       19|\n",
            "|Sir Rodney's Marm...|       20|\n",
            "+--------------------+---------+\n",
            "only showing top 20 rows\n",
            "\n"
          ],
          "name": "stdout"
        }
      ]
    },
    {
      "cell_type": "code",
      "metadata": {
        "colab": {
          "base_uri": "https://localhost:8080/"
        },
        "id": "rUVr297sp1Ni",
        "outputId": "2fc2af7f-784b-4943-aaa0-44e5929ab5d0"
      },
      "source": [
        "df_pyspark.select(['ProductName','ProductID']).show()"
      ],
      "execution_count": 17,
      "outputs": [
        {
          "output_type": "stream",
          "text": [
            "+--------------------+---------+\n",
            "|         ProductName|ProductID|\n",
            "+--------------------+---------+\n",
            "|               Chais|        1|\n",
            "|               Chang|        2|\n",
            "|       Aniseed Syrup|        3|\n",
            "|Chef Anton's Caju...|        4|\n",
            "|Chef Anton's Gumb...|        5|\n",
            "|Grandma's Boysenb...|        6|\n",
            "|                null|     null|\n",
            "|Northwoods Cranbe...|        8|\n",
            "|     Mishi Kobe Niku|     null|\n",
            "|               Ikura|       10|\n",
            "|      Queso Cabrales|       11|\n",
            "|Queso Manchego La...|       12|\n",
            "|               Konbu|       13|\n",
            "|                Tofu|       14|\n",
            "|        Genen Shouyu|       15|\n",
            "|             Pavlova|       16|\n",
            "|        Alice Mutton|       17|\n",
            "|    Carnarvon Tigers|       18|\n",
            "|Teatime Chocolate...|       19|\n",
            "|Sir Rodney's Marm...|       20|\n",
            "+--------------------+---------+\n",
            "only showing top 20 rows\n",
            "\n"
          ],
          "name": "stdout"
        }
      ]
    },
    {
      "cell_type": "markdown",
      "metadata": {
        "id": "4oP2DZ0SqAc5"
      },
      "source": [
        "### 2.3 DataTypes Of Columns"
      ]
    },
    {
      "cell_type": "code",
      "metadata": {
        "colab": {
          "base_uri": "https://localhost:8080/"
        },
        "id": "oZq0cwe9qJ1d",
        "outputId": "7b76006e-d437-432b-c07a-e1a20b7fab89"
      },
      "source": [
        "df_pyspark.dtypes"
      ],
      "execution_count": 18,
      "outputs": [
        {
          "output_type": "execute_result",
          "data": {
            "text/plain": [
              "[('ProductID', 'int'),\n",
              " ('ProductName', 'string'),\n",
              " ('SupplierID', 'int'),\n",
              " ('CategoryID', 'int'),\n",
              " ('Unit', 'string'),\n",
              " ('Price', 'double')]"
            ]
          },
          "metadata": {
            "tags": []
          },
          "execution_count": 18
        }
      ]
    },
    {
      "cell_type": "markdown",
      "metadata": {
        "id": "avDIjKa6upfP"
      },
      "source": [
        "### 2.4 Adding A Column In DataFrame"
      ]
    },
    {
      "cell_type": "code",
      "metadata": {
        "colab": {
          "base_uri": "https://localhost:8080/"
        },
        "id": "BlrY3qHJuzQu",
        "outputId": "439bebf8-46e7-4285-f9d1-83db6e66939d"
      },
      "source": [
        "df_pyspark=df_pyspark.withColumn('New_PriceList', df_pyspark['Price']+2)\n",
        "df_pyspark.show()"
      ],
      "execution_count": 19,
      "outputs": [
        {
          "output_type": "stream",
          "text": [
            "+---------+--------------------+----------+----------+--------------------+-----+-------------+\n",
            "|ProductID|         ProductName|SupplierID|CategoryID|                Unit|Price|New_PriceList|\n",
            "+---------+--------------------+----------+----------+--------------------+-----+-------------+\n",
            "|        1|               Chais|         1|         1|  10 boxes x 20 bags| 18.0|         20.0|\n",
            "|        2|               Chang|         1|         1|  24 - 12 oz bottles| 19.0|         21.0|\n",
            "|        3|       Aniseed Syrup|         1|         2| 12 - 550 ml bottles| 10.0|         12.0|\n",
            "|        4|Chef Anton's Caju...|         2|         2|      48 - 6 oz jars| 22.0|         24.0|\n",
            "|        5|Chef Anton's Gumb...|         2|         2|            36 boxes|21.35|        23.35|\n",
            "|        6|Grandma's Boysenb...|         3|         2|      12 - 8 oz jars| 25.0|         27.0|\n",
            "|     null|                null|      null|      null|                null| null|         null|\n",
            "|        8|Northwoods Cranbe...|         3|         2|     12 - 12 oz jars| 40.0|         42.0|\n",
            "|     null|     Mishi Kobe Niku|         4|         6|    18 - 500 g pkgs.| 97.0|         99.0|\n",
            "|       10|               Ikura|      null|         8|    12 - 200 ml jars| 31.0|         33.0|\n",
            "|       11|      Queso Cabrales|         5|      null|           1 kg pkg.| 21.0|         23.0|\n",
            "|       12|Queso Manchego La...|         5|         4|                null| 38.0|         40.0|\n",
            "|       13|               Konbu|         6|         8|            2 kg box| null|         null|\n",
            "|       14|                Tofu|         6|         7|    40 - 100 g pkgs.|23.25|        25.25|\n",
            "|       15|        Genen Shouyu|         6|         2| 24 - 250 ml bottles| 15.5|         17.5|\n",
            "|       16|             Pavlova|         7|         3|    32 - 500 g boxes|17.45|        19.45|\n",
            "|       17|        Alice Mutton|         7|         6|      20 - 1 kg tins| 39.0|         41.0|\n",
            "|       18|    Carnarvon Tigers|         7|         8|          16 kg pkg.| 62.5|         64.5|\n",
            "|       19|Teatime Chocolate...|         8|         3|10 boxes x 12 pieces|  9.2|         11.2|\n",
            "|       20|Sir Rodney's Marm...|         8|         3|       30 gift boxes| 81.0|         83.0|\n",
            "+---------+--------------------+----------+----------+--------------------+-----+-------------+\n",
            "only showing top 20 rows\n",
            "\n"
          ],
          "name": "stdout"
        }
      ]
    },
    {
      "cell_type": "markdown",
      "metadata": {
        "id": "HOA35bn6vRih"
      },
      "source": [
        "### 2.5 Deleting A Column From DataFrame"
      ]
    },
    {
      "cell_type": "code",
      "metadata": {
        "colab": {
          "base_uri": "https://localhost:8080/"
        },
        "id": "PDcn6Kf3vbUd",
        "outputId": "b0e4cbe7-d727-48ca-9bf0-6e580a856b97"
      },
      "source": [
        "df_pyspark=df_pyspark.drop('New_PriceList')\n",
        "df_pyspark.show()"
      ],
      "execution_count": 20,
      "outputs": [
        {
          "output_type": "stream",
          "text": [
            "+---------+--------------------+----------+----------+--------------------+-----+\n",
            "|ProductID|         ProductName|SupplierID|CategoryID|                Unit|Price|\n",
            "+---------+--------------------+----------+----------+--------------------+-----+\n",
            "|        1|               Chais|         1|         1|  10 boxes x 20 bags| 18.0|\n",
            "|        2|               Chang|         1|         1|  24 - 12 oz bottles| 19.0|\n",
            "|        3|       Aniseed Syrup|         1|         2| 12 - 550 ml bottles| 10.0|\n",
            "|        4|Chef Anton's Caju...|         2|         2|      48 - 6 oz jars| 22.0|\n",
            "|        5|Chef Anton's Gumb...|         2|         2|            36 boxes|21.35|\n",
            "|        6|Grandma's Boysenb...|         3|         2|      12 - 8 oz jars| 25.0|\n",
            "|     null|                null|      null|      null|                null| null|\n",
            "|        8|Northwoods Cranbe...|         3|         2|     12 - 12 oz jars| 40.0|\n",
            "|     null|     Mishi Kobe Niku|         4|         6|    18 - 500 g pkgs.| 97.0|\n",
            "|       10|               Ikura|      null|         8|    12 - 200 ml jars| 31.0|\n",
            "|       11|      Queso Cabrales|         5|      null|           1 kg pkg.| 21.0|\n",
            "|       12|Queso Manchego La...|         5|         4|                null| 38.0|\n",
            "|       13|               Konbu|         6|         8|            2 kg box| null|\n",
            "|       14|                Tofu|         6|         7|    40 - 100 g pkgs.|23.25|\n",
            "|       15|        Genen Shouyu|         6|         2| 24 - 250 ml bottles| 15.5|\n",
            "|       16|             Pavlova|         7|         3|    32 - 500 g boxes|17.45|\n",
            "|       17|        Alice Mutton|         7|         6|      20 - 1 kg tins| 39.0|\n",
            "|       18|    Carnarvon Tigers|         7|         8|          16 kg pkg.| 62.5|\n",
            "|       19|Teatime Chocolate...|         8|         3|10 boxes x 12 pieces|  9.2|\n",
            "|       20|Sir Rodney's Marm...|         8|         3|       30 gift boxes| 81.0|\n",
            "+---------+--------------------+----------+----------+--------------------+-----+\n",
            "only showing top 20 rows\n",
            "\n"
          ],
          "name": "stdout"
        }
      ]
    },
    {
      "cell_type": "markdown",
      "metadata": {
        "id": "VdioAj0Cvy_B"
      },
      "source": [
        "### 2.6 Renaming The Column Name"
      ]
    },
    {
      "cell_type": "code",
      "metadata": {
        "colab": {
          "base_uri": "https://localhost:8080/"
        },
        "id": "2UqutR9fv5cU",
        "outputId": "a3713671-f8e7-4ce1-a05f-331a7b2d3113"
      },
      "source": [
        "df_pyspark.withColumnRenamed('ProductName', 'P_Name').columns"
      ],
      "execution_count": 21,
      "outputs": [
        {
          "output_type": "execute_result",
          "data": {
            "text/plain": [
              "['ProductID', 'P_Name', 'SupplierID', 'CategoryID', 'Unit', 'Price']"
            ]
          },
          "metadata": {
            "tags": []
          },
          "execution_count": 21
        }
      ]
    },
    {
      "cell_type": "markdown",
      "metadata": {
        "id": "KqqLwluTzqiW"
      },
      "source": [
        "# ***3. OTHERS***"
      ]
    },
    {
      "cell_type": "markdown",
      "metadata": {
        "id": "Vkj4O3hBzzGM"
      },
      "source": [
        "### 3.1 Describing DataFrame"
      ]
    },
    {
      "cell_type": "code",
      "metadata": {
        "colab": {
          "base_uri": "https://localhost:8080/"
        },
        "id": "dmsfUogTzpdb",
        "outputId": "2bfa6f5e-68cb-49c1-f3d2-de92dd4da892"
      },
      "source": [
        "df_pyspark.describe()"
      ],
      "execution_count": 22,
      "outputs": [
        {
          "output_type": "execute_result",
          "data": {
            "text/plain": [
              "DataFrame[summary: string, ProductID: string, ProductName: string, SupplierID: string, CategoryID: string, Unit: string, Price: string]"
            ]
          },
          "metadata": {
            "tags": []
          },
          "execution_count": 22
        }
      ]
    },
    {
      "cell_type": "code",
      "metadata": {
        "colab": {
          "base_uri": "https://localhost:8080/"
        },
        "id": "D1b-DNHz0Cqb",
        "outputId": "846f0cb5-bd27-4b9e-8b4f-59ae5227fb83"
      },
      "source": [
        "df_pyspark.describe().show()"
      ],
      "execution_count": 23,
      "outputs": [
        {
          "output_type": "stream",
          "text": [
            "+-------+-----------------+-------------+-----------------+-----------------+-----------------+------------------+\n",
            "|summary|        ProductID|  ProductName|       SupplierID|       CategoryID|             Unit|             Price|\n",
            "+-------+-----------------+-------------+-----------------+-----------------+-----------------+------------------+\n",
            "|  count|               75|           76|               75|               75|               75|                75|\n",
            "|   mean|39.82666666666667|         null|            13.92|             4.08|             null|29.156133333333333|\n",
            "| stddev|22.07565207223593|         null|8.156840935929427|2.403600902250059|             null|  34.1642773721377|\n",
            "|    min|                1| Alice Mutton|                1|                1|        1 kg pkg.|               2.5|\n",
            "|    max|               77|Zaanse koeken|               29|                8|750 cc per bottle|             263.5|\n",
            "+-------+-----------------+-------------+-----------------+-----------------+-----------------+------------------+\n",
            "\n"
          ],
          "name": "stdout"
        }
      ]
    },
    {
      "cell_type": "markdown",
      "metadata": {
        "id": "C2fa8D-H0L5j"
      },
      "source": [
        "# ***4. HANDLING WITH NULL & MISSING VALUES***"
      ]
    },
    {
      "cell_type": "code",
      "metadata": {
        "colab": {
          "base_uri": "https://localhost:8080/"
        },
        "id": "szXmycIz0d2P",
        "outputId": "16b207fc-a4dd-42a8-9ef4-decf8cf86347"
      },
      "source": [
        "df_pyspark.show()"
      ],
      "execution_count": 24,
      "outputs": [
        {
          "output_type": "stream",
          "text": [
            "+---------+--------------------+----------+----------+--------------------+-----+\n",
            "|ProductID|         ProductName|SupplierID|CategoryID|                Unit|Price|\n",
            "+---------+--------------------+----------+----------+--------------------+-----+\n",
            "|        1|               Chais|         1|         1|  10 boxes x 20 bags| 18.0|\n",
            "|        2|               Chang|         1|         1|  24 - 12 oz bottles| 19.0|\n",
            "|        3|       Aniseed Syrup|         1|         2| 12 - 550 ml bottles| 10.0|\n",
            "|        4|Chef Anton's Caju...|         2|         2|      48 - 6 oz jars| 22.0|\n",
            "|        5|Chef Anton's Gumb...|         2|         2|            36 boxes|21.35|\n",
            "|        6|Grandma's Boysenb...|         3|         2|      12 - 8 oz jars| 25.0|\n",
            "|     null|                null|      null|      null|                null| null|\n",
            "|        8|Northwoods Cranbe...|         3|         2|     12 - 12 oz jars| 40.0|\n",
            "|     null|     Mishi Kobe Niku|         4|         6|    18 - 500 g pkgs.| 97.0|\n",
            "|       10|               Ikura|      null|         8|    12 - 200 ml jars| 31.0|\n",
            "|       11|      Queso Cabrales|         5|      null|           1 kg pkg.| 21.0|\n",
            "|       12|Queso Manchego La...|         5|         4|                null| 38.0|\n",
            "|       13|               Konbu|         6|         8|            2 kg box| null|\n",
            "|       14|                Tofu|         6|         7|    40 - 100 g pkgs.|23.25|\n",
            "|       15|        Genen Shouyu|         6|         2| 24 - 250 ml bottles| 15.5|\n",
            "|       16|             Pavlova|         7|         3|    32 - 500 g boxes|17.45|\n",
            "|       17|        Alice Mutton|         7|         6|      20 - 1 kg tins| 39.0|\n",
            "|       18|    Carnarvon Tigers|         7|         8|          16 kg pkg.| 62.5|\n",
            "|       19|Teatime Chocolate...|         8|         3|10 boxes x 12 pieces|  9.2|\n",
            "|       20|Sir Rodney's Marm...|         8|         3|       30 gift boxes| 81.0|\n",
            "+---------+--------------------+----------+----------+--------------------+-----+\n",
            "only showing top 20 rows\n",
            "\n"
          ],
          "name": "stdout"
        }
      ]
    },
    {
      "cell_type": "markdown",
      "metadata": {
        "id": "Yh3R8yKX0Tki"
      },
      "source": [
        "### 4.1 Drpooing Rows Containing Null Value"
      ]
    },
    {
      "cell_type": "code",
      "metadata": {
        "colab": {
          "base_uri": "https://localhost:8080/"
        },
        "id": "KhdoQAhK0dQQ",
        "outputId": "452e0fb6-7884-49ac-cca1-f80616cd817d"
      },
      "source": [
        "df_pyspark.na.drop().show()"
      ],
      "execution_count": 25,
      "outputs": [
        {
          "output_type": "stream",
          "text": [
            "+---------+--------------------+----------+----------+--------------------+-----+\n",
            "|ProductID|         ProductName|SupplierID|CategoryID|                Unit|Price|\n",
            "+---------+--------------------+----------+----------+--------------------+-----+\n",
            "|        1|               Chais|         1|         1|  10 boxes x 20 bags| 18.0|\n",
            "|        2|               Chang|         1|         1|  24 - 12 oz bottles| 19.0|\n",
            "|        3|       Aniseed Syrup|         1|         2| 12 - 550 ml bottles| 10.0|\n",
            "|        4|Chef Anton's Caju...|         2|         2|      48 - 6 oz jars| 22.0|\n",
            "|        5|Chef Anton's Gumb...|         2|         2|            36 boxes|21.35|\n",
            "|        6|Grandma's Boysenb...|         3|         2|      12 - 8 oz jars| 25.0|\n",
            "|        8|Northwoods Cranbe...|         3|         2|     12 - 12 oz jars| 40.0|\n",
            "|       14|                Tofu|         6|         7|    40 - 100 g pkgs.|23.25|\n",
            "|       15|        Genen Shouyu|         6|         2| 24 - 250 ml bottles| 15.5|\n",
            "|       16|             Pavlova|         7|         3|    32 - 500 g boxes|17.45|\n",
            "|       17|        Alice Mutton|         7|         6|      20 - 1 kg tins| 39.0|\n",
            "|       18|    Carnarvon Tigers|         7|         8|          16 kg pkg.| 62.5|\n",
            "|       19|Teatime Chocolate...|         8|         3|10 boxes x 12 pieces|  9.2|\n",
            "|       20|Sir Rodney's Marm...|         8|         3|       30 gift boxes| 81.0|\n",
            "|       21| Sir Rodney's Scones|         8|         3| 24 pkgs. x 4 pieces| 10.0|\n",
            "|       22| Gustaf's Kn�ckebr�d|         9|         5|    24 - 500 g pkgs.| 21.0|\n",
            "|       23|            Tunnbr�d|         9|         5|    12 - 250 g pkgs.|  9.0|\n",
            "|       24|  Guaran� Fant�stica|        10|         1|    12 - 355 ml cans|  4.5|\n",
            "|       25|NuNuCa Nu�-Nougat...|        11|         3|  20 - 450 g glasses| 14.0|\n",
            "|       26| Gumb�r Gummib�rchen|        11|         3|    100 - 250 g bags|31.23|\n",
            "+---------+--------------------+----------+----------+--------------------+-----+\n",
            "only showing top 20 rows\n",
            "\n"
          ],
          "name": "stdout"
        }
      ]
    },
    {
      "cell_type": "markdown",
      "metadata": {
        "id": "xWKbQNPL31o3"
      },
      "source": [
        "\n",
        "\n",
        "1.   .drop('any') //delete all rows containing any null value\n",
        "2.   .drop('all') //delete all rows which contains all the values as null\n",
        "3.   .drop('any',thresh=2) //delete all rows containing atleast two non-null values\n",
        "4.   .drop('any',subset=['ProductId']) //delete all rows in which ProductId is null\n",
        "\n",
        "\n",
        "\n"
      ]
    },
    {
      "cell_type": "code",
      "metadata": {
        "colab": {
          "base_uri": "https://localhost:8080/"
        },
        "id": "uWJIdYwx5Xqy",
        "outputId": "507cdc48-a215-4815-bc6b-80dc5ad0925f"
      },
      "source": [
        "# .drop(how=='any') //delete all rows containing any null value\n",
        "\n",
        "df_pyspark.na.drop('any').show()"
      ],
      "execution_count": 26,
      "outputs": [
        {
          "output_type": "stream",
          "text": [
            "+---------+--------------------+----------+----------+--------------------+-----+\n",
            "|ProductID|         ProductName|SupplierID|CategoryID|                Unit|Price|\n",
            "+---------+--------------------+----------+----------+--------------------+-----+\n",
            "|        1|               Chais|         1|         1|  10 boxes x 20 bags| 18.0|\n",
            "|        2|               Chang|         1|         1|  24 - 12 oz bottles| 19.0|\n",
            "|        3|       Aniseed Syrup|         1|         2| 12 - 550 ml bottles| 10.0|\n",
            "|        4|Chef Anton's Caju...|         2|         2|      48 - 6 oz jars| 22.0|\n",
            "|        5|Chef Anton's Gumb...|         2|         2|            36 boxes|21.35|\n",
            "|        6|Grandma's Boysenb...|         3|         2|      12 - 8 oz jars| 25.0|\n",
            "|        8|Northwoods Cranbe...|         3|         2|     12 - 12 oz jars| 40.0|\n",
            "|       14|                Tofu|         6|         7|    40 - 100 g pkgs.|23.25|\n",
            "|       15|        Genen Shouyu|         6|         2| 24 - 250 ml bottles| 15.5|\n",
            "|       16|             Pavlova|         7|         3|    32 - 500 g boxes|17.45|\n",
            "|       17|        Alice Mutton|         7|         6|      20 - 1 kg tins| 39.0|\n",
            "|       18|    Carnarvon Tigers|         7|         8|          16 kg pkg.| 62.5|\n",
            "|       19|Teatime Chocolate...|         8|         3|10 boxes x 12 pieces|  9.2|\n",
            "|       20|Sir Rodney's Marm...|         8|         3|       30 gift boxes| 81.0|\n",
            "|       21| Sir Rodney's Scones|         8|         3| 24 pkgs. x 4 pieces| 10.0|\n",
            "|       22| Gustaf's Kn�ckebr�d|         9|         5|    24 - 500 g pkgs.| 21.0|\n",
            "|       23|            Tunnbr�d|         9|         5|    12 - 250 g pkgs.|  9.0|\n",
            "|       24|  Guaran� Fant�stica|        10|         1|    12 - 355 ml cans|  4.5|\n",
            "|       25|NuNuCa Nu�-Nougat...|        11|         3|  20 - 450 g glasses| 14.0|\n",
            "|       26| Gumb�r Gummib�rchen|        11|         3|    100 - 250 g bags|31.23|\n",
            "+---------+--------------------+----------+----------+--------------------+-----+\n",
            "only showing top 20 rows\n",
            "\n"
          ],
          "name": "stdout"
        }
      ]
    },
    {
      "cell_type": "code",
      "metadata": {
        "colab": {
          "base_uri": "https://localhost:8080/"
        },
        "id": "TUZjMoC550mp",
        "outputId": "c553fc3d-3fc6-47d0-9edf-2a35e400b8b2"
      },
      "source": [
        "# .drop(how=='all') //delete all rows which contains all the values as null\n",
        "\n",
        "df_pyspark.na.drop('all').show()"
      ],
      "execution_count": 27,
      "outputs": [
        {
          "output_type": "stream",
          "text": [
            "+---------+--------------------+----------+----------+--------------------+-----+\n",
            "|ProductID|         ProductName|SupplierID|CategoryID|                Unit|Price|\n",
            "+---------+--------------------+----------+----------+--------------------+-----+\n",
            "|        1|               Chais|         1|         1|  10 boxes x 20 bags| 18.0|\n",
            "|        2|               Chang|         1|         1|  24 - 12 oz bottles| 19.0|\n",
            "|        3|       Aniseed Syrup|         1|         2| 12 - 550 ml bottles| 10.0|\n",
            "|        4|Chef Anton's Caju...|         2|         2|      48 - 6 oz jars| 22.0|\n",
            "|        5|Chef Anton's Gumb...|         2|         2|            36 boxes|21.35|\n",
            "|        6|Grandma's Boysenb...|         3|         2|      12 - 8 oz jars| 25.0|\n",
            "|        8|Northwoods Cranbe...|         3|         2|     12 - 12 oz jars| 40.0|\n",
            "|     null|     Mishi Kobe Niku|         4|         6|    18 - 500 g pkgs.| 97.0|\n",
            "|       10|               Ikura|      null|         8|    12 - 200 ml jars| 31.0|\n",
            "|       11|      Queso Cabrales|         5|      null|           1 kg pkg.| 21.0|\n",
            "|       12|Queso Manchego La...|         5|         4|                null| 38.0|\n",
            "|       13|               Konbu|         6|         8|            2 kg box| null|\n",
            "|       14|                Tofu|         6|         7|    40 - 100 g pkgs.|23.25|\n",
            "|       15|        Genen Shouyu|         6|         2| 24 - 250 ml bottles| 15.5|\n",
            "|       16|             Pavlova|         7|         3|    32 - 500 g boxes|17.45|\n",
            "|       17|        Alice Mutton|         7|         6|      20 - 1 kg tins| 39.0|\n",
            "|       18|    Carnarvon Tigers|         7|         8|          16 kg pkg.| 62.5|\n",
            "|       19|Teatime Chocolate...|         8|         3|10 boxes x 12 pieces|  9.2|\n",
            "|       20|Sir Rodney's Marm...|         8|         3|       30 gift boxes| 81.0|\n",
            "|       21| Sir Rodney's Scones|         8|         3| 24 pkgs. x 4 pieces| 10.0|\n",
            "+---------+--------------------+----------+----------+--------------------+-----+\n",
            "only showing top 20 rows\n",
            "\n"
          ],
          "name": "stdout"
        }
      ]
    },
    {
      "cell_type": "code",
      "metadata": {
        "colab": {
          "base_uri": "https://localhost:8080/"
        },
        "id": "_XNrhryu6bxB",
        "outputId": "075ed201-72eb-4d24-db43-2d5aaf3fc595"
      },
      "source": [
        "# drop('any',thresh=2) //delete all rows containing atleast two non-null values\n",
        "\n",
        "df_pyspark.na.drop('any',thresh=2).show()"
      ],
      "execution_count": 28,
      "outputs": [
        {
          "output_type": "stream",
          "text": [
            "+---------+--------------------+----------+----------+--------------------+-----+\n",
            "|ProductID|         ProductName|SupplierID|CategoryID|                Unit|Price|\n",
            "+---------+--------------------+----------+----------+--------------------+-----+\n",
            "|        1|               Chais|         1|         1|  10 boxes x 20 bags| 18.0|\n",
            "|        2|               Chang|         1|         1|  24 - 12 oz bottles| 19.0|\n",
            "|        3|       Aniseed Syrup|         1|         2| 12 - 550 ml bottles| 10.0|\n",
            "|        4|Chef Anton's Caju...|         2|         2|      48 - 6 oz jars| 22.0|\n",
            "|        5|Chef Anton's Gumb...|         2|         2|            36 boxes|21.35|\n",
            "|        6|Grandma's Boysenb...|         3|         2|      12 - 8 oz jars| 25.0|\n",
            "|        8|Northwoods Cranbe...|         3|         2|     12 - 12 oz jars| 40.0|\n",
            "|     null|     Mishi Kobe Niku|         4|         6|    18 - 500 g pkgs.| 97.0|\n",
            "|       10|               Ikura|      null|         8|    12 - 200 ml jars| 31.0|\n",
            "|       11|      Queso Cabrales|         5|      null|           1 kg pkg.| 21.0|\n",
            "|       12|Queso Manchego La...|         5|         4|                null| 38.0|\n",
            "|       13|               Konbu|         6|         8|            2 kg box| null|\n",
            "|       14|                Tofu|         6|         7|    40 - 100 g pkgs.|23.25|\n",
            "|       15|        Genen Shouyu|         6|         2| 24 - 250 ml bottles| 15.5|\n",
            "|       16|             Pavlova|         7|         3|    32 - 500 g boxes|17.45|\n",
            "|       17|        Alice Mutton|         7|         6|      20 - 1 kg tins| 39.0|\n",
            "|       18|    Carnarvon Tigers|         7|         8|          16 kg pkg.| 62.5|\n",
            "|       19|Teatime Chocolate...|         8|         3|10 boxes x 12 pieces|  9.2|\n",
            "|       20|Sir Rodney's Marm...|         8|         3|       30 gift boxes| 81.0|\n",
            "|       21| Sir Rodney's Scones|         8|         3| 24 pkgs. x 4 pieces| 10.0|\n",
            "+---------+--------------------+----------+----------+--------------------+-----+\n",
            "only showing top 20 rows\n",
            "\n"
          ],
          "name": "stdout"
        }
      ]
    },
    {
      "cell_type": "code",
      "metadata": {
        "colab": {
          "base_uri": "https://localhost:8080/"
        },
        "id": "EorH5trZ8Di7",
        "outputId": "65d0cb36-3ef8-4e21-eee7-4292e3e1760d"
      },
      "source": [
        "# .drop('any',subset=['ProductId']) //delete all rows in which ProductId is null\n",
        "\n",
        "df_pyspark.na.drop('any',subset=['ProductId']).show()"
      ],
      "execution_count": 29,
      "outputs": [
        {
          "output_type": "stream",
          "text": [
            "+---------+--------------------+----------+----------+--------------------+-----+\n",
            "|ProductID|         ProductName|SupplierID|CategoryID|                Unit|Price|\n",
            "+---------+--------------------+----------+----------+--------------------+-----+\n",
            "|        1|               Chais|         1|         1|  10 boxes x 20 bags| 18.0|\n",
            "|        2|               Chang|         1|         1|  24 - 12 oz bottles| 19.0|\n",
            "|        3|       Aniseed Syrup|         1|         2| 12 - 550 ml bottles| 10.0|\n",
            "|        4|Chef Anton's Caju...|         2|         2|      48 - 6 oz jars| 22.0|\n",
            "|        5|Chef Anton's Gumb...|         2|         2|            36 boxes|21.35|\n",
            "|        6|Grandma's Boysenb...|         3|         2|      12 - 8 oz jars| 25.0|\n",
            "|        8|Northwoods Cranbe...|         3|         2|     12 - 12 oz jars| 40.0|\n",
            "|       10|               Ikura|      null|         8|    12 - 200 ml jars| 31.0|\n",
            "|       11|      Queso Cabrales|         5|      null|           1 kg pkg.| 21.0|\n",
            "|       12|Queso Manchego La...|         5|         4|                null| 38.0|\n",
            "|       13|               Konbu|         6|         8|            2 kg box| null|\n",
            "|       14|                Tofu|         6|         7|    40 - 100 g pkgs.|23.25|\n",
            "|       15|        Genen Shouyu|         6|         2| 24 - 250 ml bottles| 15.5|\n",
            "|       16|             Pavlova|         7|         3|    32 - 500 g boxes|17.45|\n",
            "|       17|        Alice Mutton|         7|         6|      20 - 1 kg tins| 39.0|\n",
            "|       18|    Carnarvon Tigers|         7|         8|          16 kg pkg.| 62.5|\n",
            "|       19|Teatime Chocolate...|         8|         3|10 boxes x 12 pieces|  9.2|\n",
            "|       20|Sir Rodney's Marm...|         8|         3|       30 gift boxes| 81.0|\n",
            "|       21| Sir Rodney's Scones|         8|         3| 24 pkgs. x 4 pieces| 10.0|\n",
            "|       22| Gustaf's Kn�ckebr�d|         9|         5|    24 - 500 g pkgs.| 21.0|\n",
            "+---------+--------------------+----------+----------+--------------------+-----+\n",
            "only showing top 20 rows\n",
            "\n"
          ],
          "name": "stdout"
        }
      ]
    },
    {
      "cell_type": "markdown",
      "metadata": {
        "id": "WJlVjFwL8lm7"
      },
      "source": [
        "### 4.2 Filling A Value to All Missing / Null Values in String Columns only"
      ]
    },
    {
      "cell_type": "code",
      "metadata": {
        "colab": {
          "base_uri": "https://localhost:8080/"
        },
        "id": "j85NmF4k83kR",
        "outputId": "97c7da4a-3cce-46da-e1c2-a12f8899da1e"
      },
      "source": [
        "# Fill the String '****Value Missing****' in the String Columns\n",
        "\n",
        "df_pyspark.na.fill('****VALUE_MISSING****').show()"
      ],
      "execution_count": 30,
      "outputs": [
        {
          "output_type": "stream",
          "text": [
            "+---------+--------------------+----------+----------+--------------------+-----+\n",
            "|ProductID|         ProductName|SupplierID|CategoryID|                Unit|Price|\n",
            "+---------+--------------------+----------+----------+--------------------+-----+\n",
            "|        1|               Chais|         1|         1|  10 boxes x 20 bags| 18.0|\n",
            "|        2|               Chang|         1|         1|  24 - 12 oz bottles| 19.0|\n",
            "|        3|       Aniseed Syrup|         1|         2| 12 - 550 ml bottles| 10.0|\n",
            "|        4|Chef Anton's Caju...|         2|         2|      48 - 6 oz jars| 22.0|\n",
            "|        5|Chef Anton's Gumb...|         2|         2|            36 boxes|21.35|\n",
            "|        6|Grandma's Boysenb...|         3|         2|      12 - 8 oz jars| 25.0|\n",
            "|     null|****VALUE_MISSING...|      null|      null|****VALUE_MISSING...| null|\n",
            "|        8|Northwoods Cranbe...|         3|         2|     12 - 12 oz jars| 40.0|\n",
            "|     null|     Mishi Kobe Niku|         4|         6|    18 - 500 g pkgs.| 97.0|\n",
            "|       10|               Ikura|      null|         8|    12 - 200 ml jars| 31.0|\n",
            "|       11|      Queso Cabrales|         5|      null|           1 kg pkg.| 21.0|\n",
            "|       12|Queso Manchego La...|         5|         4|****VALUE_MISSING...| 38.0|\n",
            "|       13|               Konbu|         6|         8|            2 kg box| null|\n",
            "|       14|                Tofu|         6|         7|    40 - 100 g pkgs.|23.25|\n",
            "|       15|        Genen Shouyu|         6|         2| 24 - 250 ml bottles| 15.5|\n",
            "|       16|             Pavlova|         7|         3|    32 - 500 g boxes|17.45|\n",
            "|       17|        Alice Mutton|         7|         6|      20 - 1 kg tins| 39.0|\n",
            "|       18|    Carnarvon Tigers|         7|         8|          16 kg pkg.| 62.5|\n",
            "|       19|Teatime Chocolate...|         8|         3|10 boxes x 12 pieces|  9.2|\n",
            "|       20|Sir Rodney's Marm...|         8|         3|       30 gift boxes| 81.0|\n",
            "+---------+--------------------+----------+----------+--------------------+-----+\n",
            "only showing top 20 rows\n",
            "\n"
          ],
          "name": "stdout"
        }
      ]
    },
    {
      "cell_type": "markdown",
      "metadata": {
        "id": "BgTDRnL0-kQ1"
      },
      "source": [
        "### 4.2 Filling A Value to All Missing / Null Values In A Particular String Columns only  //Integer columns will not show any error"
      ]
    },
    {
      "cell_type": "code",
      "metadata": {
        "colab": {
          "base_uri": "https://localhost:8080/"
        },
        "id": "9cNkSvyY_M7o",
        "outputId": "ea9bfaa0-7fca-41c1-d730-16eb456782fd"
      },
      "source": [
        "df_pyspark.na.fill('$$$VALUE_MISSING$$$','ProductName').show()"
      ],
      "execution_count": 31,
      "outputs": [
        {
          "output_type": "stream",
          "text": [
            "+---------+--------------------+----------+----------+--------------------+-----+\n",
            "|ProductID|         ProductName|SupplierID|CategoryID|                Unit|Price|\n",
            "+---------+--------------------+----------+----------+--------------------+-----+\n",
            "|        1|               Chais|         1|         1|  10 boxes x 20 bags| 18.0|\n",
            "|        2|               Chang|         1|         1|  24 - 12 oz bottles| 19.0|\n",
            "|        3|       Aniseed Syrup|         1|         2| 12 - 550 ml bottles| 10.0|\n",
            "|        4|Chef Anton's Caju...|         2|         2|      48 - 6 oz jars| 22.0|\n",
            "|        5|Chef Anton's Gumb...|         2|         2|            36 boxes|21.35|\n",
            "|        6|Grandma's Boysenb...|         3|         2|      12 - 8 oz jars| 25.0|\n",
            "|     null| $$$VALUE_MISSING$$$|      null|      null|                null| null|\n",
            "|        8|Northwoods Cranbe...|         3|         2|     12 - 12 oz jars| 40.0|\n",
            "|     null|     Mishi Kobe Niku|         4|         6|    18 - 500 g pkgs.| 97.0|\n",
            "|       10|               Ikura|      null|         8|    12 - 200 ml jars| 31.0|\n",
            "|       11|      Queso Cabrales|         5|      null|           1 kg pkg.| 21.0|\n",
            "|       12|Queso Manchego La...|         5|         4|                null| 38.0|\n",
            "|       13|               Konbu|         6|         8|            2 kg box| null|\n",
            "|       14|                Tofu|         6|         7|    40 - 100 g pkgs.|23.25|\n",
            "|       15|        Genen Shouyu|         6|         2| 24 - 250 ml bottles| 15.5|\n",
            "|       16|             Pavlova|         7|         3|    32 - 500 g boxes|17.45|\n",
            "|       17|        Alice Mutton|         7|         6|      20 - 1 kg tins| 39.0|\n",
            "|       18|    Carnarvon Tigers|         7|         8|          16 kg pkg.| 62.5|\n",
            "|       19|Teatime Chocolate...|         8|         3|10 boxes x 12 pieces|  9.2|\n",
            "|       20|Sir Rodney's Marm...|         8|         3|       30 gift boxes| 81.0|\n",
            "+---------+--------------------+----------+----------+--------------------+-----+\n",
            "only showing top 20 rows\n",
            "\n"
          ],
          "name": "stdout"
        }
      ]
    },
    {
      "cell_type": "code",
      "metadata": {
        "colab": {
          "base_uri": "https://localhost:8080/"
        },
        "id": "U4YTpuY19TG-",
        "outputId": "4bf028e8-28ea-4b21-825d-c08e1867c84c"
      },
      "source": [
        "df_pyspark.na.fill('$$$VALUE_MISSING$$$',['ProductName','Unit']).show()"
      ],
      "execution_count": 32,
      "outputs": [
        {
          "output_type": "stream",
          "text": [
            "+---------+--------------------+----------+----------+--------------------+-----+\n",
            "|ProductID|         ProductName|SupplierID|CategoryID|                Unit|Price|\n",
            "+---------+--------------------+----------+----------+--------------------+-----+\n",
            "|        1|               Chais|         1|         1|  10 boxes x 20 bags| 18.0|\n",
            "|        2|               Chang|         1|         1|  24 - 12 oz bottles| 19.0|\n",
            "|        3|       Aniseed Syrup|         1|         2| 12 - 550 ml bottles| 10.0|\n",
            "|        4|Chef Anton's Caju...|         2|         2|      48 - 6 oz jars| 22.0|\n",
            "|        5|Chef Anton's Gumb...|         2|         2|            36 boxes|21.35|\n",
            "|        6|Grandma's Boysenb...|         3|         2|      12 - 8 oz jars| 25.0|\n",
            "|     null| $$$VALUE_MISSING$$$|      null|      null| $$$VALUE_MISSING$$$| null|\n",
            "|        8|Northwoods Cranbe...|         3|         2|     12 - 12 oz jars| 40.0|\n",
            "|     null|     Mishi Kobe Niku|         4|         6|    18 - 500 g pkgs.| 97.0|\n",
            "|       10|               Ikura|      null|         8|    12 - 200 ml jars| 31.0|\n",
            "|       11|      Queso Cabrales|         5|      null|           1 kg pkg.| 21.0|\n",
            "|       12|Queso Manchego La...|         5|         4| $$$VALUE_MISSING$$$| 38.0|\n",
            "|       13|               Konbu|         6|         8|            2 kg box| null|\n",
            "|       14|                Tofu|         6|         7|    40 - 100 g pkgs.|23.25|\n",
            "|       15|        Genen Shouyu|         6|         2| 24 - 250 ml bottles| 15.5|\n",
            "|       16|             Pavlova|         7|         3|    32 - 500 g boxes|17.45|\n",
            "|       17|        Alice Mutton|         7|         6|      20 - 1 kg tins| 39.0|\n",
            "|       18|    Carnarvon Tigers|         7|         8|          16 kg pkg.| 62.5|\n",
            "|       19|Teatime Chocolate...|         8|         3|10 boxes x 12 pieces|  9.2|\n",
            "|       20|Sir Rodney's Marm...|         8|         3|       30 gift boxes| 81.0|\n",
            "+---------+--------------------+----------+----------+--------------------+-----+\n",
            "only showing top 20 rows\n",
            "\n"
          ],
          "name": "stdout"
        }
      ]
    },
    {
      "cell_type": "code",
      "metadata": {
        "colab": {
          "base_uri": "https://localhost:8080/"
        },
        "id": "lEfLTg5z_VM_",
        "outputId": "bcf72e2e-d797-4152-d367-6ec133c15b08"
      },
      "source": [
        "df_pyspark.na.fill('$$$VALUE_MISSING$$$',['ProductName','Price']).show()"
      ],
      "execution_count": 33,
      "outputs": [
        {
          "output_type": "stream",
          "text": [
            "+---------+--------------------+----------+----------+--------------------+-----+\n",
            "|ProductID|         ProductName|SupplierID|CategoryID|                Unit|Price|\n",
            "+---------+--------------------+----------+----------+--------------------+-----+\n",
            "|        1|               Chais|         1|         1|  10 boxes x 20 bags| 18.0|\n",
            "|        2|               Chang|         1|         1|  24 - 12 oz bottles| 19.0|\n",
            "|        3|       Aniseed Syrup|         1|         2| 12 - 550 ml bottles| 10.0|\n",
            "|        4|Chef Anton's Caju...|         2|         2|      48 - 6 oz jars| 22.0|\n",
            "|        5|Chef Anton's Gumb...|         2|         2|            36 boxes|21.35|\n",
            "|        6|Grandma's Boysenb...|         3|         2|      12 - 8 oz jars| 25.0|\n",
            "|     null| $$$VALUE_MISSING$$$|      null|      null|                null| null|\n",
            "|        8|Northwoods Cranbe...|         3|         2|     12 - 12 oz jars| 40.0|\n",
            "|     null|     Mishi Kobe Niku|         4|         6|    18 - 500 g pkgs.| 97.0|\n",
            "|       10|               Ikura|      null|         8|    12 - 200 ml jars| 31.0|\n",
            "|       11|      Queso Cabrales|         5|      null|           1 kg pkg.| 21.0|\n",
            "|       12|Queso Manchego La...|         5|         4|                null| 38.0|\n",
            "|       13|               Konbu|         6|         8|            2 kg box| null|\n",
            "|       14|                Tofu|         6|         7|    40 - 100 g pkgs.|23.25|\n",
            "|       15|        Genen Shouyu|         6|         2| 24 - 250 ml bottles| 15.5|\n",
            "|       16|             Pavlova|         7|         3|    32 - 500 g boxes|17.45|\n",
            "|       17|        Alice Mutton|         7|         6|      20 - 1 kg tins| 39.0|\n",
            "|       18|    Carnarvon Tigers|         7|         8|          16 kg pkg.| 62.5|\n",
            "|       19|Teatime Chocolate...|         8|         3|10 boxes x 12 pieces|  9.2|\n",
            "|       20|Sir Rodney's Marm...|         8|         3|       30 gift boxes| 81.0|\n",
            "+---------+--------------------+----------+----------+--------------------+-----+\n",
            "only showing top 20 rows\n",
            "\n"
          ],
          "name": "stdout"
        }
      ]
    },
    {
      "cell_type": "markdown",
      "metadata": {
        "id": "DzEAWHxLHmd2"
      },
      "source": [
        "### 4.3 Filling The Integer Column NULL Values with Mean / Meadian / Mode Of Presented Values In Them By Using Imputer Function"
      ]
    },
    {
      "cell_type": "code",
      "metadata": {
        "id": "AyIJKmsbH6v8"
      },
      "source": [
        "from pyspark.ml.feature import Imputer"
      ],
      "execution_count": 34,
      "outputs": []
    },
    {
      "cell_type": "code",
      "metadata": {
        "colab": {
          "base_uri": "https://localhost:8080/"
        },
        "id": "984iLgg5TDTw",
        "outputId": "770d986c-3954-457e-c552-c76ff60210af"
      },
      "source": [
        "# Filling Mean Values at NULL\n",
        "\n",
        "imputer=Imputer(\n",
        "    inputCols=['ProductID','SupplierID','CategoryID','Price'],\n",
        "    outputCols=['ProductID','SupplierID','CategoryID','Price']\n",
        ").setStrategy('mean')\n",
        "\n",
        "imputer.fit(df_pyspark).transform(df_pyspark).show()"
      ],
      "execution_count": 35,
      "outputs": [
        {
          "output_type": "stream",
          "text": [
            "+---------+--------------------+----------+----------+--------------------+------------------+\n",
            "|ProductID|         ProductName|SupplierID|CategoryID|                Unit|             Price|\n",
            "+---------+--------------------+----------+----------+--------------------+------------------+\n",
            "|        1|               Chais|         1|         1|  10 boxes x 20 bags|              18.0|\n",
            "|        2|               Chang|         1|         1|  24 - 12 oz bottles|              19.0|\n",
            "|        3|       Aniseed Syrup|         1|         2| 12 - 550 ml bottles|              10.0|\n",
            "|        4|Chef Anton's Caju...|         2|         2|      48 - 6 oz jars|              22.0|\n",
            "|        5|Chef Anton's Gumb...|         2|         2|            36 boxes|             21.35|\n",
            "|        6|Grandma's Boysenb...|         3|         2|      12 - 8 oz jars|              25.0|\n",
            "|       39|                null|        13|         4|                null|29.156133333333333|\n",
            "|        8|Northwoods Cranbe...|         3|         2|     12 - 12 oz jars|              40.0|\n",
            "|       39|     Mishi Kobe Niku|         4|         6|    18 - 500 g pkgs.|              97.0|\n",
            "|       10|               Ikura|        13|         8|    12 - 200 ml jars|              31.0|\n",
            "|       11|      Queso Cabrales|         5|         4|           1 kg pkg.|              21.0|\n",
            "|       12|Queso Manchego La...|         5|         4|                null|              38.0|\n",
            "|       13|               Konbu|         6|         8|            2 kg box|29.156133333333333|\n",
            "|       14|                Tofu|         6|         7|    40 - 100 g pkgs.|             23.25|\n",
            "|       15|        Genen Shouyu|         6|         2| 24 - 250 ml bottles|              15.5|\n",
            "|       16|             Pavlova|         7|         3|    32 - 500 g boxes|             17.45|\n",
            "|       17|        Alice Mutton|         7|         6|      20 - 1 kg tins|              39.0|\n",
            "|       18|    Carnarvon Tigers|         7|         8|          16 kg pkg.|              62.5|\n",
            "|       19|Teatime Chocolate...|         8|         3|10 boxes x 12 pieces|               9.2|\n",
            "|       20|Sir Rodney's Marm...|         8|         3|       30 gift boxes|              81.0|\n",
            "+---------+--------------------+----------+----------+--------------------+------------------+\n",
            "only showing top 20 rows\n",
            "\n"
          ],
          "name": "stdout"
        }
      ]
    },
    {
      "cell_type": "code",
      "metadata": {
        "colab": {
          "base_uri": "https://localhost:8080/"
        },
        "id": "dehtDrY2UZkp",
        "outputId": "0a9f86be-701d-48b8-dd14-452fdb1c1598"
      },
      "source": [
        "# Filling Median Values at NULL\n",
        "\n",
        "imputer=Imputer(\n",
        "    inputCols=['ProductID','SupplierID','CategoryID','Price'],\n",
        "    outputCols=['ProductID','SupplierID','CategoryID','Price']\n",
        ").setStrategy('median')\n",
        "\n",
        "imputer.fit(df_pyspark).transform(df_pyspark).show()"
      ],
      "execution_count": 36,
      "outputs": [
        {
          "output_type": "stream",
          "text": [
            "+---------+--------------------+----------+----------+--------------------+-----+\n",
            "|ProductID|         ProductName|SupplierID|CategoryID|                Unit|Price|\n",
            "+---------+--------------------+----------+----------+--------------------+-----+\n",
            "|        1|               Chais|         1|         1|  10 boxes x 20 bags| 18.0|\n",
            "|        2|               Chang|         1|         1|  24 - 12 oz bottles| 19.0|\n",
            "|        3|       Aniseed Syrup|         1|         2| 12 - 550 ml bottles| 10.0|\n",
            "|        4|Chef Anton's Caju...|         2|         2|      48 - 6 oz jars| 22.0|\n",
            "|        5|Chef Anton's Gumb...|         2|         2|            36 boxes|21.35|\n",
            "|        6|Grandma's Boysenb...|         3|         2|      12 - 8 oz jars| 25.0|\n",
            "|       40|                null|        14|         4|                null| 19.5|\n",
            "|        8|Northwoods Cranbe...|         3|         2|     12 - 12 oz jars| 40.0|\n",
            "|       40|     Mishi Kobe Niku|         4|         6|    18 - 500 g pkgs.| 97.0|\n",
            "|       10|               Ikura|        14|         8|    12 - 200 ml jars| 31.0|\n",
            "|       11|      Queso Cabrales|         5|         4|           1 kg pkg.| 21.0|\n",
            "|       12|Queso Manchego La...|         5|         4|                null| 38.0|\n",
            "|       13|               Konbu|         6|         8|            2 kg box| 19.5|\n",
            "|       14|                Tofu|         6|         7|    40 - 100 g pkgs.|23.25|\n",
            "|       15|        Genen Shouyu|         6|         2| 24 - 250 ml bottles| 15.5|\n",
            "|       16|             Pavlova|         7|         3|    32 - 500 g boxes|17.45|\n",
            "|       17|        Alice Mutton|         7|         6|      20 - 1 kg tins| 39.0|\n",
            "|       18|    Carnarvon Tigers|         7|         8|          16 kg pkg.| 62.5|\n",
            "|       19|Teatime Chocolate...|         8|         3|10 boxes x 12 pieces|  9.2|\n",
            "|       20|Sir Rodney's Marm...|         8|         3|       30 gift boxes| 81.0|\n",
            "+---------+--------------------+----------+----------+--------------------+-----+\n",
            "only showing top 20 rows\n",
            "\n"
          ],
          "name": "stdout"
        }
      ]
    },
    {
      "cell_type": "code",
      "metadata": {
        "colab": {
          "base_uri": "https://localhost:8080/"
        },
        "id": "RBprtXqgUjY2",
        "outputId": "1a71b25e-90d7-47b6-ac99-347957504ddd"
      },
      "source": [
        "# Filling Mode Values at NULL\n",
        "\n",
        "imputer=Imputer(\n",
        "    inputCols=['ProductID','SupplierID','CategoryID','Price'],\n",
        "    outputCols=['ProductID','SupplierID','CategoryID','Price']\n",
        ").setStrategy('mode')\n",
        "\n",
        "imputer.fit(df_pyspark).transform(df_pyspark).show()"
      ],
      "execution_count": 37,
      "outputs": [
        {
          "output_type": "stream",
          "text": [
            "+---------+--------------------+----------+----------+--------------------+-----+\n",
            "|ProductID|         ProductName|SupplierID|CategoryID|                Unit|Price|\n",
            "+---------+--------------------+----------+----------+--------------------+-----+\n",
            "|        1|               Chais|         1|         1|  10 boxes x 20 bags| 18.0|\n",
            "|        2|               Chang|         1|         1|  24 - 12 oz bottles| 19.0|\n",
            "|        3|       Aniseed Syrup|         1|         2| 12 - 550 ml bottles| 10.0|\n",
            "|        4|Chef Anton's Caju...|         2|         2|      48 - 6 oz jars| 22.0|\n",
            "|        5|Chef Anton's Gumb...|         2|         2|            36 boxes|21.35|\n",
            "|        6|Grandma's Boysenb...|         3|         2|      12 - 8 oz jars| 25.0|\n",
            "|        1|                null|         7|         3|                null| 14.0|\n",
            "|        8|Northwoods Cranbe...|         3|         2|     12 - 12 oz jars| 40.0|\n",
            "|        1|     Mishi Kobe Niku|         4|         6|    18 - 500 g pkgs.| 97.0|\n",
            "|       10|               Ikura|         7|         8|    12 - 200 ml jars| 31.0|\n",
            "|       11|      Queso Cabrales|         5|         3|           1 kg pkg.| 21.0|\n",
            "|       12|Queso Manchego La...|         5|         4|                null| 38.0|\n",
            "|       13|               Konbu|         6|         8|            2 kg box| 14.0|\n",
            "|       14|                Tofu|         6|         7|    40 - 100 g pkgs.|23.25|\n",
            "|       15|        Genen Shouyu|         6|         2| 24 - 250 ml bottles| 15.5|\n",
            "|       16|             Pavlova|         7|         3|    32 - 500 g boxes|17.45|\n",
            "|       17|        Alice Mutton|         7|         6|      20 - 1 kg tins| 39.0|\n",
            "|       18|    Carnarvon Tigers|         7|         8|          16 kg pkg.| 62.5|\n",
            "|       19|Teatime Chocolate...|         8|         3|10 boxes x 12 pieces|  9.2|\n",
            "|       20|Sir Rodney's Marm...|         8|         3|       30 gift boxes| 81.0|\n",
            "+---------+--------------------+----------+----------+--------------------+-----+\n",
            "only showing top 20 rows\n",
            "\n"
          ],
          "name": "stdout"
        }
      ]
    },
    {
      "cell_type": "markdown",
      "metadata": {
        "id": "kpYXx6ovhadd"
      },
      "source": [
        "# ***5. Filter Operations***"
      ]
    },
    {
      "cell_type": "code",
      "metadata": {
        "colab": {
          "base_uri": "https://localhost:8080/"
        },
        "id": "2LvBJw4PhoOq",
        "outputId": "3da3e424-0acb-4bed-eee2-1354670fb435"
      },
      "source": [
        "df_pyspark.filter('Price>20').show()"
      ],
      "execution_count": 38,
      "outputs": [
        {
          "output_type": "stream",
          "text": [
            "+---------+--------------------+----------+----------+--------------------+------+\n",
            "|ProductID|         ProductName|SupplierID|CategoryID|                Unit| Price|\n",
            "+---------+--------------------+----------+----------+--------------------+------+\n",
            "|        4|Chef Anton's Caju...|         2|         2|      48 - 6 oz jars|  22.0|\n",
            "|        5|Chef Anton's Gumb...|         2|         2|            36 boxes| 21.35|\n",
            "|        6|Grandma's Boysenb...|         3|         2|      12 - 8 oz jars|  25.0|\n",
            "|        8|Northwoods Cranbe...|         3|         2|     12 - 12 oz jars|  40.0|\n",
            "|     null|     Mishi Kobe Niku|         4|         6|    18 - 500 g pkgs.|  97.0|\n",
            "|       10|               Ikura|      null|         8|    12 - 200 ml jars|  31.0|\n",
            "|       11|      Queso Cabrales|         5|      null|           1 kg pkg.|  21.0|\n",
            "|       12|Queso Manchego La...|         5|         4|                null|  38.0|\n",
            "|       14|                Tofu|         6|         7|    40 - 100 g pkgs.| 23.25|\n",
            "|       17|        Alice Mutton|         7|         6|      20 - 1 kg tins|  39.0|\n",
            "|       18|    Carnarvon Tigers|         7|         8|          16 kg pkg.|  62.5|\n",
            "|       20|Sir Rodney's Marm...|         8|         3|       30 gift boxes|  81.0|\n",
            "|       22| Gustaf's Kn�ckebr�d|         9|         5|    24 - 500 g pkgs.|  21.0|\n",
            "|       26| Gumb�r Gummib�rchen|        11|         3|    100 - 250 g bags| 31.23|\n",
            "|       27|  Schoggi Schokolade|        11|         3|  100 - 100 g pieces|  43.9|\n",
            "|       28|   R�ssle Sauerkraut|        12|         7|     25 - 825 g cans|  45.6|\n",
            "|       29|Th�ringer Rostbra...|        12|         6|50 bags x 30 sausgs.|123.79|\n",
            "|       30|Nord-Ost Matjeshe...|        13|         8|  10 - 200 g glasses| 25.89|\n",
            "|       32|  Mascarpone Fabioli|        14|         4|    24 - 200 g pkgs.|  32.0|\n",
            "|       37|          Gravad lax|        17|         8|    12 - 500 g pkgs.|  26.0|\n",
            "+---------+--------------------+----------+----------+--------------------+------+\n",
            "only showing top 20 rows\n",
            "\n"
          ],
          "name": "stdout"
        }
      ]
    },
    {
      "cell_type": "markdown",
      "metadata": {
        "id": "p413mTa5h6lo"
      },
      "source": [
        "### 5.1 Selecting Particular Columns With Filter Operation"
      ]
    },
    {
      "cell_type": "code",
      "metadata": {
        "colab": {
          "base_uri": "https://localhost:8080/"
        },
        "id": "DyC9WdyMiA4C",
        "outputId": "70377e2f-bf50-4e43-f8cc-1e020c4dd5b2"
      },
      "source": [
        "df_pyspark.filter('Price>20').select(['ProductID','ProductName','Unit']).show()"
      ],
      "execution_count": 39,
      "outputs": [
        {
          "output_type": "stream",
          "text": [
            "+---------+--------------------+--------------------+\n",
            "|ProductID|         ProductName|                Unit|\n",
            "+---------+--------------------+--------------------+\n",
            "|        4|Chef Anton's Caju...|      48 - 6 oz jars|\n",
            "|        5|Chef Anton's Gumb...|            36 boxes|\n",
            "|        6|Grandma's Boysenb...|      12 - 8 oz jars|\n",
            "|        8|Northwoods Cranbe...|     12 - 12 oz jars|\n",
            "|     null|     Mishi Kobe Niku|    18 - 500 g pkgs.|\n",
            "|       10|               Ikura|    12 - 200 ml jars|\n",
            "|       11|      Queso Cabrales|           1 kg pkg.|\n",
            "|       12|Queso Manchego La...|                null|\n",
            "|       14|                Tofu|    40 - 100 g pkgs.|\n",
            "|       17|        Alice Mutton|      20 - 1 kg tins|\n",
            "|       18|    Carnarvon Tigers|          16 kg pkg.|\n",
            "|       20|Sir Rodney's Marm...|       30 gift boxes|\n",
            "|       22| Gustaf's Kn�ckebr�d|    24 - 500 g pkgs.|\n",
            "|       26| Gumb�r Gummib�rchen|    100 - 250 g bags|\n",
            "|       27|  Schoggi Schokolade|  100 - 100 g pieces|\n",
            "|       28|   R�ssle Sauerkraut|     25 - 825 g cans|\n",
            "|       29|Th�ringer Rostbra...|50 bags x 30 sausgs.|\n",
            "|       30|Nord-Ost Matjeshe...|  10 - 200 g glasses|\n",
            "|       32|  Mascarpone Fabioli|    24 - 200 g pkgs.|\n",
            "|       37|          Gravad lax|    12 - 500 g pkgs.|\n",
            "+---------+--------------------+--------------------+\n",
            "only showing top 20 rows\n",
            "\n"
          ],
          "name": "stdout"
        }
      ]
    },
    {
      "cell_type": "markdown",
      "metadata": {
        "id": "rJQnQ_U6hnul"
      },
      "source": [
        "### 5.2 Filtering With & (AND), | (OR) , ~ (NOT)"
      ]
    },
    {
      "cell_type": "code",
      "metadata": {
        "colab": {
          "base_uri": "https://localhost:8080/"
        },
        "id": "73JWa33NiniC",
        "outputId": "b2ed72da-73e2-428a-c99a-7d823a8b022a"
      },
      "source": [
        "# & (And Operator)\n",
        "\n",
        "df_pyspark.filter((df_pyspark['Price']>20) & (df_pyspark['ProductID']> 50)).select('ProductID','Price').show()"
      ],
      "execution_count": 40,
      "outputs": [
        {
          "output_type": "stream",
          "text": [
            "+---------+-----+\n",
            "|ProductID|Price|\n",
            "+---------+-----+\n",
            "|       51| 53.0|\n",
            "|       53| 32.8|\n",
            "|       55| 24.0|\n",
            "|       56| 38.0|\n",
            "|       59| 55.0|\n",
            "|       60| 34.0|\n",
            "|       61| 28.5|\n",
            "|       62| 49.3|\n",
            "|       63| 43.9|\n",
            "|       64|33.25|\n",
            "|       65|21.05|\n",
            "|       69| 36.0|\n",
            "|       71| 21.5|\n",
            "|       72| 34.8|\n",
            "+---------+-----+\n",
            "\n"
          ],
          "name": "stdout"
        }
      ]
    },
    {
      "cell_type": "code",
      "metadata": {
        "colab": {
          "base_uri": "https://localhost:8080/"
        },
        "id": "VouNUqspjoMl",
        "outputId": "f93feeca-0fdd-4866-e14d-60cb1e11fba9"
      },
      "source": [
        "# | (Or Operator)\n",
        "\n",
        "df_pyspark.filter((df_pyspark['Price']==20) | (df_pyspark['ProductID']<5)).select('ProductID','Price').show()"
      ],
      "execution_count": 41,
      "outputs": [
        {
          "output_type": "stream",
          "text": [
            "+---------+-----+\n",
            "|ProductID|Price|\n",
            "+---------+-----+\n",
            "|        1| 18.0|\n",
            "|        2| 19.0|\n",
            "|        3| 10.0|\n",
            "|        4| 22.0|\n",
            "|       49| 20.0|\n",
            "+---------+-----+\n",
            "\n"
          ],
          "name": "stdout"
        }
      ]
    },
    {
      "cell_type": "code",
      "metadata": {
        "colab": {
          "base_uri": "https://localhost:8080/"
        },
        "id": "UaHXG4MGkvHf",
        "outputId": "7b8d62f0-e51a-4094-d2f7-f70265cc9252"
      },
      "source": [
        "# ~ (Not Operator)\n",
        "\n",
        "df_pyspark.filter(~ (df_pyspark['Price']>15)).select('Price').show()"
      ],
      "execution_count": 42,
      "outputs": [
        {
          "output_type": "stream",
          "text": [
            "+-----+\n",
            "|Price|\n",
            "+-----+\n",
            "| 10.0|\n",
            "|  9.2|\n",
            "| 10.0|\n",
            "|  9.0|\n",
            "|  4.5|\n",
            "| 14.0|\n",
            "| 12.5|\n",
            "|  2.5|\n",
            "| 14.0|\n",
            "| 9.65|\n",
            "| 14.0|\n",
            "|  9.5|\n",
            "| 12.0|\n",
            "|  9.5|\n",
            "|12.75|\n",
            "|  7.0|\n",
            "| 7.45|\n",
            "|13.25|\n",
            "| 14.0|\n",
            "| 12.5|\n",
            "+-----+\n",
            "only showing top 20 rows\n",
            "\n"
          ],
          "name": "stdout"
        }
      ]
    },
    {
      "cell_type": "markdown",
      "metadata": {
        "id": "_O0ywrCXlpQo"
      },
      "source": [
        "# ***6. GROUP BY AND AGGREGATE FUNCTIONS***\n",
        "\n",
        "Aggregate funtions: - sum(), count(), mean(), agg(), max(), min()"
      ]
    },
    {
      "cell_type": "code",
      "metadata": {
        "colab": {
          "base_uri": "https://localhost:8080/"
        },
        "id": "D2xpw2h5sv2z",
        "outputId": "5929e6d8-e5e5-4f16-e4a3-36c163937505"
      },
      "source": [
        "#Importing new data frame\n",
        "\n",
        "df_pyspark=spark.read.csv('test1.csv',header=True,inferSchema=True)\n",
        "df_pyspark.show()"
      ],
      "execution_count": 43,
      "outputs": [
        {
          "output_type": "stream",
          "text": [
            "+----------+--------------------+------------------+--------------------+------------+----------+-----------+\n",
            "|CustomerID|        CustomerName|       ContactName|             Address|        City|PostalCode|    Country|\n",
            "+----------+--------------------+------------------+--------------------+------------+----------+-----------+\n",
            "|         1| Alfreds Futterkiste|      Maria Anders|       Obere Str. 57|      Berlin|     12209|    Germany|\n",
            "|         2|Ana Trujillo Empa...|      Ana Trujillo|Avda. de la Const...| M�xico D.F.|      5021|     Mexico|\n",
            "|         3|Antonio Moreno Ta...|    Antonio Moreno|      Mataderos 2312| M�xico D.F.|      5023|     Mexico|\n",
            "|         4|     Around the Horn|      Thomas Hardy|     120 Hanover Sq.|      London|   WA1 1DP|         UK|\n",
            "|         5|  Berglunds snabbk�p|Christina Berglund|      Berguvsv�gen 8|       Lule�|  S-958 22|     Sweden|\n",
            "|         6|Blauer See Delika...|        Hanna Moos|      Forsterstr. 57|    Mannheim|     68306|    Germany|\n",
            "|         7|Blondel p�re et fils|Fr�d�rique Citeaux|    24, place Kl�ber|  Strasbourg|     67000|     France|\n",
            "|         8|B�lido Comidas pr...|     Mart�n Sommer|      C/ Araquil, 67|      Madrid|     28023|      Spain|\n",
            "|         9|            Bon app'| Laurence Lebihans|12, rue des Bouchers|   Marseille|     13008|     France|\n",
            "|        10|Bottom-Dollar Mar...| Elizabeth Lincoln|  23 Tsawassen Blvd.|   Tsawassen|   T2F 8M4|     Canada|\n",
            "|        11|       B's Beverages| Victoria Ashworth|   Fauntleroy Circus|      London|   EC2 5NT|         UK|\n",
            "|        12|Cactus Comidas pa...|  Patricio Simpson|         Cerrito 333|Buenos Aires|      1010|  Argentina|\n",
            "|        13|Centro comercial ...|   Francisco Chang|Sierras de Granad...| M�xico D.F.|      5022|     Mexico|\n",
            "|        14|   Chop-suey Chinese|         Yang Wang|        Hauptstr. 29|        Bern|      3012|Switzerland|\n",
            "|        15|    Com�rcio Mineiro|      Pedro Afonso|Av. dos Lus�adas, 23|   S�o Paulo| 05432-043|     Brazil|\n",
            "|        16|Consolidated Hold...|   Elizabeth Brown|Berkeley Gardens ...|      London|   WX1 6LT|         UK|\n",
            "|        17|Drachenblut Delik...|      Sven Ottlieb|        Walserweg 21|      Aachen|     52066|    Germany|\n",
            "|        18|     Du monde entier|    Janine Labrune|67, rue des Cinqu...|      Nantes|     44000|     France|\n",
            "|        19|  Eastern Connection|         Ann Devon|      35 King George|      London|   WX3 6FW|         UK|\n",
            "|        20|        Ernst Handel|     Roland Mendel|        Kirchgasse 6|        Graz|      8010|    Austria|\n",
            "+----------+--------------------+------------------+--------------------+------------+----------+-----------+\n",
            "only showing top 20 rows\n",
            "\n"
          ],
          "name": "stdout"
        }
      ]
    },
    {
      "cell_type": "markdown",
      "metadata": {
        "id": "12o39wRxlynf"
      },
      "source": [
        "### 6.1 GroupBy & Aggregate on particular columns"
      ]
    },
    {
      "cell_type": "code",
      "metadata": {
        "colab": {
          "base_uri": "https://localhost:8080/"
        },
        "id": "rUMLoxRFC4Jy",
        "outputId": "3fcc57bb-c4d0-421c-b40b-e4c33982b402"
      },
      "source": [
        "#getting country-wise customer count\n",
        "\n",
        "df_pyspark.groupBy('Country').count().orderBy('count').show()"
      ],
      "execution_count": 60,
      "outputs": [
        {
          "output_type": "stream",
          "text": [
            "+-----------+-----+\n",
            "|    Country|count|\n",
            "+-----------+-----+\n",
            "|    Ireland|    1|\n",
            "|     Poland|    1|\n",
            "|     Norway|    1|\n",
            "|    Denmark|    2|\n",
            "|    Belgium|    2|\n",
            "|    Finland|    2|\n",
            "|Switzerland|    2|\n",
            "|     Sweden|    2|\n",
            "|   Portugal|    2|\n",
            "|    Austria|    2|\n",
            "|     Canada|    3|\n",
            "|  Argentina|    3|\n",
            "|      Italy|    3|\n",
            "|  Venezuela|    4|\n",
            "|      Spain|    5|\n",
            "|     Mexico|    5|\n",
            "|         UK|    7|\n",
            "|     Brazil|    9|\n",
            "|    Germany|   11|\n",
            "|     France|   11|\n",
            "+-----------+-----+\n",
            "only showing top 20 rows\n",
            "\n"
          ],
          "name": "stdout"
        }
      ]
    },
    {
      "cell_type": "code",
      "metadata": {
        "colab": {
          "base_uri": "https://localhost:8080/"
        },
        "id": "IYWDixYZDxko",
        "outputId": "a53cd0c1-aab0-4e25-c267-dbffa2b18e38"
      },
      "source": [
        "#getting city-wise group by country... customer count \n",
        "\n",
        "df_pyspark.groupBy('Country','City').count().show()"
      ],
      "execution_count": 67,
      "outputs": [
        {
          "output_type": "stream",
          "text": [
            "+-----------+--------------+-----+\n",
            "|    Country|          City|count|\n",
            "+-----------+--------------+-----+\n",
            "|     Mexico|   M�xico D.F.|    5|\n",
            "|    Denmark|         �rhus|    1|\n",
            "|    Belgium|     Charleroi|    1|\n",
            "|Switzerland|          Bern|    1|\n",
            "|        USA|   Albuquerque|    1|\n",
            "|    Germany|Frankfurt a.M.|    1|\n",
            "|         UK|        London|    6|\n",
            "|    Austria|      Salzburg|    1|\n",
            "|      Italy|       Bergamo|    1|\n",
            "|        USA|         Boise|    1|\n",
            "|        USA| San Francisco|    1|\n",
            "|     Poland|         Walla|    1|\n",
            "|    Germany|     Cunewalde|    1|\n",
            "|    Germany|          K�ln|    1|\n",
            "|      Spain|       Sevilla|    1|\n",
            "|     Brazil|       Resende|    1|\n",
            "|     France|    Versailles|    1|\n",
            "|      Spain|        Madrid|    3|\n",
            "|     Norway|       Stavern|    1|\n",
            "|     Brazil|     S�o Paulo|    4|\n",
            "+-----------+--------------+-----+\n",
            "only showing top 20 rows\n",
            "\n"
          ],
          "name": "stdout"
        }
      ]
    },
    {
      "cell_type": "markdown",
      "metadata": {
        "id": "w_gg136CU7Rt"
      },
      "source": [
        "### 6.2 Another Method To Use Aggregate Functions"
      ]
    },
    {
      "cell_type": "code",
      "metadata": {
        "colab": {
          "base_uri": "https://localhost:8080/"
        },
        "id": "_wT_olLKQisD",
        "outputId": "dafe3cba-79ea-4ebf-bfba-887acfdfc35f"
      },
      "source": [
        "#max country name\n",
        "#max customerID\n",
        "#max customerID country-wise\n",
        "\n",
        "df_pyspark.agg({'Country':'max'}).show()\n",
        "\n",
        "df_pyspark.agg({'CustomerID':'max'}).show()\n",
        "\n",
        "df_pyspark.groupBy('Country').agg({'CustomerID':'max'}).show()"
      ],
      "execution_count": 77,
      "outputs": [
        {
          "output_type": "stream",
          "text": [
            "+------------+\n",
            "|max(Country)|\n",
            "+------------+\n",
            "|   Venezuela|\n",
            "+------------+\n",
            "\n",
            "+---------------+\n",
            "|max(CustomerID)|\n",
            "+---------------+\n",
            "|             91|\n",
            "+---------------+\n",
            "\n",
            "+-----------+---------------+\n",
            "|    Country|max(CustomerID)|\n",
            "+-----------+---------------+\n",
            "|     Sweden|             24|\n",
            "|    Germany|             86|\n",
            "|     France|             85|\n",
            "|  Argentina|             64|\n",
            "|    Belgium|             76|\n",
            "|    Finland|             90|\n",
            "|      Italy|             66|\n",
            "|     Norway|             70|\n",
            "|      Spain|             69|\n",
            "|    Denmark|             83|\n",
            "|    Ireland|             37|\n",
            "|  Venezuela|             47|\n",
            "|        USA|             89|\n",
            "|     Mexico|             80|\n",
            "|         UK|             72|\n",
            "|Switzerland|             68|\n",
            "|     Canada|             51|\n",
            "|     Brazil|             88|\n",
            "|     Poland|             91|\n",
            "|   Portugal|             60|\n",
            "+-----------+---------------+\n",
            "only showing top 20 rows\n",
            "\n"
          ],
          "name": "stdout"
        }
      ]
    }
  ]
}