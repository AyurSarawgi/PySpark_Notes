{
  "nbformat": 4,
  "nbformat_minor": 0,
  "metadata": {
    "colab": {
      "name": "PySpark_Practice-1.ipynb",
      "provenance": [],
      "collapsed_sections": [],
      "authorship_tag": "ABX9TyPdCWBczlttNS9QikUKYTSi",
      "include_colab_link": true
    },
    "kernelspec": {
      "name": "python3",
      "display_name": "Python 3"
    },
    "language_info": {
      "name": "python"
    }
  },
  "cells": [
    {
      "cell_type": "markdown",
      "metadata": {
        "id": "view-in-github",
        "colab_type": "text"
      },
      "source": [
        "<a href=\"https://colab.research.google.com/github/AyurSarawgi/PySpark_Notes/blob/main/PySpark_Practice_1.ipynb\" target=\"_parent\"><img src=\"https://colab.research.google.com/assets/colab-badge.svg\" alt=\"Open In Colab\"/></a>"
      ]
    },
    {
      "cell_type": "code",
      "metadata": {
        "colab": {
          "base_uri": "https://localhost:8080/"
        },
        "id": "PPb_whXhgBgn",
        "outputId": "2d8370fa-9eaf-4e77-a328-37540b0dd2a9"
      },
      "source": [
        "#@title Default title text\n",
        "!pip install pyspark"
      ],
      "execution_count": 5,
      "outputs": [
        {
          "output_type": "stream",
          "name": "stdout",
          "text": [
            "Requirement already satisfied: pyspark in /usr/local/lib/python3.7/dist-packages (3.2.0)\n",
            "Requirement already satisfied: py4j==0.10.9.2 in /usr/local/lib/python3.7/dist-packages (from pyspark) (0.10.9.2)\n"
          ]
        }
      ]
    },
    {
      "cell_type": "code",
      "metadata": {
        "id": "RKPWZDotg4QJ"
      },
      "source": [
        "import pyspark"
      ],
      "execution_count": 6,
      "outputs": []
    },
    {
      "cell_type": "code",
      "metadata": {
        "id": "CUqnDDvkg8QS"
      },
      "source": [
        "#For Creating SparkSession\n",
        "from pyspark.sql import SparkSession\n",
        "\n",
        "#For using pyspark dataTypes\n",
        "from pyspark.sql.types import StructType\n",
        "from pyspark.sql.types import StructField\n",
        "from pyspark.sql.types import DateType\n",
        "from pyspark.sql.types import IntegerType\n",
        "from pyspark.sql.types import StringType\n",
        "from pyspark.sql import types\n",
        "\n",
        "#For getting partition Id\n",
        "from pyspark.sql.functions import spark_partition_id "
      ],
      "execution_count": 7,
      "outputs": []
    },
    {
      "cell_type": "code",
      "metadata": {
        "id": "Vzba94z1g8yZ"
      },
      "source": [
        "spark=SparkSession.builder.appName('Practice-1').getOrCreate()"
      ],
      "execution_count": 8,
      "outputs": []
    },
    {
      "cell_type": "markdown",
      "metadata": {
        "id": "DfwiJrQUhWSA"
      },
      "source": [
        "# ***1.READING A FILE***"
      ]
    },
    {
      "cell_type": "code",
      "metadata": {
        "colab": {
          "base_uri": "https://localhost:8080/"
        },
        "id": "YgO7SGl8hkGC",
        "outputId": "e74d3c89-83a2-48f5-9562-fe4c973a056f"
      },
      "source": [
        "df_pyspark=spark.read.csv('test.csv')\n",
        "df_pyspark.show()"
      ],
      "execution_count": 9,
      "outputs": [
        {
          "output_type": "stream",
          "name": "stdout",
          "text": [
            "+---------+--------------------+----------+----------+--------------------+-----+\n",
            "|      _c0|                 _c1|       _c2|       _c3|                 _c4|  _c5|\n",
            "+---------+--------------------+----------+----------+--------------------+-----+\n",
            "|ProductID|         ProductName|SupplierID|CategoryID|                Unit|Price|\n",
            "|        1|               Chais|         1|         1|  10 boxes x 20 bags|   18|\n",
            "|        2|               Chang|         1|         1|  24 - 12 oz bottles|   19|\n",
            "|        3|       Aniseed Syrup|         1|         2| 12 - 550 ml bottles|   10|\n",
            "|        4|Chef Anton's Caju...|         2|         2|      48 - 6 oz jars|   22|\n",
            "|        5|Chef Anton's Gumb...|         2|         2|            36 boxes|21.35|\n",
            "|        6|Grandma's Boysenb...|         3|         2|      12 - 8 oz jars|   25|\n",
            "|     null|                null|      null|      null|                null| null|\n",
            "|        8|Northwoods Cranbe...|         3|         2|     12 - 12 oz jars|   40|\n",
            "|     null|     Mishi Kobe Niku|         4|         6|    18 - 500 g pkgs.|   97|\n",
            "|       10|               Ikura|      null|         8|    12 - 200 ml jars|   31|\n",
            "|       11|      Queso Cabrales|         5|      null|           1 kg pkg.|   21|\n",
            "|       12|Queso Manchego La...|         5|         4|                null|   38|\n",
            "|       13|               Konbu|         6|         8|            2 kg box| null|\n",
            "|       14|                Tofu|         6|         7|    40 - 100 g pkgs.|23.25|\n",
            "|       15|        Genen Shouyu|         6|         2| 24 - 250 ml bottles| 15.5|\n",
            "|       16|             Pavlova|         7|         3|    32 - 500 g boxes|17.45|\n",
            "|       17|        Alice Mutton|         7|         6|      20 - 1 kg tins|   39|\n",
            "|       18|    Carnarvon Tigers|         7|         8|          16 kg pkg.| 62.5|\n",
            "|       19|Teatime Chocolate...|         8|         3|10 boxes x 12 pieces|  9.2|\n",
            "+---------+--------------------+----------+----------+--------------------+-----+\n",
            "only showing top 20 rows\n",
            "\n"
          ]
        }
      ]
    },
    {
      "cell_type": "markdown",
      "metadata": {
        "id": "U1lWD0mEmalj"
      },
      "source": [
        "### 1.1 Reading Files With Header"
      ]
    },
    {
      "cell_type": "code",
      "metadata": {
        "id": "hTUKJHMvmjgl",
        "colab": {
          "base_uri": "https://localhost:8080/"
        },
        "outputId": "55804ef0-2415-44cb-91bc-d39447f408f8"
      },
      "source": [
        "df_pyspark=spark.read.option('header','true').csv('test.csv')\n",
        "df_pyspark.show()"
      ],
      "execution_count": 10,
      "outputs": [
        {
          "output_type": "stream",
          "name": "stdout",
          "text": [
            "+---------+--------------------+----------+----------+--------------------+-----+\n",
            "|ProductID|         ProductName|SupplierID|CategoryID|                Unit|Price|\n",
            "+---------+--------------------+----------+----------+--------------------+-----+\n",
            "|        1|               Chais|         1|         1|  10 boxes x 20 bags|   18|\n",
            "|        2|               Chang|         1|         1|  24 - 12 oz bottles|   19|\n",
            "|        3|       Aniseed Syrup|         1|         2| 12 - 550 ml bottles|   10|\n",
            "|        4|Chef Anton's Caju...|         2|         2|      48 - 6 oz jars|   22|\n",
            "|        5|Chef Anton's Gumb...|         2|         2|            36 boxes|21.35|\n",
            "|        6|Grandma's Boysenb...|         3|         2|      12 - 8 oz jars|   25|\n",
            "|     null|                null|      null|      null|                null| null|\n",
            "|        8|Northwoods Cranbe...|         3|         2|     12 - 12 oz jars|   40|\n",
            "|     null|     Mishi Kobe Niku|         4|         6|    18 - 500 g pkgs.|   97|\n",
            "|       10|               Ikura|      null|         8|    12 - 200 ml jars|   31|\n",
            "|       11|      Queso Cabrales|         5|      null|           1 kg pkg.|   21|\n",
            "|       12|Queso Manchego La...|         5|         4|                null|   38|\n",
            "|       13|               Konbu|         6|         8|            2 kg box| null|\n",
            "|       14|                Tofu|         6|         7|    40 - 100 g pkgs.|23.25|\n",
            "|       15|        Genen Shouyu|         6|         2| 24 - 250 ml bottles| 15.5|\n",
            "|       16|             Pavlova|         7|         3|    32 - 500 g boxes|17.45|\n",
            "|       17|        Alice Mutton|         7|         6|      20 - 1 kg tins|   39|\n",
            "|       18|    Carnarvon Tigers|         7|         8|          16 kg pkg.| 62.5|\n",
            "|       19|Teatime Chocolate...|         8|         3|10 boxes x 12 pieces|  9.2|\n",
            "|       20|Sir Rodney's Marm...|         8|         3|       30 gift boxes|   81|\n",
            "+---------+--------------------+----------+----------+--------------------+-----+\n",
            "only showing top 20 rows\n",
            "\n"
          ]
        }
      ]
    },
    {
      "cell_type": "code",
      "metadata": {
        "id": "eISdJeGQnCh5",
        "colab": {
          "base_uri": "https://localhost:8080/"
        },
        "outputId": "d3a542a0-8a0f-4783-cbe2-3c76df68543c"
      },
      "source": [
        "df_pyspark=spark.read.csv('test.csv',header=True)\n",
        "df_pyspark.show()"
      ],
      "execution_count": 11,
      "outputs": [
        {
          "output_type": "stream",
          "name": "stdout",
          "text": [
            "+---------+--------------------+----------+----------+--------------------+-----+\n",
            "|ProductID|         ProductName|SupplierID|CategoryID|                Unit|Price|\n",
            "+---------+--------------------+----------+----------+--------------------+-----+\n",
            "|        1|               Chais|         1|         1|  10 boxes x 20 bags|   18|\n",
            "|        2|               Chang|         1|         1|  24 - 12 oz bottles|   19|\n",
            "|        3|       Aniseed Syrup|         1|         2| 12 - 550 ml bottles|   10|\n",
            "|        4|Chef Anton's Caju...|         2|         2|      48 - 6 oz jars|   22|\n",
            "|        5|Chef Anton's Gumb...|         2|         2|            36 boxes|21.35|\n",
            "|        6|Grandma's Boysenb...|         3|         2|      12 - 8 oz jars|   25|\n",
            "|     null|                null|      null|      null|                null| null|\n",
            "|        8|Northwoods Cranbe...|         3|         2|     12 - 12 oz jars|   40|\n",
            "|     null|     Mishi Kobe Niku|         4|         6|    18 - 500 g pkgs.|   97|\n",
            "|       10|               Ikura|      null|         8|    12 - 200 ml jars|   31|\n",
            "|       11|      Queso Cabrales|         5|      null|           1 kg pkg.|   21|\n",
            "|       12|Queso Manchego La...|         5|         4|                null|   38|\n",
            "|       13|               Konbu|         6|         8|            2 kg box| null|\n",
            "|       14|                Tofu|         6|         7|    40 - 100 g pkgs.|23.25|\n",
            "|       15|        Genen Shouyu|         6|         2| 24 - 250 ml bottles| 15.5|\n",
            "|       16|             Pavlova|         7|         3|    32 - 500 g boxes|17.45|\n",
            "|       17|        Alice Mutton|         7|         6|      20 - 1 kg tins|   39|\n",
            "|       18|    Carnarvon Tigers|         7|         8|          16 kg pkg.| 62.5|\n",
            "|       19|Teatime Chocolate...|         8|         3|10 boxes x 12 pieces|  9.2|\n",
            "|       20|Sir Rodney's Marm...|         8|         3|       30 gift boxes|   81|\n",
            "+---------+--------------------+----------+----------+--------------------+-----+\n",
            "only showing top 20 rows\n",
            "\n"
          ]
        }
      ]
    },
    {
      "cell_type": "markdown",
      "metadata": {
        "id": "07SQVuY9nL6J"
      },
      "source": [
        "### 1.2 Reading N Rows From Top Only (in form of list)"
      ]
    },
    {
      "cell_type": "code",
      "metadata": {
        "id": "oSCc_ASZnUBh",
        "colab": {
          "base_uri": "https://localhost:8080/"
        },
        "outputId": "d320c797-f866-4485-c921-416eeb690fb4"
      },
      "source": [
        "df_pyspark.head(4)"
      ],
      "execution_count": 12,
      "outputs": [
        {
          "output_type": "execute_result",
          "data": {
            "text/plain": [
              "[Row(ProductID='1', ProductName='Chais', SupplierID='1', CategoryID='1', Unit='10 boxes x 20 bags', Price='18'),\n",
              " Row(ProductID='2', ProductName='Chang', SupplierID='1', CategoryID='1', Unit='24 - 12 oz bottles', Price='19'),\n",
              " Row(ProductID='3', ProductName='Aniseed Syrup', SupplierID='1', CategoryID='2', Unit='12 - 550 ml bottles', Price='10'),\n",
              " Row(ProductID='4', ProductName=\"Chef Anton's Cajun Seasoning\", SupplierID='2', CategoryID='2', Unit='48 - 6 oz jars', Price='22')]"
            ]
          },
          "metadata": {},
          "execution_count": 12
        }
      ]
    },
    {
      "cell_type": "markdown",
      "metadata": {
        "id": "ewUnzFL7nsNj"
      },
      "source": [
        "### 1.3 Information Regarding Columns"
      ]
    },
    {
      "cell_type": "code",
      "metadata": {
        "id": "TJT_rxKtnyBE",
        "colab": {
          "base_uri": "https://localhost:8080/"
        },
        "outputId": "169a9128-56d0-44dd-e2bf-b9ded0270c11"
      },
      "source": [
        "df_pyspark.printSchema()"
      ],
      "execution_count": 13,
      "outputs": [
        {
          "output_type": "stream",
          "name": "stdout",
          "text": [
            "root\n",
            " |-- ProductID: string (nullable = true)\n",
            " |-- ProductName: string (nullable = true)\n",
            " |-- SupplierID: string (nullable = true)\n",
            " |-- CategoryID: string (nullable = true)\n",
            " |-- Unit: string (nullable = true)\n",
            " |-- Price: string (nullable = true)\n",
            "\n"
          ]
        }
      ]
    },
    {
      "cell_type": "markdown",
      "metadata": {
        "id": "AdGlWLbdn33Z"
      },
      "source": [
        "### 1.4 Setting Column DataType According To Data Present"
      ]
    },
    {
      "cell_type": "code",
      "metadata": {
        "id": "RSrLBZDzn_gy",
        "colab": {
          "base_uri": "https://localhost:8080/"
        },
        "outputId": "95e35d60-f32d-4132-d39b-a694622a91f3"
      },
      "source": [
        "df_pyspark=spark.read.csv('test.csv',header=True,inferSchema=True)\n",
        "df_pyspark.show()\n",
        "\n",
        "df_pyspark.printSchema()"
      ],
      "execution_count": 14,
      "outputs": [
        {
          "output_type": "stream",
          "name": "stdout",
          "text": [
            "+---------+--------------------+----------+----------+--------------------+-----+\n",
            "|ProductID|         ProductName|SupplierID|CategoryID|                Unit|Price|\n",
            "+---------+--------------------+----------+----------+--------------------+-----+\n",
            "|        1|               Chais|         1|         1|  10 boxes x 20 bags| 18.0|\n",
            "|        2|               Chang|         1|         1|  24 - 12 oz bottles| 19.0|\n",
            "|        3|       Aniseed Syrup|         1|         2| 12 - 550 ml bottles| 10.0|\n",
            "|        4|Chef Anton's Caju...|         2|         2|      48 - 6 oz jars| 22.0|\n",
            "|        5|Chef Anton's Gumb...|         2|         2|            36 boxes|21.35|\n",
            "|        6|Grandma's Boysenb...|         3|         2|      12 - 8 oz jars| 25.0|\n",
            "|     null|                null|      null|      null|                null| null|\n",
            "|        8|Northwoods Cranbe...|         3|         2|     12 - 12 oz jars| 40.0|\n",
            "|     null|     Mishi Kobe Niku|         4|         6|    18 - 500 g pkgs.| 97.0|\n",
            "|       10|               Ikura|      null|         8|    12 - 200 ml jars| 31.0|\n",
            "|       11|      Queso Cabrales|         5|      null|           1 kg pkg.| 21.0|\n",
            "|       12|Queso Manchego La...|         5|         4|                null| 38.0|\n",
            "|       13|               Konbu|         6|         8|            2 kg box| null|\n",
            "|       14|                Tofu|         6|         7|    40 - 100 g pkgs.|23.25|\n",
            "|       15|        Genen Shouyu|         6|         2| 24 - 250 ml bottles| 15.5|\n",
            "|       16|             Pavlova|         7|         3|    32 - 500 g boxes|17.45|\n",
            "|       17|        Alice Mutton|         7|         6|      20 - 1 kg tins| 39.0|\n",
            "|       18|    Carnarvon Tigers|         7|         8|          16 kg pkg.| 62.5|\n",
            "|       19|Teatime Chocolate...|         8|         3|10 boxes x 12 pieces|  9.2|\n",
            "|       20|Sir Rodney's Marm...|         8|         3|       30 gift boxes| 81.0|\n",
            "+---------+--------------------+----------+----------+--------------------+-----+\n",
            "only showing top 20 rows\n",
            "\n",
            "root\n",
            " |-- ProductID: integer (nullable = true)\n",
            " |-- ProductName: string (nullable = true)\n",
            " |-- SupplierID: integer (nullable = true)\n",
            " |-- CategoryID: integer (nullable = true)\n",
            " |-- Unit: string (nullable = true)\n",
            " |-- Price: double (nullable = true)\n",
            "\n"
          ]
        }
      ]
    },
    {
      "cell_type": "markdown",
      "metadata": {
        "id": "bgg8aPvJo2NT"
      },
      "source": [
        "# ***2. ALL ABOUT COLUMNS***"
      ]
    },
    {
      "cell_type": "code",
      "metadata": {
        "id": "x29mfoRZpF_j"
      },
      "source": [
        ""
      ],
      "execution_count": 14,
      "outputs": []
    },
    {
      "cell_type": "markdown",
      "metadata": {
        "id": "rI3Cf8VtpLX4"
      },
      "source": [
        "### 2.1 All Column Names"
      ]
    },
    {
      "cell_type": "code",
      "metadata": {
        "id": "IWYQ2dHmpP0q",
        "colab": {
          "base_uri": "https://localhost:8080/"
        },
        "outputId": "4ef064c2-0798-4971-bc70-11be64add20b"
      },
      "source": [
        "df_pyspark.columns"
      ],
      "execution_count": 15,
      "outputs": [
        {
          "output_type": "execute_result",
          "data": {
            "text/plain": [
              "['ProductID', 'ProductName', 'SupplierID', 'CategoryID', 'Unit', 'Price']"
            ]
          },
          "metadata": {},
          "execution_count": 15
        }
      ]
    },
    {
      "cell_type": "markdown",
      "metadata": {
        "id": "RYHub4BVpZEJ"
      },
      "source": [
        "### 2.2 Selecting Columns"
      ]
    },
    {
      "cell_type": "code",
      "metadata": {
        "id": "bUOi3WMipemk",
        "colab": {
          "base_uri": "https://localhost:8080/"
        },
        "outputId": "c1cf8207-d573-4bc5-fc00-66a985a3671a"
      },
      "source": [
        "df_pyspark.select('ProductID').show()"
      ],
      "execution_count": 16,
      "outputs": [
        {
          "output_type": "stream",
          "name": "stdout",
          "text": [
            "+---------+\n",
            "|ProductID|\n",
            "+---------+\n",
            "|        1|\n",
            "|        2|\n",
            "|        3|\n",
            "|        4|\n",
            "|        5|\n",
            "|        6|\n",
            "|     null|\n",
            "|        8|\n",
            "|     null|\n",
            "|       10|\n",
            "|       11|\n",
            "|       12|\n",
            "|       13|\n",
            "|       14|\n",
            "|       15|\n",
            "|       16|\n",
            "|       17|\n",
            "|       18|\n",
            "|       19|\n",
            "|       20|\n",
            "+---------+\n",
            "only showing top 20 rows\n",
            "\n"
          ]
        }
      ]
    },
    {
      "cell_type": "code",
      "metadata": {
        "id": "-tWw3ENfpmq7",
        "colab": {
          "base_uri": "https://localhost:8080/"
        },
        "outputId": "ac4e0632-6095-480d-9d08-3081e4f25904"
      },
      "source": [
        "df_pyspark.select('ProductID','ProductName').show()"
      ],
      "execution_count": 17,
      "outputs": [
        {
          "output_type": "stream",
          "name": "stdout",
          "text": [
            "+---------+--------------------+\n",
            "|ProductID|         ProductName|\n",
            "+---------+--------------------+\n",
            "|        1|               Chais|\n",
            "|        2|               Chang|\n",
            "|        3|       Aniseed Syrup|\n",
            "|        4|Chef Anton's Caju...|\n",
            "|        5|Chef Anton's Gumb...|\n",
            "|        6|Grandma's Boysenb...|\n",
            "|     null|                null|\n",
            "|        8|Northwoods Cranbe...|\n",
            "|     null|     Mishi Kobe Niku|\n",
            "|       10|               Ikura|\n",
            "|       11|      Queso Cabrales|\n",
            "|       12|Queso Manchego La...|\n",
            "|       13|               Konbu|\n",
            "|       14|                Tofu|\n",
            "|       15|        Genen Shouyu|\n",
            "|       16|             Pavlova|\n",
            "|       17|        Alice Mutton|\n",
            "|       18|    Carnarvon Tigers|\n",
            "|       19|Teatime Chocolate...|\n",
            "|       20|Sir Rodney's Marm...|\n",
            "+---------+--------------------+\n",
            "only showing top 20 rows\n",
            "\n"
          ]
        }
      ]
    },
    {
      "cell_type": "code",
      "metadata": {
        "id": "KJDVfXRCpyf6",
        "colab": {
          "base_uri": "https://localhost:8080/"
        },
        "outputId": "6f57f836-7d56-4702-aaf2-619c546888a8"
      },
      "source": [
        "df_pyspark.select('ProductName','ProductID').show()"
      ],
      "execution_count": 18,
      "outputs": [
        {
          "output_type": "stream",
          "name": "stdout",
          "text": [
            "+--------------------+---------+\n",
            "|         ProductName|ProductID|\n",
            "+--------------------+---------+\n",
            "|               Chais|        1|\n",
            "|               Chang|        2|\n",
            "|       Aniseed Syrup|        3|\n",
            "|Chef Anton's Caju...|        4|\n",
            "|Chef Anton's Gumb...|        5|\n",
            "|Grandma's Boysenb...|        6|\n",
            "|                null|     null|\n",
            "|Northwoods Cranbe...|        8|\n",
            "|     Mishi Kobe Niku|     null|\n",
            "|               Ikura|       10|\n",
            "|      Queso Cabrales|       11|\n",
            "|Queso Manchego La...|       12|\n",
            "|               Konbu|       13|\n",
            "|                Tofu|       14|\n",
            "|        Genen Shouyu|       15|\n",
            "|             Pavlova|       16|\n",
            "|        Alice Mutton|       17|\n",
            "|    Carnarvon Tigers|       18|\n",
            "|Teatime Chocolate...|       19|\n",
            "|Sir Rodney's Marm...|       20|\n",
            "+--------------------+---------+\n",
            "only showing top 20 rows\n",
            "\n"
          ]
        }
      ]
    },
    {
      "cell_type": "code",
      "metadata": {
        "id": "rUVr297sp1Ni",
        "colab": {
          "base_uri": "https://localhost:8080/"
        },
        "outputId": "60c4cbae-1553-43da-ff00-c897f59651ac"
      },
      "source": [
        "df_pyspark.select(['ProductName','ProductID']).show()"
      ],
      "execution_count": 19,
      "outputs": [
        {
          "output_type": "stream",
          "name": "stdout",
          "text": [
            "+--------------------+---------+\n",
            "|         ProductName|ProductID|\n",
            "+--------------------+---------+\n",
            "|               Chais|        1|\n",
            "|               Chang|        2|\n",
            "|       Aniseed Syrup|        3|\n",
            "|Chef Anton's Caju...|        4|\n",
            "|Chef Anton's Gumb...|        5|\n",
            "|Grandma's Boysenb...|        6|\n",
            "|                null|     null|\n",
            "|Northwoods Cranbe...|        8|\n",
            "|     Mishi Kobe Niku|     null|\n",
            "|               Ikura|       10|\n",
            "|      Queso Cabrales|       11|\n",
            "|Queso Manchego La...|       12|\n",
            "|               Konbu|       13|\n",
            "|                Tofu|       14|\n",
            "|        Genen Shouyu|       15|\n",
            "|             Pavlova|       16|\n",
            "|        Alice Mutton|       17|\n",
            "|    Carnarvon Tigers|       18|\n",
            "|Teatime Chocolate...|       19|\n",
            "|Sir Rodney's Marm...|       20|\n",
            "+--------------------+---------+\n",
            "only showing top 20 rows\n",
            "\n"
          ]
        }
      ]
    },
    {
      "cell_type": "markdown",
      "metadata": {
        "id": "4oP2DZ0SqAc5"
      },
      "source": [
        "### 2.3 DataTypes Of Columns"
      ]
    },
    {
      "cell_type": "code",
      "metadata": {
        "id": "oZq0cwe9qJ1d",
        "colab": {
          "base_uri": "https://localhost:8080/"
        },
        "outputId": "abdf7fc1-240a-4777-9cbd-288d24a5aaec"
      },
      "source": [
        "df_pyspark.dtypes"
      ],
      "execution_count": 20,
      "outputs": [
        {
          "output_type": "execute_result",
          "data": {
            "text/plain": [
              "[('ProductID', 'int'),\n",
              " ('ProductName', 'string'),\n",
              " ('SupplierID', 'int'),\n",
              " ('CategoryID', 'int'),\n",
              " ('Unit', 'string'),\n",
              " ('Price', 'double')]"
            ]
          },
          "metadata": {},
          "execution_count": 20
        }
      ]
    },
    {
      "cell_type": "markdown",
      "metadata": {
        "id": "avDIjKa6upfP"
      },
      "source": [
        "### 2.4 Adding A Column In DataFrame"
      ]
    },
    {
      "cell_type": "code",
      "metadata": {
        "id": "BlrY3qHJuzQu",
        "colab": {
          "base_uri": "https://localhost:8080/"
        },
        "outputId": "c75a764a-ce76-44ce-dff0-27d7ebcfe2c2"
      },
      "source": [
        "df_pyspark=df_pyspark.withColumn('New_PriceList', df_pyspark['Price']+2)\n",
        "df_pyspark.show()"
      ],
      "execution_count": 21,
      "outputs": [
        {
          "output_type": "stream",
          "name": "stdout",
          "text": [
            "+---------+--------------------+----------+----------+--------------------+-----+-------------+\n",
            "|ProductID|         ProductName|SupplierID|CategoryID|                Unit|Price|New_PriceList|\n",
            "+---------+--------------------+----------+----------+--------------------+-----+-------------+\n",
            "|        1|               Chais|         1|         1|  10 boxes x 20 bags| 18.0|         20.0|\n",
            "|        2|               Chang|         1|         1|  24 - 12 oz bottles| 19.0|         21.0|\n",
            "|        3|       Aniseed Syrup|         1|         2| 12 - 550 ml bottles| 10.0|         12.0|\n",
            "|        4|Chef Anton's Caju...|         2|         2|      48 - 6 oz jars| 22.0|         24.0|\n",
            "|        5|Chef Anton's Gumb...|         2|         2|            36 boxes|21.35|        23.35|\n",
            "|        6|Grandma's Boysenb...|         3|         2|      12 - 8 oz jars| 25.0|         27.0|\n",
            "|     null|                null|      null|      null|                null| null|         null|\n",
            "|        8|Northwoods Cranbe...|         3|         2|     12 - 12 oz jars| 40.0|         42.0|\n",
            "|     null|     Mishi Kobe Niku|         4|         6|    18 - 500 g pkgs.| 97.0|         99.0|\n",
            "|       10|               Ikura|      null|         8|    12 - 200 ml jars| 31.0|         33.0|\n",
            "|       11|      Queso Cabrales|         5|      null|           1 kg pkg.| 21.0|         23.0|\n",
            "|       12|Queso Manchego La...|         5|         4|                null| 38.0|         40.0|\n",
            "|       13|               Konbu|         6|         8|            2 kg box| null|         null|\n",
            "|       14|                Tofu|         6|         7|    40 - 100 g pkgs.|23.25|        25.25|\n",
            "|       15|        Genen Shouyu|         6|         2| 24 - 250 ml bottles| 15.5|         17.5|\n",
            "|       16|             Pavlova|         7|         3|    32 - 500 g boxes|17.45|        19.45|\n",
            "|       17|        Alice Mutton|         7|         6|      20 - 1 kg tins| 39.0|         41.0|\n",
            "|       18|    Carnarvon Tigers|         7|         8|          16 kg pkg.| 62.5|         64.5|\n",
            "|       19|Teatime Chocolate...|         8|         3|10 boxes x 12 pieces|  9.2|         11.2|\n",
            "|       20|Sir Rodney's Marm...|         8|         3|       30 gift boxes| 81.0|         83.0|\n",
            "+---------+--------------------+----------+----------+--------------------+-----+-------------+\n",
            "only showing top 20 rows\n",
            "\n"
          ]
        }
      ]
    },
    {
      "cell_type": "markdown",
      "metadata": {
        "id": "HOA35bn6vRih"
      },
      "source": [
        "### 2.5 Deleting A Column From DataFrame"
      ]
    },
    {
      "cell_type": "code",
      "metadata": {
        "id": "PDcn6Kf3vbUd",
        "colab": {
          "base_uri": "https://localhost:8080/"
        },
        "outputId": "a038fead-378b-42f2-8bfc-704abeeb4a1b"
      },
      "source": [
        "df_pyspark=df_pyspark.drop('New_PriceList')\n",
        "df_pyspark.show()"
      ],
      "execution_count": 22,
      "outputs": [
        {
          "output_type": "stream",
          "name": "stdout",
          "text": [
            "+---------+--------------------+----------+----------+--------------------+-----+\n",
            "|ProductID|         ProductName|SupplierID|CategoryID|                Unit|Price|\n",
            "+---------+--------------------+----------+----------+--------------------+-----+\n",
            "|        1|               Chais|         1|         1|  10 boxes x 20 bags| 18.0|\n",
            "|        2|               Chang|         1|         1|  24 - 12 oz bottles| 19.0|\n",
            "|        3|       Aniseed Syrup|         1|         2| 12 - 550 ml bottles| 10.0|\n",
            "|        4|Chef Anton's Caju...|         2|         2|      48 - 6 oz jars| 22.0|\n",
            "|        5|Chef Anton's Gumb...|         2|         2|            36 boxes|21.35|\n",
            "|        6|Grandma's Boysenb...|         3|         2|      12 - 8 oz jars| 25.0|\n",
            "|     null|                null|      null|      null|                null| null|\n",
            "|        8|Northwoods Cranbe...|         3|         2|     12 - 12 oz jars| 40.0|\n",
            "|     null|     Mishi Kobe Niku|         4|         6|    18 - 500 g pkgs.| 97.0|\n",
            "|       10|               Ikura|      null|         8|    12 - 200 ml jars| 31.0|\n",
            "|       11|      Queso Cabrales|         5|      null|           1 kg pkg.| 21.0|\n",
            "|       12|Queso Manchego La...|         5|         4|                null| 38.0|\n",
            "|       13|               Konbu|         6|         8|            2 kg box| null|\n",
            "|       14|                Tofu|         6|         7|    40 - 100 g pkgs.|23.25|\n",
            "|       15|        Genen Shouyu|         6|         2| 24 - 250 ml bottles| 15.5|\n",
            "|       16|             Pavlova|         7|         3|    32 - 500 g boxes|17.45|\n",
            "|       17|        Alice Mutton|         7|         6|      20 - 1 kg tins| 39.0|\n",
            "|       18|    Carnarvon Tigers|         7|         8|          16 kg pkg.| 62.5|\n",
            "|       19|Teatime Chocolate...|         8|         3|10 boxes x 12 pieces|  9.2|\n",
            "|       20|Sir Rodney's Marm...|         8|         3|       30 gift boxes| 81.0|\n",
            "+---------+--------------------+----------+----------+--------------------+-----+\n",
            "only showing top 20 rows\n",
            "\n"
          ]
        }
      ]
    },
    {
      "cell_type": "markdown",
      "metadata": {
        "id": "VdioAj0Cvy_B"
      },
      "source": [
        "### 2.6 Renaming The Column Name"
      ]
    },
    {
      "cell_type": "code",
      "metadata": {
        "id": "2UqutR9fv5cU",
        "colab": {
          "base_uri": "https://localhost:8080/"
        },
        "outputId": "13b43e1e-75f4-418f-bded-8c2bc338d507"
      },
      "source": [
        "df_pyspark.withColumnRenamed('ProductName', 'P_Name').columns"
      ],
      "execution_count": 23,
      "outputs": [
        {
          "output_type": "execute_result",
          "data": {
            "text/plain": [
              "['ProductID', 'P_Name', 'SupplierID', 'CategoryID', 'Unit', 'Price']"
            ]
          },
          "metadata": {},
          "execution_count": 23
        }
      ]
    },
    {
      "cell_type": "markdown",
      "metadata": {
        "id": "KqqLwluTzqiW"
      },
      "source": [
        "# ***3. OTHERS***"
      ]
    },
    {
      "cell_type": "markdown",
      "metadata": {
        "id": "Vkj4O3hBzzGM"
      },
      "source": [
        "### 3.1 Describing DataFrame"
      ]
    },
    {
      "cell_type": "code",
      "metadata": {
        "id": "dmsfUogTzpdb",
        "colab": {
          "base_uri": "https://localhost:8080/"
        },
        "outputId": "c5c745a9-cfc3-480e-9348-9296c932736e"
      },
      "source": [
        "df_pyspark.describe()"
      ],
      "execution_count": 24,
      "outputs": [
        {
          "output_type": "execute_result",
          "data": {
            "text/plain": [
              "DataFrame[summary: string, ProductID: string, ProductName: string, SupplierID: string, CategoryID: string, Unit: string, Price: string]"
            ]
          },
          "metadata": {},
          "execution_count": 24
        }
      ]
    },
    {
      "cell_type": "code",
      "metadata": {
        "id": "D1b-DNHz0Cqb",
        "colab": {
          "base_uri": "https://localhost:8080/"
        },
        "outputId": "7af8ab1a-c0a1-4ba3-a92c-e236a302d572"
      },
      "source": [
        "df_pyspark.describe().show()"
      ],
      "execution_count": 25,
      "outputs": [
        {
          "output_type": "stream",
          "name": "stdout",
          "text": [
            "+-------+-----------------+-------------+-----------------+-----------------+-----------------+------------------+\n",
            "|summary|        ProductID|  ProductName|       SupplierID|       CategoryID|             Unit|             Price|\n",
            "+-------+-----------------+-------------+-----------------+-----------------+-----------------+------------------+\n",
            "|  count|               75|           76|               75|               75|               75|                75|\n",
            "|   mean|39.82666666666667|         null|            13.92|             4.08|             null|29.156133333333333|\n",
            "| stddev|22.07565207223593|         null|8.156840935929427|2.403600902250059|             null|  34.1642773721377|\n",
            "|    min|                1| Alice Mutton|                1|                1|        1 kg pkg.|               2.5|\n",
            "|    max|               77|Zaanse koeken|               29|                8|750 cc per bottle|             263.5|\n",
            "+-------+-----------------+-------------+-----------------+-----------------+-----------------+------------------+\n",
            "\n"
          ]
        }
      ]
    },
    {
      "cell_type": "markdown",
      "metadata": {
        "id": "C2fa8D-H0L5j"
      },
      "source": [
        "# ***4. HANDLING WITH NULL & MISSING VALUES***"
      ]
    },
    {
      "cell_type": "code",
      "metadata": {
        "id": "szXmycIz0d2P",
        "colab": {
          "base_uri": "https://localhost:8080/"
        },
        "outputId": "69adf1a8-3d08-470d-8cb4-a6fa2c84c0ff"
      },
      "source": [
        "df_pyspark.show()"
      ],
      "execution_count": 26,
      "outputs": [
        {
          "output_type": "stream",
          "name": "stdout",
          "text": [
            "+---------+--------------------+----------+----------+--------------------+-----+\n",
            "|ProductID|         ProductName|SupplierID|CategoryID|                Unit|Price|\n",
            "+---------+--------------------+----------+----------+--------------------+-----+\n",
            "|        1|               Chais|         1|         1|  10 boxes x 20 bags| 18.0|\n",
            "|        2|               Chang|         1|         1|  24 - 12 oz bottles| 19.0|\n",
            "|        3|       Aniseed Syrup|         1|         2| 12 - 550 ml bottles| 10.0|\n",
            "|        4|Chef Anton's Caju...|         2|         2|      48 - 6 oz jars| 22.0|\n",
            "|        5|Chef Anton's Gumb...|         2|         2|            36 boxes|21.35|\n",
            "|        6|Grandma's Boysenb...|         3|         2|      12 - 8 oz jars| 25.0|\n",
            "|     null|                null|      null|      null|                null| null|\n",
            "|        8|Northwoods Cranbe...|         3|         2|     12 - 12 oz jars| 40.0|\n",
            "|     null|     Mishi Kobe Niku|         4|         6|    18 - 500 g pkgs.| 97.0|\n",
            "|       10|               Ikura|      null|         8|    12 - 200 ml jars| 31.0|\n",
            "|       11|      Queso Cabrales|         5|      null|           1 kg pkg.| 21.0|\n",
            "|       12|Queso Manchego La...|         5|         4|                null| 38.0|\n",
            "|       13|               Konbu|         6|         8|            2 kg box| null|\n",
            "|       14|                Tofu|         6|         7|    40 - 100 g pkgs.|23.25|\n",
            "|       15|        Genen Shouyu|         6|         2| 24 - 250 ml bottles| 15.5|\n",
            "|       16|             Pavlova|         7|         3|    32 - 500 g boxes|17.45|\n",
            "|       17|        Alice Mutton|         7|         6|      20 - 1 kg tins| 39.0|\n",
            "|       18|    Carnarvon Tigers|         7|         8|          16 kg pkg.| 62.5|\n",
            "|       19|Teatime Chocolate...|         8|         3|10 boxes x 12 pieces|  9.2|\n",
            "|       20|Sir Rodney's Marm...|         8|         3|       30 gift boxes| 81.0|\n",
            "+---------+--------------------+----------+----------+--------------------+-----+\n",
            "only showing top 20 rows\n",
            "\n"
          ]
        }
      ]
    },
    {
      "cell_type": "markdown",
      "metadata": {
        "id": "Yh3R8yKX0Tki"
      },
      "source": [
        "### 4.1 Drpooing Rows Containing Null Value"
      ]
    },
    {
      "cell_type": "code",
      "metadata": {
        "id": "KhdoQAhK0dQQ",
        "colab": {
          "base_uri": "https://localhost:8080/"
        },
        "outputId": "77322e61-4aa5-4f5f-db30-060b761fdd77"
      },
      "source": [
        "df_pyspark.na.drop().show()"
      ],
      "execution_count": 27,
      "outputs": [
        {
          "output_type": "stream",
          "name": "stdout",
          "text": [
            "+---------+--------------------+----------+----------+--------------------+-----+\n",
            "|ProductID|         ProductName|SupplierID|CategoryID|                Unit|Price|\n",
            "+---------+--------------------+----------+----------+--------------------+-----+\n",
            "|        1|               Chais|         1|         1|  10 boxes x 20 bags| 18.0|\n",
            "|        2|               Chang|         1|         1|  24 - 12 oz bottles| 19.0|\n",
            "|        3|       Aniseed Syrup|         1|         2| 12 - 550 ml bottles| 10.0|\n",
            "|        4|Chef Anton's Caju...|         2|         2|      48 - 6 oz jars| 22.0|\n",
            "|        5|Chef Anton's Gumb...|         2|         2|            36 boxes|21.35|\n",
            "|        6|Grandma's Boysenb...|         3|         2|      12 - 8 oz jars| 25.0|\n",
            "|        8|Northwoods Cranbe...|         3|         2|     12 - 12 oz jars| 40.0|\n",
            "|       14|                Tofu|         6|         7|    40 - 100 g pkgs.|23.25|\n",
            "|       15|        Genen Shouyu|         6|         2| 24 - 250 ml bottles| 15.5|\n",
            "|       16|             Pavlova|         7|         3|    32 - 500 g boxes|17.45|\n",
            "|       17|        Alice Mutton|         7|         6|      20 - 1 kg tins| 39.0|\n",
            "|       18|    Carnarvon Tigers|         7|         8|          16 kg pkg.| 62.5|\n",
            "|       19|Teatime Chocolate...|         8|         3|10 boxes x 12 pieces|  9.2|\n",
            "|       20|Sir Rodney's Marm...|         8|         3|       30 gift boxes| 81.0|\n",
            "|       21| Sir Rodney's Scones|         8|         3| 24 pkgs. x 4 pieces| 10.0|\n",
            "|       22| Gustaf's Kn�ckebr�d|         9|         5|    24 - 500 g pkgs.| 21.0|\n",
            "|       23|            Tunnbr�d|         9|         5|    12 - 250 g pkgs.|  9.0|\n",
            "|       24|  Guaran� Fant�stica|        10|         1|    12 - 355 ml cans|  4.5|\n",
            "|       25|NuNuCa Nu�-Nougat...|        11|         3|  20 - 450 g glasses| 14.0|\n",
            "|       26| Gumb�r Gummib�rchen|        11|         3|    100 - 250 g bags|31.23|\n",
            "+---------+--------------------+----------+----------+--------------------+-----+\n",
            "only showing top 20 rows\n",
            "\n"
          ]
        }
      ]
    },
    {
      "cell_type": "markdown",
      "metadata": {
        "id": "xWKbQNPL31o3"
      },
      "source": [
        "\n",
        "\n",
        "1.   .drop('any') //delete all rows containing any null value\n",
        "2.   .drop('all') //delete all rows which contains all the values as null\n",
        "3.   .drop('any',thresh=2) //delete all rows containing atleast two non-null values\n",
        "4.   .drop('any',subset=['ProductId']) //delete all rows in which ProductId is null\n",
        "\n",
        "\n",
        "\n"
      ]
    },
    {
      "cell_type": "code",
      "metadata": {
        "id": "uWJIdYwx5Xqy",
        "colab": {
          "base_uri": "https://localhost:8080/"
        },
        "outputId": "b31fdce4-1e3e-4411-d958-c088ef6c7cab"
      },
      "source": [
        "# .drop(how=='any') //delete all rows containing any null value\n",
        "\n",
        "df_pyspark.na.drop('any').show()"
      ],
      "execution_count": 28,
      "outputs": [
        {
          "output_type": "stream",
          "name": "stdout",
          "text": [
            "+---------+--------------------+----------+----------+--------------------+-----+\n",
            "|ProductID|         ProductName|SupplierID|CategoryID|                Unit|Price|\n",
            "+---------+--------------------+----------+----------+--------------------+-----+\n",
            "|        1|               Chais|         1|         1|  10 boxes x 20 bags| 18.0|\n",
            "|        2|               Chang|         1|         1|  24 - 12 oz bottles| 19.0|\n",
            "|        3|       Aniseed Syrup|         1|         2| 12 - 550 ml bottles| 10.0|\n",
            "|        4|Chef Anton's Caju...|         2|         2|      48 - 6 oz jars| 22.0|\n",
            "|        5|Chef Anton's Gumb...|         2|         2|            36 boxes|21.35|\n",
            "|        6|Grandma's Boysenb...|         3|         2|      12 - 8 oz jars| 25.0|\n",
            "|        8|Northwoods Cranbe...|         3|         2|     12 - 12 oz jars| 40.0|\n",
            "|       14|                Tofu|         6|         7|    40 - 100 g pkgs.|23.25|\n",
            "|       15|        Genen Shouyu|         6|         2| 24 - 250 ml bottles| 15.5|\n",
            "|       16|             Pavlova|         7|         3|    32 - 500 g boxes|17.45|\n",
            "|       17|        Alice Mutton|         7|         6|      20 - 1 kg tins| 39.0|\n",
            "|       18|    Carnarvon Tigers|         7|         8|          16 kg pkg.| 62.5|\n",
            "|       19|Teatime Chocolate...|         8|         3|10 boxes x 12 pieces|  9.2|\n",
            "|       20|Sir Rodney's Marm...|         8|         3|       30 gift boxes| 81.0|\n",
            "|       21| Sir Rodney's Scones|         8|         3| 24 pkgs. x 4 pieces| 10.0|\n",
            "|       22| Gustaf's Kn�ckebr�d|         9|         5|    24 - 500 g pkgs.| 21.0|\n",
            "|       23|            Tunnbr�d|         9|         5|    12 - 250 g pkgs.|  9.0|\n",
            "|       24|  Guaran� Fant�stica|        10|         1|    12 - 355 ml cans|  4.5|\n",
            "|       25|NuNuCa Nu�-Nougat...|        11|         3|  20 - 450 g glasses| 14.0|\n",
            "|       26| Gumb�r Gummib�rchen|        11|         3|    100 - 250 g bags|31.23|\n",
            "+---------+--------------------+----------+----------+--------------------+-----+\n",
            "only showing top 20 rows\n",
            "\n"
          ]
        }
      ]
    },
    {
      "cell_type": "code",
      "metadata": {
        "id": "TUZjMoC550mp",
        "colab": {
          "base_uri": "https://localhost:8080/"
        },
        "outputId": "ccd91ca3-8fd1-427c-fbbb-3eab0ba890e6"
      },
      "source": [
        "# .drop(how=='all') //delete all rows which contains all the values as null\n",
        "\n",
        "df_pyspark.na.drop('all').show()"
      ],
      "execution_count": 29,
      "outputs": [
        {
          "output_type": "stream",
          "name": "stdout",
          "text": [
            "+---------+--------------------+----------+----------+--------------------+-----+\n",
            "|ProductID|         ProductName|SupplierID|CategoryID|                Unit|Price|\n",
            "+---------+--------------------+----------+----------+--------------------+-----+\n",
            "|        1|               Chais|         1|         1|  10 boxes x 20 bags| 18.0|\n",
            "|        2|               Chang|         1|         1|  24 - 12 oz bottles| 19.0|\n",
            "|        3|       Aniseed Syrup|         1|         2| 12 - 550 ml bottles| 10.0|\n",
            "|        4|Chef Anton's Caju...|         2|         2|      48 - 6 oz jars| 22.0|\n",
            "|        5|Chef Anton's Gumb...|         2|         2|            36 boxes|21.35|\n",
            "|        6|Grandma's Boysenb...|         3|         2|      12 - 8 oz jars| 25.0|\n",
            "|        8|Northwoods Cranbe...|         3|         2|     12 - 12 oz jars| 40.0|\n",
            "|     null|     Mishi Kobe Niku|         4|         6|    18 - 500 g pkgs.| 97.0|\n",
            "|       10|               Ikura|      null|         8|    12 - 200 ml jars| 31.0|\n",
            "|       11|      Queso Cabrales|         5|      null|           1 kg pkg.| 21.0|\n",
            "|       12|Queso Manchego La...|         5|         4|                null| 38.0|\n",
            "|       13|               Konbu|         6|         8|            2 kg box| null|\n",
            "|       14|                Tofu|         6|         7|    40 - 100 g pkgs.|23.25|\n",
            "|       15|        Genen Shouyu|         6|         2| 24 - 250 ml bottles| 15.5|\n",
            "|       16|             Pavlova|         7|         3|    32 - 500 g boxes|17.45|\n",
            "|       17|        Alice Mutton|         7|         6|      20 - 1 kg tins| 39.0|\n",
            "|       18|    Carnarvon Tigers|         7|         8|          16 kg pkg.| 62.5|\n",
            "|       19|Teatime Chocolate...|         8|         3|10 boxes x 12 pieces|  9.2|\n",
            "|       20|Sir Rodney's Marm...|         8|         3|       30 gift boxes| 81.0|\n",
            "|       21| Sir Rodney's Scones|         8|         3| 24 pkgs. x 4 pieces| 10.0|\n",
            "+---------+--------------------+----------+----------+--------------------+-----+\n",
            "only showing top 20 rows\n",
            "\n"
          ]
        }
      ]
    },
    {
      "cell_type": "code",
      "metadata": {
        "id": "_XNrhryu6bxB",
        "colab": {
          "base_uri": "https://localhost:8080/"
        },
        "outputId": "f3bc76f6-aec4-47b0-8339-089b32999059"
      },
      "source": [
        "# drop('any',thresh=2) //delete all rows containing atleast two non-null values\n",
        "\n",
        "df_pyspark.na.drop('any',thresh=2).show()"
      ],
      "execution_count": 30,
      "outputs": [
        {
          "output_type": "stream",
          "name": "stdout",
          "text": [
            "+---------+--------------------+----------+----------+--------------------+-----+\n",
            "|ProductID|         ProductName|SupplierID|CategoryID|                Unit|Price|\n",
            "+---------+--------------------+----------+----------+--------------------+-----+\n",
            "|        1|               Chais|         1|         1|  10 boxes x 20 bags| 18.0|\n",
            "|        2|               Chang|         1|         1|  24 - 12 oz bottles| 19.0|\n",
            "|        3|       Aniseed Syrup|         1|         2| 12 - 550 ml bottles| 10.0|\n",
            "|        4|Chef Anton's Caju...|         2|         2|      48 - 6 oz jars| 22.0|\n",
            "|        5|Chef Anton's Gumb...|         2|         2|            36 boxes|21.35|\n",
            "|        6|Grandma's Boysenb...|         3|         2|      12 - 8 oz jars| 25.0|\n",
            "|        8|Northwoods Cranbe...|         3|         2|     12 - 12 oz jars| 40.0|\n",
            "|     null|     Mishi Kobe Niku|         4|         6|    18 - 500 g pkgs.| 97.0|\n",
            "|       10|               Ikura|      null|         8|    12 - 200 ml jars| 31.0|\n",
            "|       11|      Queso Cabrales|         5|      null|           1 kg pkg.| 21.0|\n",
            "|       12|Queso Manchego La...|         5|         4|                null| 38.0|\n",
            "|       13|               Konbu|         6|         8|            2 kg box| null|\n",
            "|       14|                Tofu|         6|         7|    40 - 100 g pkgs.|23.25|\n",
            "|       15|        Genen Shouyu|         6|         2| 24 - 250 ml bottles| 15.5|\n",
            "|       16|             Pavlova|         7|         3|    32 - 500 g boxes|17.45|\n",
            "|       17|        Alice Mutton|         7|         6|      20 - 1 kg tins| 39.0|\n",
            "|       18|    Carnarvon Tigers|         7|         8|          16 kg pkg.| 62.5|\n",
            "|       19|Teatime Chocolate...|         8|         3|10 boxes x 12 pieces|  9.2|\n",
            "|       20|Sir Rodney's Marm...|         8|         3|       30 gift boxes| 81.0|\n",
            "|       21| Sir Rodney's Scones|         8|         3| 24 pkgs. x 4 pieces| 10.0|\n",
            "+---------+--------------------+----------+----------+--------------------+-----+\n",
            "only showing top 20 rows\n",
            "\n"
          ]
        }
      ]
    },
    {
      "cell_type": "code",
      "metadata": {
        "id": "EorH5trZ8Di7",
        "colab": {
          "base_uri": "https://localhost:8080/"
        },
        "outputId": "af2fe397-f2c6-46b1-d5a4-9c7c5cc2eb11"
      },
      "source": [
        "# .drop('any',subset=['ProductId']) //delete all rows in which ProductId is null\n",
        "\n",
        "df_pyspark.na.drop('any',subset=['ProductId']).show()"
      ],
      "execution_count": 31,
      "outputs": [
        {
          "output_type": "stream",
          "name": "stdout",
          "text": [
            "+---------+--------------------+----------+----------+--------------------+-----+\n",
            "|ProductID|         ProductName|SupplierID|CategoryID|                Unit|Price|\n",
            "+---------+--------------------+----------+----------+--------------------+-----+\n",
            "|        1|               Chais|         1|         1|  10 boxes x 20 bags| 18.0|\n",
            "|        2|               Chang|         1|         1|  24 - 12 oz bottles| 19.0|\n",
            "|        3|       Aniseed Syrup|         1|         2| 12 - 550 ml bottles| 10.0|\n",
            "|        4|Chef Anton's Caju...|         2|         2|      48 - 6 oz jars| 22.0|\n",
            "|        5|Chef Anton's Gumb...|         2|         2|            36 boxes|21.35|\n",
            "|        6|Grandma's Boysenb...|         3|         2|      12 - 8 oz jars| 25.0|\n",
            "|        8|Northwoods Cranbe...|         3|         2|     12 - 12 oz jars| 40.0|\n",
            "|       10|               Ikura|      null|         8|    12 - 200 ml jars| 31.0|\n",
            "|       11|      Queso Cabrales|         5|      null|           1 kg pkg.| 21.0|\n",
            "|       12|Queso Manchego La...|         5|         4|                null| 38.0|\n",
            "|       13|               Konbu|         6|         8|            2 kg box| null|\n",
            "|       14|                Tofu|         6|         7|    40 - 100 g pkgs.|23.25|\n",
            "|       15|        Genen Shouyu|         6|         2| 24 - 250 ml bottles| 15.5|\n",
            "|       16|             Pavlova|         7|         3|    32 - 500 g boxes|17.45|\n",
            "|       17|        Alice Mutton|         7|         6|      20 - 1 kg tins| 39.0|\n",
            "|       18|    Carnarvon Tigers|         7|         8|          16 kg pkg.| 62.5|\n",
            "|       19|Teatime Chocolate...|         8|         3|10 boxes x 12 pieces|  9.2|\n",
            "|       20|Sir Rodney's Marm...|         8|         3|       30 gift boxes| 81.0|\n",
            "|       21| Sir Rodney's Scones|         8|         3| 24 pkgs. x 4 pieces| 10.0|\n",
            "|       22| Gustaf's Kn�ckebr�d|         9|         5|    24 - 500 g pkgs.| 21.0|\n",
            "+---------+--------------------+----------+----------+--------------------+-----+\n",
            "only showing top 20 rows\n",
            "\n"
          ]
        }
      ]
    },
    {
      "cell_type": "markdown",
      "metadata": {
        "id": "WJlVjFwL8lm7"
      },
      "source": [
        "### 4.2 Filling A Value to All Missing / Null Values in String Columns only"
      ]
    },
    {
      "cell_type": "code",
      "metadata": {
        "id": "j85NmF4k83kR",
        "colab": {
          "base_uri": "https://localhost:8080/"
        },
        "outputId": "86e0a1c5-f746-4f8a-ad81-a5c0486ad69e"
      },
      "source": [
        "# Fill the String '****Value Missing****' in the String Columns\n",
        "\n",
        "df_pyspark.na.fill('****VALUE_MISSING****').show()"
      ],
      "execution_count": 32,
      "outputs": [
        {
          "output_type": "stream",
          "name": "stdout",
          "text": [
            "+---------+--------------------+----------+----------+--------------------+-----+\n",
            "|ProductID|         ProductName|SupplierID|CategoryID|                Unit|Price|\n",
            "+---------+--------------------+----------+----------+--------------------+-----+\n",
            "|        1|               Chais|         1|         1|  10 boxes x 20 bags| 18.0|\n",
            "|        2|               Chang|         1|         1|  24 - 12 oz bottles| 19.0|\n",
            "|        3|       Aniseed Syrup|         1|         2| 12 - 550 ml bottles| 10.0|\n",
            "|        4|Chef Anton's Caju...|         2|         2|      48 - 6 oz jars| 22.0|\n",
            "|        5|Chef Anton's Gumb...|         2|         2|            36 boxes|21.35|\n",
            "|        6|Grandma's Boysenb...|         3|         2|      12 - 8 oz jars| 25.0|\n",
            "|     null|****VALUE_MISSING...|      null|      null|****VALUE_MISSING...| null|\n",
            "|        8|Northwoods Cranbe...|         3|         2|     12 - 12 oz jars| 40.0|\n",
            "|     null|     Mishi Kobe Niku|         4|         6|    18 - 500 g pkgs.| 97.0|\n",
            "|       10|               Ikura|      null|         8|    12 - 200 ml jars| 31.0|\n",
            "|       11|      Queso Cabrales|         5|      null|           1 kg pkg.| 21.0|\n",
            "|       12|Queso Manchego La...|         5|         4|****VALUE_MISSING...| 38.0|\n",
            "|       13|               Konbu|         6|         8|            2 kg box| null|\n",
            "|       14|                Tofu|         6|         7|    40 - 100 g pkgs.|23.25|\n",
            "|       15|        Genen Shouyu|         6|         2| 24 - 250 ml bottles| 15.5|\n",
            "|       16|             Pavlova|         7|         3|    32 - 500 g boxes|17.45|\n",
            "|       17|        Alice Mutton|         7|         6|      20 - 1 kg tins| 39.0|\n",
            "|       18|    Carnarvon Tigers|         7|         8|          16 kg pkg.| 62.5|\n",
            "|       19|Teatime Chocolate...|         8|         3|10 boxes x 12 pieces|  9.2|\n",
            "|       20|Sir Rodney's Marm...|         8|         3|       30 gift boxes| 81.0|\n",
            "+---------+--------------------+----------+----------+--------------------+-----+\n",
            "only showing top 20 rows\n",
            "\n"
          ]
        }
      ]
    },
    {
      "cell_type": "markdown",
      "metadata": {
        "id": "BgTDRnL0-kQ1"
      },
      "source": [
        "### 4.2 Filling A Value to All Missing / Null Values In A Particular String Columns only  //Integer columns will not show any error"
      ]
    },
    {
      "cell_type": "code",
      "metadata": {
        "id": "9cNkSvyY_M7o",
        "colab": {
          "base_uri": "https://localhost:8080/"
        },
        "outputId": "92ed8eab-9da9-497f-da79-e374d74b7405"
      },
      "source": [
        "df_pyspark.na.fill('$$$VALUE_MISSING$$$','ProductName').show()"
      ],
      "execution_count": 33,
      "outputs": [
        {
          "output_type": "stream",
          "name": "stdout",
          "text": [
            "+---------+--------------------+----------+----------+--------------------+-----+\n",
            "|ProductID|         ProductName|SupplierID|CategoryID|                Unit|Price|\n",
            "+---------+--------------------+----------+----------+--------------------+-----+\n",
            "|        1|               Chais|         1|         1|  10 boxes x 20 bags| 18.0|\n",
            "|        2|               Chang|         1|         1|  24 - 12 oz bottles| 19.0|\n",
            "|        3|       Aniseed Syrup|         1|         2| 12 - 550 ml bottles| 10.0|\n",
            "|        4|Chef Anton's Caju...|         2|         2|      48 - 6 oz jars| 22.0|\n",
            "|        5|Chef Anton's Gumb...|         2|         2|            36 boxes|21.35|\n",
            "|        6|Grandma's Boysenb...|         3|         2|      12 - 8 oz jars| 25.0|\n",
            "|     null| $$$VALUE_MISSING$$$|      null|      null|                null| null|\n",
            "|        8|Northwoods Cranbe...|         3|         2|     12 - 12 oz jars| 40.0|\n",
            "|     null|     Mishi Kobe Niku|         4|         6|    18 - 500 g pkgs.| 97.0|\n",
            "|       10|               Ikura|      null|         8|    12 - 200 ml jars| 31.0|\n",
            "|       11|      Queso Cabrales|         5|      null|           1 kg pkg.| 21.0|\n",
            "|       12|Queso Manchego La...|         5|         4|                null| 38.0|\n",
            "|       13|               Konbu|         6|         8|            2 kg box| null|\n",
            "|       14|                Tofu|         6|         7|    40 - 100 g pkgs.|23.25|\n",
            "|       15|        Genen Shouyu|         6|         2| 24 - 250 ml bottles| 15.5|\n",
            "|       16|             Pavlova|         7|         3|    32 - 500 g boxes|17.45|\n",
            "|       17|        Alice Mutton|         7|         6|      20 - 1 kg tins| 39.0|\n",
            "|       18|    Carnarvon Tigers|         7|         8|          16 kg pkg.| 62.5|\n",
            "|       19|Teatime Chocolate...|         8|         3|10 boxes x 12 pieces|  9.2|\n",
            "|       20|Sir Rodney's Marm...|         8|         3|       30 gift boxes| 81.0|\n",
            "+---------+--------------------+----------+----------+--------------------+-----+\n",
            "only showing top 20 rows\n",
            "\n"
          ]
        }
      ]
    },
    {
      "cell_type": "code",
      "metadata": {
        "id": "U4YTpuY19TG-",
        "colab": {
          "base_uri": "https://localhost:8080/"
        },
        "outputId": "4363573a-6858-4200-f001-5a682567766e"
      },
      "source": [
        "df_pyspark.na.fill('$$$VALUE_MISSING$$$',['ProductName','Unit']).show()"
      ],
      "execution_count": 34,
      "outputs": [
        {
          "output_type": "stream",
          "name": "stdout",
          "text": [
            "+---------+--------------------+----------+----------+--------------------+-----+\n",
            "|ProductID|         ProductName|SupplierID|CategoryID|                Unit|Price|\n",
            "+---------+--------------------+----------+----------+--------------------+-----+\n",
            "|        1|               Chais|         1|         1|  10 boxes x 20 bags| 18.0|\n",
            "|        2|               Chang|         1|         1|  24 - 12 oz bottles| 19.0|\n",
            "|        3|       Aniseed Syrup|         1|         2| 12 - 550 ml bottles| 10.0|\n",
            "|        4|Chef Anton's Caju...|         2|         2|      48 - 6 oz jars| 22.0|\n",
            "|        5|Chef Anton's Gumb...|         2|         2|            36 boxes|21.35|\n",
            "|        6|Grandma's Boysenb...|         3|         2|      12 - 8 oz jars| 25.0|\n",
            "|     null| $$$VALUE_MISSING$$$|      null|      null| $$$VALUE_MISSING$$$| null|\n",
            "|        8|Northwoods Cranbe...|         3|         2|     12 - 12 oz jars| 40.0|\n",
            "|     null|     Mishi Kobe Niku|         4|         6|    18 - 500 g pkgs.| 97.0|\n",
            "|       10|               Ikura|      null|         8|    12 - 200 ml jars| 31.0|\n",
            "|       11|      Queso Cabrales|         5|      null|           1 kg pkg.| 21.0|\n",
            "|       12|Queso Manchego La...|         5|         4| $$$VALUE_MISSING$$$| 38.0|\n",
            "|       13|               Konbu|         6|         8|            2 kg box| null|\n",
            "|       14|                Tofu|         6|         7|    40 - 100 g pkgs.|23.25|\n",
            "|       15|        Genen Shouyu|         6|         2| 24 - 250 ml bottles| 15.5|\n",
            "|       16|             Pavlova|         7|         3|    32 - 500 g boxes|17.45|\n",
            "|       17|        Alice Mutton|         7|         6|      20 - 1 kg tins| 39.0|\n",
            "|       18|    Carnarvon Tigers|         7|         8|          16 kg pkg.| 62.5|\n",
            "|       19|Teatime Chocolate...|         8|         3|10 boxes x 12 pieces|  9.2|\n",
            "|       20|Sir Rodney's Marm...|         8|         3|       30 gift boxes| 81.0|\n",
            "+---------+--------------------+----------+----------+--------------------+-----+\n",
            "only showing top 20 rows\n",
            "\n"
          ]
        }
      ]
    },
    {
      "cell_type": "code",
      "metadata": {
        "id": "lEfLTg5z_VM_",
        "colab": {
          "base_uri": "https://localhost:8080/"
        },
        "outputId": "301db68b-fc0c-4eed-9e3f-fc031bd70d5f"
      },
      "source": [
        "df_pyspark.na.fill('$$$VALUE_MISSING$$$',['ProductName','Price']).show()"
      ],
      "execution_count": 35,
      "outputs": [
        {
          "output_type": "stream",
          "name": "stdout",
          "text": [
            "+---------+--------------------+----------+----------+--------------------+-----+\n",
            "|ProductID|         ProductName|SupplierID|CategoryID|                Unit|Price|\n",
            "+---------+--------------------+----------+----------+--------------------+-----+\n",
            "|        1|               Chais|         1|         1|  10 boxes x 20 bags| 18.0|\n",
            "|        2|               Chang|         1|         1|  24 - 12 oz bottles| 19.0|\n",
            "|        3|       Aniseed Syrup|         1|         2| 12 - 550 ml bottles| 10.0|\n",
            "|        4|Chef Anton's Caju...|         2|         2|      48 - 6 oz jars| 22.0|\n",
            "|        5|Chef Anton's Gumb...|         2|         2|            36 boxes|21.35|\n",
            "|        6|Grandma's Boysenb...|         3|         2|      12 - 8 oz jars| 25.0|\n",
            "|     null| $$$VALUE_MISSING$$$|      null|      null|                null| null|\n",
            "|        8|Northwoods Cranbe...|         3|         2|     12 - 12 oz jars| 40.0|\n",
            "|     null|     Mishi Kobe Niku|         4|         6|    18 - 500 g pkgs.| 97.0|\n",
            "|       10|               Ikura|      null|         8|    12 - 200 ml jars| 31.0|\n",
            "|       11|      Queso Cabrales|         5|      null|           1 kg pkg.| 21.0|\n",
            "|       12|Queso Manchego La...|         5|         4|                null| 38.0|\n",
            "|       13|               Konbu|         6|         8|            2 kg box| null|\n",
            "|       14|                Tofu|         6|         7|    40 - 100 g pkgs.|23.25|\n",
            "|       15|        Genen Shouyu|         6|         2| 24 - 250 ml bottles| 15.5|\n",
            "|       16|             Pavlova|         7|         3|    32 - 500 g boxes|17.45|\n",
            "|       17|        Alice Mutton|         7|         6|      20 - 1 kg tins| 39.0|\n",
            "|       18|    Carnarvon Tigers|         7|         8|          16 kg pkg.| 62.5|\n",
            "|       19|Teatime Chocolate...|         8|         3|10 boxes x 12 pieces|  9.2|\n",
            "|       20|Sir Rodney's Marm...|         8|         3|       30 gift boxes| 81.0|\n",
            "+---------+--------------------+----------+----------+--------------------+-----+\n",
            "only showing top 20 rows\n",
            "\n"
          ]
        }
      ]
    },
    {
      "cell_type": "markdown",
      "metadata": {
        "id": "DzEAWHxLHmd2"
      },
      "source": [
        "### 4.3 Filling The Integer Column NULL Values with Mean / Meadian / Mode Of Presented Values In Them By Using Imputer Function"
      ]
    },
    {
      "cell_type": "code",
      "metadata": {
        "id": "AyIJKmsbH6v8"
      },
      "source": [
        "from pyspark.ml.feature import Imputer"
      ],
      "execution_count": 36,
      "outputs": []
    },
    {
      "cell_type": "code",
      "metadata": {
        "id": "984iLgg5TDTw",
        "colab": {
          "base_uri": "https://localhost:8080/"
        },
        "outputId": "866bb420-d8b9-4174-87bc-fe2f34709527"
      },
      "source": [
        "# Filling Mean Values at NULL\n",
        "\n",
        "imputer=Imputer(\n",
        "    inputCols=['ProductID','SupplierID','CategoryID','Price'],\n",
        "    outputCols=['ProductID','SupplierID','CategoryID','Price']\n",
        ").setStrategy('mean')\n",
        "\n",
        "imputer.fit(df_pyspark).transform(df_pyspark).show()"
      ],
      "execution_count": 37,
      "outputs": [
        {
          "output_type": "stream",
          "name": "stdout",
          "text": [
            "+---------+--------------------+----------+----------+--------------------+------------------+\n",
            "|ProductID|         ProductName|SupplierID|CategoryID|                Unit|             Price|\n",
            "+---------+--------------------+----------+----------+--------------------+------------------+\n",
            "|        1|               Chais|         1|         1|  10 boxes x 20 bags|              18.0|\n",
            "|        2|               Chang|         1|         1|  24 - 12 oz bottles|              19.0|\n",
            "|        3|       Aniseed Syrup|         1|         2| 12 - 550 ml bottles|              10.0|\n",
            "|        4|Chef Anton's Caju...|         2|         2|      48 - 6 oz jars|              22.0|\n",
            "|        5|Chef Anton's Gumb...|         2|         2|            36 boxes|             21.35|\n",
            "|        6|Grandma's Boysenb...|         3|         2|      12 - 8 oz jars|              25.0|\n",
            "|       39|                null|        13|         4|                null|29.156133333333333|\n",
            "|        8|Northwoods Cranbe...|         3|         2|     12 - 12 oz jars|              40.0|\n",
            "|       39|     Mishi Kobe Niku|         4|         6|    18 - 500 g pkgs.|              97.0|\n",
            "|       10|               Ikura|        13|         8|    12 - 200 ml jars|              31.0|\n",
            "|       11|      Queso Cabrales|         5|         4|           1 kg pkg.|              21.0|\n",
            "|       12|Queso Manchego La...|         5|         4|                null|              38.0|\n",
            "|       13|               Konbu|         6|         8|            2 kg box|29.156133333333333|\n",
            "|       14|                Tofu|         6|         7|    40 - 100 g pkgs.|             23.25|\n",
            "|       15|        Genen Shouyu|         6|         2| 24 - 250 ml bottles|              15.5|\n",
            "|       16|             Pavlova|         7|         3|    32 - 500 g boxes|             17.45|\n",
            "|       17|        Alice Mutton|         7|         6|      20 - 1 kg tins|              39.0|\n",
            "|       18|    Carnarvon Tigers|         7|         8|          16 kg pkg.|              62.5|\n",
            "|       19|Teatime Chocolate...|         8|         3|10 boxes x 12 pieces|               9.2|\n",
            "|       20|Sir Rodney's Marm...|         8|         3|       30 gift boxes|              81.0|\n",
            "+---------+--------------------+----------+----------+--------------------+------------------+\n",
            "only showing top 20 rows\n",
            "\n"
          ]
        }
      ]
    },
    {
      "cell_type": "code",
      "metadata": {
        "id": "dehtDrY2UZkp",
        "colab": {
          "base_uri": "https://localhost:8080/"
        },
        "outputId": "22af9298-c414-4d0c-a167-fa91bef20c1a"
      },
      "source": [
        "# Filling Median Values at NULL\n",
        "\n",
        "imputer=Imputer(\n",
        "    inputCols=['ProductID','SupplierID','CategoryID','Price'],\n",
        "    outputCols=['ProductID','SupplierID','CategoryID','Price']\n",
        ").setStrategy('median')\n",
        "\n",
        "imputer.fit(df_pyspark).transform(df_pyspark).show()"
      ],
      "execution_count": 38,
      "outputs": [
        {
          "output_type": "stream",
          "name": "stdout",
          "text": [
            "+---------+--------------------+----------+----------+--------------------+-----+\n",
            "|ProductID|         ProductName|SupplierID|CategoryID|                Unit|Price|\n",
            "+---------+--------------------+----------+----------+--------------------+-----+\n",
            "|        1|               Chais|         1|         1|  10 boxes x 20 bags| 18.0|\n",
            "|        2|               Chang|         1|         1|  24 - 12 oz bottles| 19.0|\n",
            "|        3|       Aniseed Syrup|         1|         2| 12 - 550 ml bottles| 10.0|\n",
            "|        4|Chef Anton's Caju...|         2|         2|      48 - 6 oz jars| 22.0|\n",
            "|        5|Chef Anton's Gumb...|         2|         2|            36 boxes|21.35|\n",
            "|        6|Grandma's Boysenb...|         3|         2|      12 - 8 oz jars| 25.0|\n",
            "|       40|                null|        14|         4|                null| 19.5|\n",
            "|        8|Northwoods Cranbe...|         3|         2|     12 - 12 oz jars| 40.0|\n",
            "|       40|     Mishi Kobe Niku|         4|         6|    18 - 500 g pkgs.| 97.0|\n",
            "|       10|               Ikura|        14|         8|    12 - 200 ml jars| 31.0|\n",
            "|       11|      Queso Cabrales|         5|         4|           1 kg pkg.| 21.0|\n",
            "|       12|Queso Manchego La...|         5|         4|                null| 38.0|\n",
            "|       13|               Konbu|         6|         8|            2 kg box| 19.5|\n",
            "|       14|                Tofu|         6|         7|    40 - 100 g pkgs.|23.25|\n",
            "|       15|        Genen Shouyu|         6|         2| 24 - 250 ml bottles| 15.5|\n",
            "|       16|             Pavlova|         7|         3|    32 - 500 g boxes|17.45|\n",
            "|       17|        Alice Mutton|         7|         6|      20 - 1 kg tins| 39.0|\n",
            "|       18|    Carnarvon Tigers|         7|         8|          16 kg pkg.| 62.5|\n",
            "|       19|Teatime Chocolate...|         8|         3|10 boxes x 12 pieces|  9.2|\n",
            "|       20|Sir Rodney's Marm...|         8|         3|       30 gift boxes| 81.0|\n",
            "+---------+--------------------+----------+----------+--------------------+-----+\n",
            "only showing top 20 rows\n",
            "\n"
          ]
        }
      ]
    },
    {
      "cell_type": "code",
      "metadata": {
        "id": "RBprtXqgUjY2",
        "colab": {
          "base_uri": "https://localhost:8080/"
        },
        "outputId": "0cbb7b88-9cf0-4e58-efd4-c52e63deb09d"
      },
      "source": [
        "# Filling Mode Values at NULL\n",
        "\n",
        "imputer=Imputer(\n",
        "    inputCols=['ProductID','SupplierID','CategoryID','Price'],\n",
        "    outputCols=['ProductID','SupplierID','CategoryID','Price']\n",
        ").setStrategy('mode')\n",
        "\n",
        "imputer.fit(df_pyspark).transform(df_pyspark).show()"
      ],
      "execution_count": 39,
      "outputs": [
        {
          "output_type": "stream",
          "name": "stdout",
          "text": [
            "+---------+--------------------+----------+----------+--------------------+-----+\n",
            "|ProductID|         ProductName|SupplierID|CategoryID|                Unit|Price|\n",
            "+---------+--------------------+----------+----------+--------------------+-----+\n",
            "|        1|               Chais|         1|         1|  10 boxes x 20 bags| 18.0|\n",
            "|        2|               Chang|         1|         1|  24 - 12 oz bottles| 19.0|\n",
            "|        3|       Aniseed Syrup|         1|         2| 12 - 550 ml bottles| 10.0|\n",
            "|        4|Chef Anton's Caju...|         2|         2|      48 - 6 oz jars| 22.0|\n",
            "|        5|Chef Anton's Gumb...|         2|         2|            36 boxes|21.35|\n",
            "|        6|Grandma's Boysenb...|         3|         2|      12 - 8 oz jars| 25.0|\n",
            "|        1|                null|         7|         3|                null| 14.0|\n",
            "|        8|Northwoods Cranbe...|         3|         2|     12 - 12 oz jars| 40.0|\n",
            "|        1|     Mishi Kobe Niku|         4|         6|    18 - 500 g pkgs.| 97.0|\n",
            "|       10|               Ikura|         7|         8|    12 - 200 ml jars| 31.0|\n",
            "|       11|      Queso Cabrales|         5|         3|           1 kg pkg.| 21.0|\n",
            "|       12|Queso Manchego La...|         5|         4|                null| 38.0|\n",
            "|       13|               Konbu|         6|         8|            2 kg box| 14.0|\n",
            "|       14|                Tofu|         6|         7|    40 - 100 g pkgs.|23.25|\n",
            "|       15|        Genen Shouyu|         6|         2| 24 - 250 ml bottles| 15.5|\n",
            "|       16|             Pavlova|         7|         3|    32 - 500 g boxes|17.45|\n",
            "|       17|        Alice Mutton|         7|         6|      20 - 1 kg tins| 39.0|\n",
            "|       18|    Carnarvon Tigers|         7|         8|          16 kg pkg.| 62.5|\n",
            "|       19|Teatime Chocolate...|         8|         3|10 boxes x 12 pieces|  9.2|\n",
            "|       20|Sir Rodney's Marm...|         8|         3|       30 gift boxes| 81.0|\n",
            "+---------+--------------------+----------+----------+--------------------+-----+\n",
            "only showing top 20 rows\n",
            "\n"
          ]
        }
      ]
    },
    {
      "cell_type": "markdown",
      "metadata": {
        "id": "kpYXx6ovhadd"
      },
      "source": [
        "# ***5. Filter Operations***"
      ]
    },
    {
      "cell_type": "code",
      "metadata": {
        "id": "2LvBJw4PhoOq",
        "colab": {
          "base_uri": "https://localhost:8080/"
        },
        "outputId": "5b8fcd2e-688e-45f0-9ef1-adeb4ff6c809"
      },
      "source": [
        "df_pyspark.filter(df_pyspark['Price']>20).show()"
      ],
      "execution_count": 40,
      "outputs": [
        {
          "output_type": "stream",
          "name": "stdout",
          "text": [
            "+---------+--------------------+----------+----------+--------------------+------+\n",
            "|ProductID|         ProductName|SupplierID|CategoryID|                Unit| Price|\n",
            "+---------+--------------------+----------+----------+--------------------+------+\n",
            "|        4|Chef Anton's Caju...|         2|         2|      48 - 6 oz jars|  22.0|\n",
            "|        5|Chef Anton's Gumb...|         2|         2|            36 boxes| 21.35|\n",
            "|        6|Grandma's Boysenb...|         3|         2|      12 - 8 oz jars|  25.0|\n",
            "|        8|Northwoods Cranbe...|         3|         2|     12 - 12 oz jars|  40.0|\n",
            "|     null|     Mishi Kobe Niku|         4|         6|    18 - 500 g pkgs.|  97.0|\n",
            "|       10|               Ikura|      null|         8|    12 - 200 ml jars|  31.0|\n",
            "|       11|      Queso Cabrales|         5|      null|           1 kg pkg.|  21.0|\n",
            "|       12|Queso Manchego La...|         5|         4|                null|  38.0|\n",
            "|       14|                Tofu|         6|         7|    40 - 100 g pkgs.| 23.25|\n",
            "|       17|        Alice Mutton|         7|         6|      20 - 1 kg tins|  39.0|\n",
            "|       18|    Carnarvon Tigers|         7|         8|          16 kg pkg.|  62.5|\n",
            "|       20|Sir Rodney's Marm...|         8|         3|       30 gift boxes|  81.0|\n",
            "|       22| Gustaf's Kn�ckebr�d|         9|         5|    24 - 500 g pkgs.|  21.0|\n",
            "|       26| Gumb�r Gummib�rchen|        11|         3|    100 - 250 g bags| 31.23|\n",
            "|       27|  Schoggi Schokolade|        11|         3|  100 - 100 g pieces|  43.9|\n",
            "|       28|   R�ssle Sauerkraut|        12|         7|     25 - 825 g cans|  45.6|\n",
            "|       29|Th�ringer Rostbra...|        12|         6|50 bags x 30 sausgs.|123.79|\n",
            "|       30|Nord-Ost Matjeshe...|        13|         8|  10 - 200 g glasses| 25.89|\n",
            "|       32|  Mascarpone Fabioli|        14|         4|    24 - 200 g pkgs.|  32.0|\n",
            "|       37|          Gravad lax|        17|         8|    12 - 500 g pkgs.|  26.0|\n",
            "+---------+--------------------+----------+----------+--------------------+------+\n",
            "only showing top 20 rows\n",
            "\n"
          ]
        }
      ]
    },
    {
      "cell_type": "markdown",
      "metadata": {
        "id": "p413mTa5h6lo"
      },
      "source": [
        "### 5.1 Selecting Particular Columns With Filter Operation"
      ]
    },
    {
      "cell_type": "code",
      "metadata": {
        "id": "DyC9WdyMiA4C",
        "colab": {
          "base_uri": "https://localhost:8080/"
        },
        "outputId": "0938eecb-68e2-41cf-927e-eaaa117a0fad"
      },
      "source": [
        "df_pyspark.filter('Price>20').select(['ProductID','ProductName','Unit']).show(5)"
      ],
      "execution_count": 41,
      "outputs": [
        {
          "output_type": "stream",
          "name": "stdout",
          "text": [
            "+---------+--------------------+----------------+\n",
            "|ProductID|         ProductName|            Unit|\n",
            "+---------+--------------------+----------------+\n",
            "|        4|Chef Anton's Caju...|  48 - 6 oz jars|\n",
            "|        5|Chef Anton's Gumb...|        36 boxes|\n",
            "|        6|Grandma's Boysenb...|  12 - 8 oz jars|\n",
            "|        8|Northwoods Cranbe...| 12 - 12 oz jars|\n",
            "|     null|     Mishi Kobe Niku|18 - 500 g pkgs.|\n",
            "+---------+--------------------+----------------+\n",
            "only showing top 5 rows\n",
            "\n"
          ]
        }
      ]
    },
    {
      "cell_type": "markdown",
      "metadata": {
        "id": "rJQnQ_U6hnul"
      },
      "source": [
        "### 5.2 Filtering With & (AND), | (OR) , ~ (NOT)"
      ]
    },
    {
      "cell_type": "code",
      "metadata": {
        "id": "73JWa33NiniC",
        "colab": {
          "base_uri": "https://localhost:8080/"
        },
        "outputId": "98861e9b-eaef-496d-af6b-ec42f7b06663"
      },
      "source": [
        "# & (And Operator)\n",
        "\n",
        "df_pyspark.filter((df_pyspark['Price']>20) & (df_pyspark['ProductID']> 50)).select('ProductID','Price').show()"
      ],
      "execution_count": 42,
      "outputs": [
        {
          "output_type": "stream",
          "name": "stdout",
          "text": [
            "+---------+-----+\n",
            "|ProductID|Price|\n",
            "+---------+-----+\n",
            "|       51| 53.0|\n",
            "|       53| 32.8|\n",
            "|       55| 24.0|\n",
            "|       56| 38.0|\n",
            "|       59| 55.0|\n",
            "|       60| 34.0|\n",
            "|       61| 28.5|\n",
            "|       62| 49.3|\n",
            "|       63| 43.9|\n",
            "|       64|33.25|\n",
            "|       65|21.05|\n",
            "|       69| 36.0|\n",
            "|       71| 21.5|\n",
            "|       72| 34.8|\n",
            "+---------+-----+\n",
            "\n"
          ]
        }
      ]
    },
    {
      "cell_type": "code",
      "metadata": {
        "id": "VouNUqspjoMl",
        "colab": {
          "base_uri": "https://localhost:8080/"
        },
        "outputId": "bf30187f-f5df-4739-bd28-1626ea56ac3d"
      },
      "source": [
        "# | (Or Operator)\n",
        "\n",
        "df_pyspark.filter((df_pyspark['Price']==20) | (df_pyspark['ProductID']<5)).select('ProductID','Price').show()"
      ],
      "execution_count": 43,
      "outputs": [
        {
          "output_type": "stream",
          "name": "stdout",
          "text": [
            "+---------+-----+\n",
            "|ProductID|Price|\n",
            "+---------+-----+\n",
            "|        1| 18.0|\n",
            "|        2| 19.0|\n",
            "|        3| 10.0|\n",
            "|        4| 22.0|\n",
            "|       49| 20.0|\n",
            "+---------+-----+\n",
            "\n"
          ]
        }
      ]
    },
    {
      "cell_type": "code",
      "metadata": {
        "id": "UaHXG4MGkvHf",
        "colab": {
          "base_uri": "https://localhost:8080/"
        },
        "outputId": "b88ccc48-4b98-4da2-b9f9-874a8d607e66"
      },
      "source": [
        "# ~ (Not Operator)\n",
        "\n",
        "df_pyspark.filter(~ (df_pyspark['Price']>15)).select('Price').show()"
      ],
      "execution_count": 44,
      "outputs": [
        {
          "output_type": "stream",
          "name": "stdout",
          "text": [
            "+-----+\n",
            "|Price|\n",
            "+-----+\n",
            "| 10.0|\n",
            "|  9.2|\n",
            "| 10.0|\n",
            "|  9.0|\n",
            "|  4.5|\n",
            "| 14.0|\n",
            "| 12.5|\n",
            "|  2.5|\n",
            "| 14.0|\n",
            "| 9.65|\n",
            "| 14.0|\n",
            "|  9.5|\n",
            "| 12.0|\n",
            "|  9.5|\n",
            "|12.75|\n",
            "|  7.0|\n",
            "| 7.45|\n",
            "|13.25|\n",
            "| 14.0|\n",
            "| 12.5|\n",
            "+-----+\n",
            "only showing top 20 rows\n",
            "\n"
          ]
        }
      ]
    },
    {
      "cell_type": "markdown",
      "metadata": {
        "id": "_O0ywrCXlpQo"
      },
      "source": [
        "# ***6. GROUP BY AND AGGREGATE FUNCTIONS***\n",
        "\n",
        "Aggregate funtions: - sum(), count(), mean(), agg(), max(), min()"
      ]
    },
    {
      "cell_type": "code",
      "metadata": {
        "id": "D2xpw2h5sv2z",
        "colab": {
          "base_uri": "https://localhost:8080/"
        },
        "outputId": "f8ac1eb7-2a26-42a3-f623-468fdd40dc97"
      },
      "source": [
        "#Importing new data frame\n",
        "\n",
        "df_pyspark=spark.read.csv('test1.csv',header=True,inferSchema=True)\n",
        "df_pyspark.show()"
      ],
      "execution_count": 45,
      "outputs": [
        {
          "output_type": "stream",
          "name": "stdout",
          "text": [
            "+----------+--------------------+------------------+--------------------+------------+----------+-----------+\n",
            "|CustomerID|        CustomerName|       ContactName|             Address|        City|PostalCode|    Country|\n",
            "+----------+--------------------+------------------+--------------------+------------+----------+-----------+\n",
            "|         1| Alfreds Futterkiste|      Maria Anders|       Obere Str. 57|      Berlin|     12209|    Germany|\n",
            "|         2|Ana Trujillo Empa...|      Ana Trujillo|Avda. de la Const...| M�xico D.F.|      5021|     Mexico|\n",
            "|         3|Antonio Moreno Ta...|    Antonio Moreno|      Mataderos 2312| M�xico D.F.|      5023|     Mexico|\n",
            "|         4|     Around the Horn|      Thomas Hardy|     120 Hanover Sq.|      London|   WA1 1DP|         UK|\n",
            "|         5|  Berglunds snabbk�p|Christina Berglund|      Berguvsv�gen 8|       Lule�|  S-958 22|     Sweden|\n",
            "|         6|Blauer See Delika...|        Hanna Moos|      Forsterstr. 57|    Mannheim|     68306|    Germany|\n",
            "|         7|Blondel p�re et fils|Fr�d�rique Citeaux|    24, place Kl�ber|  Strasbourg|     67000|     France|\n",
            "|         8|B�lido Comidas pr...|     Mart�n Sommer|      C/ Araquil, 67|      Madrid|     28023|      Spain|\n",
            "|         9|            Bon app'| Laurence Lebihans|12, rue des Bouchers|   Marseille|     13008|     France|\n",
            "|        10|Bottom-Dollar Mar...| Elizabeth Lincoln|  23 Tsawassen Blvd.|   Tsawassen|   T2F 8M4|     Canada|\n",
            "|        11|       B's Beverages| Victoria Ashworth|   Fauntleroy Circus|      London|   EC2 5NT|         UK|\n",
            "|        12|Cactus Comidas pa...|  Patricio Simpson|         Cerrito 333|Buenos Aires|      1010|  Argentina|\n",
            "|        13|Centro comercial ...|   Francisco Chang|Sierras de Granad...| M�xico D.F.|      5022|     Mexico|\n",
            "|        14|   Chop-suey Chinese|         Yang Wang|        Hauptstr. 29|        Bern|      3012|Switzerland|\n",
            "|        15|    Com�rcio Mineiro|      Pedro Afonso|Av. dos Lus�adas, 23|   S�o Paulo| 05432-043|     Brazil|\n",
            "|        16|Consolidated Hold...|   Elizabeth Brown|Berkeley Gardens ...|      London|   WX1 6LT|         UK|\n",
            "|        17|Drachenblut Delik...|      Sven Ottlieb|        Walserweg 21|      Aachen|     52066|    Germany|\n",
            "|        18|     Du monde entier|    Janine Labrune|67, rue des Cinqu...|      Nantes|     44000|     France|\n",
            "|        19|  Eastern Connection|         Ann Devon|      35 King George|      London|   WX3 6FW|         UK|\n",
            "|        20|        Ernst Handel|     Roland Mendel|        Kirchgasse 6|        Graz|      8010|    Austria|\n",
            "+----------+--------------------+------------------+--------------------+------------+----------+-----------+\n",
            "only showing top 20 rows\n",
            "\n"
          ]
        }
      ]
    },
    {
      "cell_type": "markdown",
      "metadata": {
        "id": "12o39wRxlynf"
      },
      "source": [
        "### 6.1 GroupBy & Aggregate on particular columns"
      ]
    },
    {
      "cell_type": "code",
      "metadata": {
        "id": "rUMLoxRFC4Jy",
        "colab": {
          "base_uri": "https://localhost:8080/"
        },
        "outputId": "5771aed7-fe29-4f4c-e829-1169f1bc8347"
      },
      "source": [
        "#getting country-wise customer count\n",
        "\n",
        "df_pyspark.groupBy('Country').count().orderBy('count').show()"
      ],
      "execution_count": 46,
      "outputs": [
        {
          "output_type": "stream",
          "name": "stdout",
          "text": [
            "+-----------+-----+\n",
            "|    Country|count|\n",
            "+-----------+-----+\n",
            "|     Poland|    1|\n",
            "|    Ireland|    1|\n",
            "|     Norway|    1|\n",
            "|     Sweden|    2|\n",
            "|    Austria|    2|\n",
            "|    Finland|    2|\n",
            "|    Denmark|    2|\n",
            "|Switzerland|    2|\n",
            "|   Portugal|    2|\n",
            "|    Belgium|    2|\n",
            "|     Canada|    3|\n",
            "|  Argentina|    3|\n",
            "|      Italy|    3|\n",
            "|  Venezuela|    4|\n",
            "|      Spain|    5|\n",
            "|     Mexico|    5|\n",
            "|         UK|    7|\n",
            "|     Brazil|    9|\n",
            "|    Germany|   11|\n",
            "|     France|   11|\n",
            "+-----------+-----+\n",
            "only showing top 20 rows\n",
            "\n"
          ]
        }
      ]
    },
    {
      "cell_type": "code",
      "metadata": {
        "id": "IYWDixYZDxko",
        "colab": {
          "base_uri": "https://localhost:8080/"
        },
        "outputId": "51b15c61-4b1a-41d3-b9e6-ba0e16f3814e"
      },
      "source": [
        "#getting city-wise group by country... customer count \n",
        "\n",
        "df_pyspark.groupBy('Country','City').count().show()"
      ],
      "execution_count": 47,
      "outputs": [
        {
          "output_type": "stream",
          "name": "stdout",
          "text": [
            "+-----------+--------------+-----+\n",
            "|    Country|          City|count|\n",
            "+-----------+--------------+-----+\n",
            "|     Mexico|   M�xico D.F.|    5|\n",
            "|    Denmark|         �rhus|    1|\n",
            "|    Belgium|     Charleroi|    1|\n",
            "|Switzerland|          Bern|    1|\n",
            "|        USA|   Albuquerque|    1|\n",
            "|    Germany|Frankfurt a.M.|    1|\n",
            "|         UK|        London|    6|\n",
            "|    Austria|      Salzburg|    1|\n",
            "|      Italy|       Bergamo|    1|\n",
            "|        USA|         Boise|    1|\n",
            "|        USA| San Francisco|    1|\n",
            "|     Poland|         Walla|    1|\n",
            "|    Germany|     Cunewalde|    1|\n",
            "|    Germany|          K�ln|    1|\n",
            "|      Spain|       Sevilla|    1|\n",
            "|     Brazil|       Resende|    1|\n",
            "|     France|    Versailles|    1|\n",
            "|      Spain|        Madrid|    3|\n",
            "|     Norway|       Stavern|    1|\n",
            "|     Brazil|     S�o Paulo|    4|\n",
            "+-----------+--------------+-----+\n",
            "only showing top 20 rows\n",
            "\n"
          ]
        }
      ]
    },
    {
      "cell_type": "markdown",
      "metadata": {
        "id": "JZChkFVUeqH5"
      },
      "source": [
        ""
      ]
    },
    {
      "cell_type": "markdown",
      "metadata": {
        "id": "w_gg136CU7Rt"
      },
      "source": [
        "### 6.2 Another Method To Use Aggregate Functions"
      ]
    },
    {
      "cell_type": "code",
      "metadata": {
        "id": "_wT_olLKQisD",
        "colab": {
          "base_uri": "https://localhost:8080/"
        },
        "outputId": "260b1dd9-5da6-4bee-c23f-73258a51ab07"
      },
      "source": [
        "#max country name\n",
        "#max customerID\n",
        "#max customerID country-wise\n",
        "\n",
        "df_pyspark.agg({'Country':'max'}).show()\n",
        "\n",
        "df_pyspark.agg({'CustomerID':'max'}).show()\n",
        "\n",
        "df_pyspark.groupBy('Country').agg({'CustomerID':'max'}).show()"
      ],
      "execution_count": 48,
      "outputs": [
        {
          "output_type": "stream",
          "name": "stdout",
          "text": [
            "+------------+\n",
            "|max(Country)|\n",
            "+------------+\n",
            "|   Venezuela|\n",
            "+------------+\n",
            "\n",
            "+---------------+\n",
            "|max(CustomerID)|\n",
            "+---------------+\n",
            "|             91|\n",
            "+---------------+\n",
            "\n",
            "+-----------+---------------+\n",
            "|    Country|max(CustomerID)|\n",
            "+-----------+---------------+\n",
            "|     Sweden|             24|\n",
            "|    Germany|             86|\n",
            "|     France|             85|\n",
            "|  Argentina|             64|\n",
            "|    Belgium|             76|\n",
            "|    Finland|             90|\n",
            "|      Italy|             66|\n",
            "|     Norway|             70|\n",
            "|      Spain|             69|\n",
            "|    Denmark|             83|\n",
            "|    Ireland|             37|\n",
            "|  Venezuela|             47|\n",
            "|        USA|             89|\n",
            "|     Mexico|             80|\n",
            "|         UK|             72|\n",
            "|Switzerland|             68|\n",
            "|     Canada|             51|\n",
            "|     Brazil|             88|\n",
            "|     Poland|             91|\n",
            "|   Portugal|             60|\n",
            "+-----------+---------------+\n",
            "only showing top 20 rows\n",
            "\n"
          ]
        }
      ]
    },
    {
      "cell_type": "markdown",
      "metadata": {
        "id": "ag7Z6CQZmsmm"
      },
      "source": [
        "# ***7. DATAFRAME API***"
      ]
    },
    {
      "cell_type": "code",
      "metadata": {
        "id": "ME0TNeEjmqpx",
        "colab": {
          "base_uri": "https://localhost:8080/"
        },
        "outputId": "2c96a538-c000-4e2a-9814-c9a9b9967564"
      },
      "source": [
        "# Reading new dataset\n",
        "df_pyspark.na.drop().show()"
      ],
      "execution_count": 49,
      "outputs": [
        {
          "output_type": "stream",
          "name": "stdout",
          "text": [
            "+----------+--------------------+------------------+--------------------+------------+----------+-----------+\n",
            "|CustomerID|        CustomerName|       ContactName|             Address|        City|PostalCode|    Country|\n",
            "+----------+--------------------+------------------+--------------------+------------+----------+-----------+\n",
            "|         1| Alfreds Futterkiste|      Maria Anders|       Obere Str. 57|      Berlin|     12209|    Germany|\n",
            "|         2|Ana Trujillo Empa...|      Ana Trujillo|Avda. de la Const...| M�xico D.F.|      5021|     Mexico|\n",
            "|         3|Antonio Moreno Ta...|    Antonio Moreno|      Mataderos 2312| M�xico D.F.|      5023|     Mexico|\n",
            "|         4|     Around the Horn|      Thomas Hardy|     120 Hanover Sq.|      London|   WA1 1DP|         UK|\n",
            "|         5|  Berglunds snabbk�p|Christina Berglund|      Berguvsv�gen 8|       Lule�|  S-958 22|     Sweden|\n",
            "|         6|Blauer See Delika...|        Hanna Moos|      Forsterstr. 57|    Mannheim|     68306|    Germany|\n",
            "|         7|Blondel p�re et fils|Fr�d�rique Citeaux|    24, place Kl�ber|  Strasbourg|     67000|     France|\n",
            "|         8|B�lido Comidas pr...|     Mart�n Sommer|      C/ Araquil, 67|      Madrid|     28023|      Spain|\n",
            "|         9|            Bon app'| Laurence Lebihans|12, rue des Bouchers|   Marseille|     13008|     France|\n",
            "|        10|Bottom-Dollar Mar...| Elizabeth Lincoln|  23 Tsawassen Blvd.|   Tsawassen|   T2F 8M4|     Canada|\n",
            "|        11|       B's Beverages| Victoria Ashworth|   Fauntleroy Circus|      London|   EC2 5NT|         UK|\n",
            "|        12|Cactus Comidas pa...|  Patricio Simpson|         Cerrito 333|Buenos Aires|      1010|  Argentina|\n",
            "|        13|Centro comercial ...|   Francisco Chang|Sierras de Granad...| M�xico D.F.|      5022|     Mexico|\n",
            "|        14|   Chop-suey Chinese|         Yang Wang|        Hauptstr. 29|        Bern|      3012|Switzerland|\n",
            "|        15|    Com�rcio Mineiro|      Pedro Afonso|Av. dos Lus�adas, 23|   S�o Paulo| 05432-043|     Brazil|\n",
            "|        16|Consolidated Hold...|   Elizabeth Brown|Berkeley Gardens ...|      London|   WX1 6LT|         UK|\n",
            "|        17|Drachenblut Delik...|      Sven Ottlieb|        Walserweg 21|      Aachen|     52066|    Germany|\n",
            "|        18|     Du monde entier|    Janine Labrune|67, rue des Cinqu...|      Nantes|     44000|     France|\n",
            "|        19|  Eastern Connection|         Ann Devon|      35 King George|      London|   WX3 6FW|         UK|\n",
            "|        20|        Ernst Handel|     Roland Mendel|        Kirchgasse 6|        Graz|      8010|    Austria|\n",
            "+----------+--------------------+------------------+--------------------+------------+----------+-----------+\n",
            "only showing top 20 rows\n",
            "\n"
          ]
        }
      ]
    },
    {
      "cell_type": "code",
      "metadata": {
        "colab": {
          "base_uri": "https://localhost:8080/"
        },
        "id": "7K8NLSTXKYkZ",
        "outputId": "f78d377a-c715-408f-b261-4f154b8f628b"
      },
      "source": [
        "df_product_table=spark.read.option('header','true').csv('product_table3.csv')\n",
        "df_product_table.show()"
      ],
      "execution_count": 50,
      "outputs": [
        {
          "output_type": "stream",
          "name": "stdout",
          "text": [
            "+---------+--------------------+----------+----------+-------------------+-----+\n",
            "|ProductID|         ProductName|SupplierID|CategoryID|               Unit|Price|\n",
            "+---------+--------------------+----------+----------+-------------------+-----+\n",
            "|        1|               Chais|         1|         1| 10 boxes x 20 bags|   18|\n",
            "|        2|               Chang|         1|         1| 24 - 12 oz bottles|   19|\n",
            "|        3|       Aniseed Syrup|         1|         2|12 - 550 ml bottles|   10|\n",
            "|        4|Chef Anton's Caju...|         2|         2|     48 - 6 oz jars|   22|\n",
            "|        5|Chef Anton's Gumb...|         2|         2|           36 boxes|21.35|\n",
            "|        6|                null|         3|         2|     12 - 8 oz jars|   25|\n",
            "|        7|Uncle Bob's Organ...|         3|         7|    12 - 1 lb pkgs.|   30|\n",
            "|        8|                null|         3|      null|    12 - 12 oz jars|   40|\n",
            "|        9|     Mishi Kobe Niku|         4|         6|   18 - 500 g pkgs.|   97|\n",
            "|       10|                null|         4|      null|   12 - 200 ml jars|   31|\n",
            "+---------+--------------------+----------+----------+-------------------+-----+\n",
            "\n"
          ]
        }
      ]
    },
    {
      "cell_type": "code",
      "metadata": {
        "colab": {
          "base_uri": "https://localhost:8080/"
        },
        "id": "TRUdHW4lK48Y",
        "outputId": "67d0d972-2b95-419f-959b-2185b4304fac"
      },
      "source": [
        "df_product_table.na.drop('any').show()"
      ],
      "execution_count": 51,
      "outputs": [
        {
          "output_type": "stream",
          "name": "stdout",
          "text": [
            "+---------+--------------------+----------+----------+-------------------+-----+\n",
            "|ProductID|         ProductName|SupplierID|CategoryID|               Unit|Price|\n",
            "+---------+--------------------+----------+----------+-------------------+-----+\n",
            "|        1|               Chais|         1|         1| 10 boxes x 20 bags|   18|\n",
            "|        2|               Chang|         1|         1| 24 - 12 oz bottles|   19|\n",
            "|        3|       Aniseed Syrup|         1|         2|12 - 550 ml bottles|   10|\n",
            "|        4|Chef Anton's Caju...|         2|         2|     48 - 6 oz jars|   22|\n",
            "|        5|Chef Anton's Gumb...|         2|         2|           36 boxes|21.35|\n",
            "|        6|                null|         3|         2|     12 - 8 oz jars|   25|\n",
            "|        7|Uncle Bob's Organ...|         3|         7|    12 - 1 lb pkgs.|   30|\n",
            "|        9|     Mishi Kobe Niku|         4|         6|   18 - 500 g pkgs.|   97|\n",
            "+---------+--------------------+----------+----------+-------------------+-----+\n",
            "\n"
          ]
        }
      ]
    },
    {
      "cell_type": "markdown",
      "metadata": {
        "id": "OVAPwQIB0xpd"
      },
      "source": [
        "# ***8.WRITING TO DIFFERENT FILE FORMAT***"
      ]
    },
    {
      "cell_type": "code",
      "metadata": {
        "colab": {
          "base_uri": "https://localhost:8080/",
          "height": 71
        },
        "id": "rAWzXMyP0Xck",
        "outputId": "17c404df-757e-4563-d56e-49f980903c19"
      },
      "source": [
        "df_order= spark.read.csv('/content/csv/order.csv',header=True,inferSchema= True)\n",
        "\n",
        "#Official syntax\n",
        "'''\n",
        "df.write \\\n",
        "  .format('json') \\\n",
        "  .mode('overwrite') \\\n",
        "  .option('path','/content/json/') \\\n",
        "  .save()\n",
        "\n",
        "MODE- 1.Overwrite = Cleans up the target directory, \n",
        "      2.Append = Append the data files, \n",
        "      3.Ignore = Writes the data if directory is empty else nothing, \n",
        "      4.errorIfExists = Throw error if having some data at the location\n",
        "'''\n",
        "#Shortcut\n",
        "df_order.write.json('/content/json/')\n",
        "df_order.write.parquet('/content/parquet/')\n",
        "'''\n",
        "#Official\n",
        "df_order.write \\\n",
        "  .format('json') \\\n",
        "  .mode('overwrite') \\\n",
        "  .option('path','/content/json/') \\\n",
        "  .save()\n",
        "\n",
        "df_order.write \\\n",
        "  .format('parquet') \\\n",
        "  .mode('overwrite') \\\n",
        "  .option('path','/content/parquet/') \\\n",
        "  .save()\n",
        "  '''"
      ],
      "execution_count": 53,
      "outputs": [
        {
          "output_type": "execute_result",
          "data": {
            "application/vnd.google.colaboratory.intrinsic+json": {
              "type": "string"
            },
            "text/plain": [
              "\"\\n#Official\\ndf_order.write   .format('json')   .mode('overwrite')   .option('path','/content/json/')   .save()\\n\\ndf_order.write   .format('parquet')   .mode('overwrite')   .option('path','/content/parquet/')   .save()\\n  \""
            ]
          },
          "metadata": {},
          "execution_count": 53
        }
      ]
    },
    {
      "cell_type": "markdown",
      "metadata": {
        "id": "T4l3XcOZ4q-6"
      },
      "source": [
        "# ***9. CREATING DATAFRAME SCHEMAS FOR DIFFERENT FORMAT FILES***"
      ]
    },
    {
      "cell_type": "code",
      "metadata": {
        "colab": {
          "base_uri": "https://localhost:8080/"
        },
        "id": "HUXzS7Pu0Xlt",
        "outputId": "6889e902-42e0-4534-92d9-fe545d3098b1"
      },
      "source": [
        "df_OrderCsv=df_order\n",
        "df_OrderCsv.printSchema()\n",
        "df_OrderJson=spark.read.json('/content/json/order.json')  #headers are not there and auto recognize schema in Json\n",
        "df_OrderJson.printSchema()\n",
        "df_OrderParq=spark.read.parquet('/content/parquet/order.parquet',header=True) #Already contains info about dataTypes\n",
        "df_OrderParq.printSchema()"
      ],
      "execution_count": 54,
      "outputs": [
        {
          "output_type": "stream",
          "name": "stdout",
          "text": [
            "root\n",
            " |-- OrderID: integer (nullable = true)\n",
            " |-- CustomerID: integer (nullable = true)\n",
            " |-- EmployeeID: integer (nullable = true)\n",
            " |-- OrderDate: string (nullable = true)\n",
            " |-- ShipperID: integer (nullable = true)\n",
            "\n",
            "root\n",
            " |-- CustomerID: long (nullable = true)\n",
            " |-- EmployeeID: long (nullable = true)\n",
            " |-- OrderDate: string (nullable = true)\n",
            " |-- OrderID: long (nullable = true)\n",
            " |-- ShipperID: long (nullable = true)\n",
            "\n",
            "root\n",
            " |-- OrderID: integer (nullable = true)\n",
            " |-- CustomerID: integer (nullable = true)\n",
            " |-- EmployeeID: integer (nullable = true)\n",
            " |-- OrderDate: string (nullable = true)\n",
            " |-- ShipperID: integer (nullable = true)\n",
            "\n"
          ]
        }
      ]
    },
    {
      "cell_type": "markdown",
      "metadata": {
        "id": "hdkkVCFF4y3P"
      },
      "source": [
        "**Using inferSchema, other schemas are ok but Date is still a string**\n",
        "\n",
        "##To resolve this, two types of schema applying methods are there\n",
        "\n",
        "## 9.1. Programatically Define Schema\n",
        "Spark dataframe schema is a structType which is made up of a list of structField\n"
      ]
    },
    {
      "cell_type": "code",
      "metadata": {
        "id": "mWmCL-WS0XuA"
      },
      "source": [
        "from pyspark.sql.types import StructType\n",
        "from pyspark.sql.types import StructField\n",
        "from pyspark.sql.types import DateType\n",
        "from pyspark.sql.types import IntegerType\n",
        "from pyspark.sql.types import StringType\n",
        "from pyspark.sql import types\n",
        "# Defining schema for all the columns programatically\n",
        "internalSchema= StructType([\n",
        "                      StructField('OrderID',IntegerType()),\n",
        "                      StructField('CustomerID',IntegerType()),\n",
        "                      StructField('EmployeeID',IntegerType()),\n",
        "                      StructField('OrderDate',DateType()),\n",
        "                      StructField('ShipperID',IntegerType())\n",
        "\n",
        "])"
      ],
      "execution_count": 55,
      "outputs": []
    },
    {
      "cell_type": "code",
      "metadata": {
        "colab": {
          "base_uri": "https://localhost:8080/"
        },
        "id": "h-4Y0NmE0Xwq",
        "outputId": "5b5ff4d4-31e7-4893-fcb1-236ab9c1be60"
      },
      "source": [
        "df_OrderCsv= spark.read.schema(internalSchema).csv('/content/csv/order.csv',header=True)\n",
        "df_OrderCsv.printSchema()\n",
        "df_OrderJson=spark.read.schema(internalSchema).json('/content/json/order.json')\n",
        "df_OrderJson.printSchema()\n",
        "df_OrderParq=spark.read.schema(internalSchema).parquet('/content/parquet/order.parquet',header=True)\n",
        "df_OrderParq.printSchema()\n",
        "\n",
        "#If getting error for date type format, use --> .option('dateFormat','M/D/Y')"
      ],
      "execution_count": 56,
      "outputs": [
        {
          "output_type": "stream",
          "name": "stdout",
          "text": [
            "root\n",
            " |-- OrderID: integer (nullable = true)\n",
            " |-- CustomerID: integer (nullable = true)\n",
            " |-- EmployeeID: integer (nullable = true)\n",
            " |-- OrderDate: date (nullable = true)\n",
            " |-- ShipperID: integer (nullable = true)\n",
            "\n",
            "root\n",
            " |-- OrderID: integer (nullable = true)\n",
            " |-- CustomerID: integer (nullable = true)\n",
            " |-- EmployeeID: integer (nullable = true)\n",
            " |-- OrderDate: date (nullable = true)\n",
            " |-- ShipperID: integer (nullable = true)\n",
            "\n",
            "root\n",
            " |-- OrderID: integer (nullable = true)\n",
            " |-- CustomerID: integer (nullable = true)\n",
            " |-- EmployeeID: integer (nullable = true)\n",
            " |-- OrderDate: date (nullable = true)\n",
            " |-- ShipperID: integer (nullable = true)\n",
            "\n"
          ]
        }
      ]
    },
    {
      "cell_type": "markdown",
      "metadata": {
        "id": "hDrSZraQBbnA"
      },
      "source": [
        "## 9.2. Using DDL (Explicitly Define Schema)"
      ]
    },
    {
      "cell_type": "code",
      "metadata": {
        "colab": {
          "base_uri": "https://localhost:8080/"
        },
        "id": "rSwbzFW10X1G",
        "outputId": "4c6d7ebf-7826-48da-c2b0-50088212bcb8"
      },
      "source": [
        "ddlSchema= \"OrderID INT,CustomerID INT,EmployeeID INT,OrderDate DATE,ShipperID INT\"\n",
        "df_OrderCsv= spark.read.schema(ddlSchema).csv('/content/csv/order.csv',header=True)\n",
        "df_OrderCsv.printSchema()\n",
        "df_OrderJson=spark.read.schema(ddlSchema).json('/content/json/order.json')\n",
        "df_OrderJson.printSchema()\n",
        "df_OrderParq=spark.read.schema(ddlSchema).parquet('/content/parquet/order.parquet',header=True)\n",
        "df_OrderParq.printSchema()"
      ],
      "execution_count": 57,
      "outputs": [
        {
          "output_type": "stream",
          "name": "stdout",
          "text": [
            "root\n",
            " |-- OrderID: integer (nullable = true)\n",
            " |-- CustomerID: integer (nullable = true)\n",
            " |-- EmployeeID: integer (nullable = true)\n",
            " |-- OrderDate: date (nullable = true)\n",
            " |-- ShipperID: integer (nullable = true)\n",
            "\n",
            "root\n",
            " |-- OrderID: integer (nullable = true)\n",
            " |-- CustomerID: integer (nullable = true)\n",
            " |-- EmployeeID: integer (nullable = true)\n",
            " |-- OrderDate: date (nullable = true)\n",
            " |-- ShipperID: integer (nullable = true)\n",
            "\n",
            "root\n",
            " |-- OrderID: integer (nullable = true)\n",
            " |-- CustomerID: integer (nullable = true)\n",
            " |-- EmployeeID: integer (nullable = true)\n",
            " |-- OrderDate: date (nullable = true)\n",
            " |-- ShipperID: integer (nullable = true)\n",
            "\n"
          ]
        }
      ]
    },
    {
      "cell_type": "code",
      "metadata": {
        "id": "aSJUdZMsKH4r"
      },
      "source": [
        ""
      ],
      "execution_count": 57,
      "outputs": []
    },
    {
      "cell_type": "markdown",
      "metadata": {
        "id": "-QpBSMqvJUEg"
      },
      "source": [
        "# ***OTHER***\n",
        "\n",
        "# ==> Getting no of partitions dataFrame has"
      ]
    },
    {
      "cell_type": "code",
      "metadata": {
        "colab": {
          "base_uri": "https://localhost:8080/"
        },
        "id": "r5cooFiw0X2x",
        "outputId": "34a89065-9958-4665-c3d7-a0580c19055f"
      },
      "source": [
        "num= df_pyspark.rdd.getNumPartitions()\n",
        "print(\"Number of partitions before\" +str(num))\n",
        "\n",
        "num= df_OrderParq.rdd.getNumPartitions()\n",
        "print(num)\n",
        "\n",
        "from pyspark.sql.functions import spark_partition_id\n",
        "\n",
        "print(\"Partitions count of records before\")\n",
        "df_pyspark.groupBy(spark_partition_id()).count().show()\n"
      ],
      "execution_count": 58,
      "outputs": [
        {
          "output_type": "stream",
          "name": "stdout",
          "text": [
            "Number of partitions before1\n",
            "1\n",
            "Partitions count of records before\n",
            "+--------------------+-----+\n",
            "|SPARK_PARTITION_ID()|count|\n",
            "+--------------------+-----+\n",
            "|                   0|   91|\n",
            "+--------------------+-----+\n",
            "\n"
          ]
        }
      ]
    },
    {
      "cell_type": "markdown",
      "metadata": {
        "id": "43VdL6o2hINh"
      },
      "source": [
        "# ==> Changing the Num of Partitions of a DF (Random Partition)\n"
      ]
    },
    {
      "cell_type": "code",
      "metadata": {
        "colab": {
          "base_uri": "https://localhost:8080/"
        },
        "id": "eXsvDeow0X_O",
        "outputId": "7786b0c3-a42c-4458-8ade-af3cbae08cb0"
      },
      "source": [
        "df_pyspark= df_pyspark.repartition(5)\n",
        "numb= df_pyspark.rdd.getNumPartitions()\n",
        "print(\"Number of partitions after \" +str(numb))\n",
        "\n",
        "from pyspark.sql.functions import spark_partition_id \n",
        "\n",
        "print(\"Partitions count of records\")\n",
        "df_pyspark.groupBy(spark_partition_id()).count().show()\n",
        "\n",
        "#If we will wirte to a directory, then we will get "
      ],
      "execution_count": 60,
      "outputs": [
        {
          "output_type": "stream",
          "name": "stdout",
          "text": [
            "Number of partitions after 5\n",
            "Partitions count of records\n",
            "+--------------------+-----+\n",
            "|SPARK_PARTITION_ID()|count|\n",
            "+--------------------+-----+\n",
            "|                   0|   18|\n",
            "|                   1|   19|\n",
            "|                   2|   18|\n",
            "|                   3|   18|\n",
            "|                   4|   18|\n",
            "+--------------------+-----+\n",
            "\n"
          ]
        }
      ]
    },
    {
      "cell_type": "markdown",
      "metadata": {
        "id": "JMSVk7zyysY_"
      },
      "source": [
        "# ==> Partitioned by on columns\n",
        "\n"
      ]
    },
    {
      "cell_type": "markdown",
      "metadata": {
        "id": "4EIdibRb75fK"
      },
      "source": [
        "### PartitionBy single column"
      ]
    },
    {
      "cell_type": "code",
      "metadata": {
        "id": "4qHcREz20YBI"
      },
      "source": [
        "df_pyspark.write.format('csv')\\\n",
        "          .mode('overwrite')\\\n",
        "          .option('path','/content/single_Partition/')\\\n",
        "          .partitionBy('Country')\\\n",
        "          .save()"
      ],
      "execution_count": 61,
      "outputs": []
    },
    {
      "cell_type": "markdown",
      "metadata": {
        "id": "Aw7rGnwz8FNl"
      },
      "source": [
        "### PartitionBy two columns (i.e sub-partition)"
      ]
    },
    {
      "cell_type": "code",
      "metadata": {
        "id": "aymwWfpk74H6"
      },
      "source": [
        "df_pyspark.write.format('csv')\\\n",
        "          .mode('overwrite')\\\n",
        "          .option('path','/content/sub_Partition/')\\\n",
        "          .partitionBy('Country','City')\\\n",
        "          .save()"
      ],
      "execution_count": 62,
      "outputs": []
    },
    {
      "cell_type": "markdown",
      "metadata": {
        "id": "7Ve9mFXO8gTo"
      },
      "source": [
        "# ==> Limiting Max Num of Records per file while writing"
      ]
    },
    {
      "cell_type": "code",
      "metadata": {
        "id": "Tm4txjyT0YEO"
      },
      "source": [
        "df_pyspark.write.format('csv')\\\n",
        "          .mode('overwrite')\\\n",
        "          .option('path','/content/maxRecordsPerFile_50/')\\\n",
        "          .option('maxRecordsPerFile',50)\\\n",
        "          .save()"
      ],
      "execution_count": 63,
      "outputs": []
    },
    {
      "cell_type": "code",
      "metadata": {
        "id": "KWCvcOxs-KS3"
      },
      "source": [
        ""
      ],
      "execution_count": null,
      "outputs": []
    },
    {
      "cell_type": "code",
      "metadata": {
        "id": "jU5BWSbo-KhD"
      },
      "source": [
        ""
      ],
      "execution_count": null,
      "outputs": []
    },
    {
      "cell_type": "code",
      "metadata": {
        "id": "BdXZn6Yf-KoR"
      },
      "source": [
        ""
      ],
      "execution_count": null,
      "outputs": []
    },
    {
      "cell_type": "code",
      "metadata": {
        "id": "NXQx7Trm-Kqg"
      },
      "source": [
        ""
      ],
      "execution_count": null,
      "outputs": []
    }
  ]
}