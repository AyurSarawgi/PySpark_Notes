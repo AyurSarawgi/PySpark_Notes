{
  "nbformat": 4,
  "nbformat_minor": 0,
  "metadata": {
    "colab": {
      "name": "PySpark_Practice-1.ipynb",
      "provenance": [],
      "collapsed_sections": [],
      "authorship_tag": "ABX9TyOYh6VaHcCVVRNDbCrQLa1a",
      "include_colab_link": true
    },
    "kernelspec": {
      "name": "python3",
      "display_name": "Python 3"
    },
    "language_info": {
      "name": "python"
    }
  },
  "cells": [
    {
      "cell_type": "markdown",
      "metadata": {
        "id": "view-in-github",
        "colab_type": "text"
      },
      "source": [
        "<a href=\"https://colab.research.google.com/github/AyurSarawgi/PySpark_Notes/blob/main/PySpark_Practice_1.ipynb\" target=\"_parent\"><img src=\"https://colab.research.google.com/assets/colab-badge.svg\" alt=\"Open In Colab\"/></a>"
      ]
    },
    {
      "cell_type": "code",
      "metadata": {
        "colab": {
          "base_uri": "https://localhost:8080/"
        },
        "id": "PPb_whXhgBgn",
        "outputId": "16dec993-bf8c-40b7-c41e-c043af398e9f"
      },
      "source": [
        "!pip install pyspark"
      ],
      "execution_count": 1,
      "outputs": [
        {
          "output_type": "stream",
          "text": [
            "Collecting pyspark\n",
            "  Downloading pyspark-3.1.2.tar.gz (212.4 MB)\n",
            "\u001b[K     |████████████████████████████████| 212.4 MB 59 kB/s \n",
            "\u001b[?25hCollecting py4j==0.10.9\n",
            "  Downloading py4j-0.10.9-py2.py3-none-any.whl (198 kB)\n",
            "\u001b[K     |████████████████████████████████| 198 kB 42.7 MB/s \n",
            "\u001b[?25hBuilding wheels for collected packages: pyspark\n",
            "  Building wheel for pyspark (setup.py) ... \u001b[?25l\u001b[?25hdone\n",
            "  Created wheel for pyspark: filename=pyspark-3.1.2-py2.py3-none-any.whl size=212880768 sha256=6b0a701bacc0a067d24edec5f48c3c63430ebb300b9c7c93bc3934d8d48878b3\n",
            "  Stored in directory: /root/.cache/pip/wheels/a5/0a/c1/9561f6fecb759579a7d863dcd846daaa95f598744e71b02c77\n",
            "Successfully built pyspark\n",
            "Installing collected packages: py4j, pyspark\n",
            "Successfully installed py4j-0.10.9 pyspark-3.1.2\n"
          ],
          "name": "stdout"
        }
      ]
    },
    {
      "cell_type": "code",
      "metadata": {
        "id": "RKPWZDotg4QJ"
      },
      "source": [
        "import pyspark"
      ],
      "execution_count": 4,
      "outputs": []
    },
    {
      "cell_type": "code",
      "metadata": {
        "id": "CUqnDDvkg8QS"
      },
      "source": [
        "from pyspark.sql import SparkSession"
      ],
      "execution_count": 5,
      "outputs": []
    },
    {
      "cell_type": "code",
      "metadata": {
        "id": "Vzba94z1g8yZ"
      },
      "source": [
        "spark=SparkSession.builder.appName('Practice-1').getOrCreate()"
      ],
      "execution_count": 7,
      "outputs": []
    },
    {
      "cell_type": "markdown",
      "metadata": {
        "id": "DfwiJrQUhWSA"
      },
      "source": [
        "# ***1.READING A FILE***"
      ]
    },
    {
      "cell_type": "code",
      "metadata": {
        "colab": {
          "base_uri": "https://localhost:8080/"
        },
        "id": "YgO7SGl8hkGC",
        "outputId": "f7a6ed06-6c96-410d-f0f8-f5436714e023"
      },
      "source": [
        "df_pyspark=spark.read.csv('test.csv')\n",
        "df_pyspark.show()"
      ],
      "execution_count": 17,
      "outputs": [
        {
          "output_type": "stream",
          "text": [
            "+---------+--------------------+----------+----------+--------------------+-----+\n",
            "|      _c0|                 _c1|       _c2|       _c3|                 _c4|  _c5|\n",
            "+---------+--------------------+----------+----------+--------------------+-----+\n",
            "|ProductID|         ProductName|SupplierID|CategoryID|                Unit|Price|\n",
            "|        1|               Chais|         1|         1|  10 boxes x 20 bags|   18|\n",
            "|        2|               Chang|         1|         1|  24 - 12 oz bottles|   19|\n",
            "|        3|       Aniseed Syrup|         1|         2| 12 - 550 ml bottles|   10|\n",
            "|        4|Chef Anton's Caju...|         2|         2|      48 - 6 oz jars|   22|\n",
            "|        5|Chef Anton's Gumb...|         2|         2|            36 boxes|21.35|\n",
            "|        6|Grandma's Boysenb...|         3|         2|      12 - 8 oz jars|   25|\n",
            "|     null|                null|      null|      null|                null| null|\n",
            "|        8|Northwoods Cranbe...|         3|         2|     12 - 12 oz jars|   40|\n",
            "|     null|     Mishi Kobe Niku|         4|         6|    18 - 500 g pkgs.|   97|\n",
            "|       10|               Ikura|      null|         8|    12 - 200 ml jars|   31|\n",
            "|       11|      Queso Cabrales|         5|      null|           1 kg pkg.|   21|\n",
            "|       12|Queso Manchego La...|         5|         4|                null|   38|\n",
            "|       13|               Konbu|         6|         8|            2 kg box| null|\n",
            "|       14|                Tofu|         6|         7|    40 - 100 g pkgs.|23.25|\n",
            "|       15|        Genen Shouyu|         6|         2| 24 - 250 ml bottles| 15.5|\n",
            "|       16|             Pavlova|         7|         3|    32 - 500 g boxes|17.45|\n",
            "|       17|        Alice Mutton|         7|         6|      20 - 1 kg tins|   39|\n",
            "|       18|    Carnarvon Tigers|         7|         8|          16 kg pkg.| 62.5|\n",
            "|       19|Teatime Chocolate...|         8|         3|10 boxes x 12 pieces|  9.2|\n",
            "+---------+--------------------+----------+----------+--------------------+-----+\n",
            "only showing top 20 rows\n",
            "\n"
          ],
          "name": "stdout"
        }
      ]
    },
    {
      "cell_type": "markdown",
      "metadata": {
        "id": "U1lWD0mEmalj"
      },
      "source": [
        "### 1.1 Reading Files With Header"
      ]
    },
    {
      "cell_type": "code",
      "metadata": {
        "colab": {
          "base_uri": "https://localhost:8080/"
        },
        "id": "hTUKJHMvmjgl",
        "outputId": "cf2e012d-19d0-4a1a-b8f9-b9018ec2053a"
      },
      "source": [
        "df_pyspark=spark.read.option('header','true').csv('test.csv')\n",
        "df_pyspark.show()"
      ],
      "execution_count": 18,
      "outputs": [
        {
          "output_type": "stream",
          "text": [
            "+---------+--------------------+----------+----------+--------------------+-----+\n",
            "|ProductID|         ProductName|SupplierID|CategoryID|                Unit|Price|\n",
            "+---------+--------------------+----------+----------+--------------------+-----+\n",
            "|        1|               Chais|         1|         1|  10 boxes x 20 bags|   18|\n",
            "|        2|               Chang|         1|         1|  24 - 12 oz bottles|   19|\n",
            "|        3|       Aniseed Syrup|         1|         2| 12 - 550 ml bottles|   10|\n",
            "|        4|Chef Anton's Caju...|         2|         2|      48 - 6 oz jars|   22|\n",
            "|        5|Chef Anton's Gumb...|         2|         2|            36 boxes|21.35|\n",
            "|        6|Grandma's Boysenb...|         3|         2|      12 - 8 oz jars|   25|\n",
            "|     null|                null|      null|      null|                null| null|\n",
            "|        8|Northwoods Cranbe...|         3|         2|     12 - 12 oz jars|   40|\n",
            "|     null|     Mishi Kobe Niku|         4|         6|    18 - 500 g pkgs.|   97|\n",
            "|       10|               Ikura|      null|         8|    12 - 200 ml jars|   31|\n",
            "|       11|      Queso Cabrales|         5|      null|           1 kg pkg.|   21|\n",
            "|       12|Queso Manchego La...|         5|         4|                null|   38|\n",
            "|       13|               Konbu|         6|         8|            2 kg box| null|\n",
            "|       14|                Tofu|         6|         7|    40 - 100 g pkgs.|23.25|\n",
            "|       15|        Genen Shouyu|         6|         2| 24 - 250 ml bottles| 15.5|\n",
            "|       16|             Pavlova|         7|         3|    32 - 500 g boxes|17.45|\n",
            "|       17|        Alice Mutton|         7|         6|      20 - 1 kg tins|   39|\n",
            "|       18|    Carnarvon Tigers|         7|         8|          16 kg pkg.| 62.5|\n",
            "|       19|Teatime Chocolate...|         8|         3|10 boxes x 12 pieces|  9.2|\n",
            "|       20|Sir Rodney's Marm...|         8|         3|       30 gift boxes|   81|\n",
            "+---------+--------------------+----------+----------+--------------------+-----+\n",
            "only showing top 20 rows\n",
            "\n"
          ],
          "name": "stdout"
        }
      ]
    },
    {
      "cell_type": "code",
      "metadata": {
        "colab": {
          "base_uri": "https://localhost:8080/"
        },
        "id": "eISdJeGQnCh5",
        "outputId": "abe7799a-0eae-48c3-8522-0896ff4cd3b7"
      },
      "source": [
        "df_pyspark=spark.read.csv('test.csv',header=True)\n",
        "df_pyspark.show()"
      ],
      "execution_count": 19,
      "outputs": [
        {
          "output_type": "stream",
          "text": [
            "+---------+--------------------+----------+----------+--------------------+-----+\n",
            "|ProductID|         ProductName|SupplierID|CategoryID|                Unit|Price|\n",
            "+---------+--------------------+----------+----------+--------------------+-----+\n",
            "|        1|               Chais|         1|         1|  10 boxes x 20 bags|   18|\n",
            "|        2|               Chang|         1|         1|  24 - 12 oz bottles|   19|\n",
            "|        3|       Aniseed Syrup|         1|         2| 12 - 550 ml bottles|   10|\n",
            "|        4|Chef Anton's Caju...|         2|         2|      48 - 6 oz jars|   22|\n",
            "|        5|Chef Anton's Gumb...|         2|         2|            36 boxes|21.35|\n",
            "|        6|Grandma's Boysenb...|         3|         2|      12 - 8 oz jars|   25|\n",
            "|     null|                null|      null|      null|                null| null|\n",
            "|        8|Northwoods Cranbe...|         3|         2|     12 - 12 oz jars|   40|\n",
            "|     null|     Mishi Kobe Niku|         4|         6|    18 - 500 g pkgs.|   97|\n",
            "|       10|               Ikura|      null|         8|    12 - 200 ml jars|   31|\n",
            "|       11|      Queso Cabrales|         5|      null|           1 kg pkg.|   21|\n",
            "|       12|Queso Manchego La...|         5|         4|                null|   38|\n",
            "|       13|               Konbu|         6|         8|            2 kg box| null|\n",
            "|       14|                Tofu|         6|         7|    40 - 100 g pkgs.|23.25|\n",
            "|       15|        Genen Shouyu|         6|         2| 24 - 250 ml bottles| 15.5|\n",
            "|       16|             Pavlova|         7|         3|    32 - 500 g boxes|17.45|\n",
            "|       17|        Alice Mutton|         7|         6|      20 - 1 kg tins|   39|\n",
            "|       18|    Carnarvon Tigers|         7|         8|          16 kg pkg.| 62.5|\n",
            "|       19|Teatime Chocolate...|         8|         3|10 boxes x 12 pieces|  9.2|\n",
            "|       20|Sir Rodney's Marm...|         8|         3|       30 gift boxes|   81|\n",
            "+---------+--------------------+----------+----------+--------------------+-----+\n",
            "only showing top 20 rows\n",
            "\n"
          ],
          "name": "stdout"
        }
      ]
    },
    {
      "cell_type": "markdown",
      "metadata": {
        "id": "07SQVuY9nL6J"
      },
      "source": [
        "### 1.2 Reading N Rows From Top Only (in form of list)"
      ]
    },
    {
      "cell_type": "code",
      "metadata": {
        "colab": {
          "base_uri": "https://localhost:8080/"
        },
        "id": "oSCc_ASZnUBh",
        "outputId": "0724bdab-f50d-42e1-87a5-1c80741934c1"
      },
      "source": [
        "df_pyspark.head(4)"
      ],
      "execution_count": 21,
      "outputs": [
        {
          "output_type": "execute_result",
          "data": {
            "text/plain": [
              "[Row(ProductID='1', ProductName='Chais', SupplierID='1', CategoryID='1', Unit='10 boxes x 20 bags', Price='18'),\n",
              " Row(ProductID='2', ProductName='Chang', SupplierID='1', CategoryID='1', Unit='24 - 12 oz bottles', Price='19'),\n",
              " Row(ProductID='3', ProductName='Aniseed Syrup', SupplierID='1', CategoryID='2', Unit='12 - 550 ml bottles', Price='10'),\n",
              " Row(ProductID='4', ProductName=\"Chef Anton's Cajun Seasoning\", SupplierID='2', CategoryID='2', Unit='48 - 6 oz jars', Price='22')]"
            ]
          },
          "metadata": {
            "tags": []
          },
          "execution_count": 21
        }
      ]
    },
    {
      "cell_type": "markdown",
      "metadata": {
        "id": "ewUnzFL7nsNj"
      },
      "source": [
        "### 1.3 Information Regarding Columns"
      ]
    },
    {
      "cell_type": "code",
      "metadata": {
        "colab": {
          "base_uri": "https://localhost:8080/"
        },
        "id": "TJT_rxKtnyBE",
        "outputId": "b844b4a6-95d6-472d-bc4f-5126df416419"
      },
      "source": [
        "df_pyspark.printSchema()"
      ],
      "execution_count": 22,
      "outputs": [
        {
          "output_type": "stream",
          "text": [
            "root\n",
            " |-- ProductID: string (nullable = true)\n",
            " |-- ProductName: string (nullable = true)\n",
            " |-- SupplierID: string (nullable = true)\n",
            " |-- CategoryID: string (nullable = true)\n",
            " |-- Unit: string (nullable = true)\n",
            " |-- Price: string (nullable = true)\n",
            "\n"
          ],
          "name": "stdout"
        }
      ]
    },
    {
      "cell_type": "markdown",
      "metadata": {
        "id": "AdGlWLbdn33Z"
      },
      "source": [
        "### 1.4 Setting Column DataType According To Data Present"
      ]
    },
    {
      "cell_type": "code",
      "metadata": {
        "colab": {
          "base_uri": "https://localhost:8080/"
        },
        "id": "RSrLBZDzn_gy",
        "outputId": "82181d5c-9759-40f3-cc90-e0ef14c1e958"
      },
      "source": [
        "df_pyspark=spark.read.csv('test.csv',header=True,inferSchema=True)\n",
        "df_pyspark.show()\n",
        "\n",
        "df_pyspark.printSchema()"
      ],
      "execution_count": 25,
      "outputs": [
        {
          "output_type": "stream",
          "text": [
            "+---------+--------------------+----------+----------+--------------------+-----+\n",
            "|ProductID|         ProductName|SupplierID|CategoryID|                Unit|Price|\n",
            "+---------+--------------------+----------+----------+--------------------+-----+\n",
            "|        1|               Chais|         1|         1|  10 boxes x 20 bags| 18.0|\n",
            "|        2|               Chang|         1|         1|  24 - 12 oz bottles| 19.0|\n",
            "|        3|       Aniseed Syrup|         1|         2| 12 - 550 ml bottles| 10.0|\n",
            "|        4|Chef Anton's Caju...|         2|         2|      48 - 6 oz jars| 22.0|\n",
            "|        5|Chef Anton's Gumb...|         2|         2|            36 boxes|21.35|\n",
            "|        6|Grandma's Boysenb...|         3|         2|      12 - 8 oz jars| 25.0|\n",
            "|     null|                null|      null|      null|                null| null|\n",
            "|        8|Northwoods Cranbe...|         3|         2|     12 - 12 oz jars| 40.0|\n",
            "|     null|     Mishi Kobe Niku|         4|         6|    18 - 500 g pkgs.| 97.0|\n",
            "|       10|               Ikura|      null|         8|    12 - 200 ml jars| 31.0|\n",
            "|       11|      Queso Cabrales|         5|      null|           1 kg pkg.| 21.0|\n",
            "|       12|Queso Manchego La...|         5|         4|                null| 38.0|\n",
            "|       13|               Konbu|         6|         8|            2 kg box| null|\n",
            "|       14|                Tofu|         6|         7|    40 - 100 g pkgs.|23.25|\n",
            "|       15|        Genen Shouyu|         6|         2| 24 - 250 ml bottles| 15.5|\n",
            "|       16|             Pavlova|         7|         3|    32 - 500 g boxes|17.45|\n",
            "|       17|        Alice Mutton|         7|         6|      20 - 1 kg tins| 39.0|\n",
            "|       18|    Carnarvon Tigers|         7|         8|          16 kg pkg.| 62.5|\n",
            "|       19|Teatime Chocolate...|         8|         3|10 boxes x 12 pieces|  9.2|\n",
            "|       20|Sir Rodney's Marm...|         8|         3|       30 gift boxes| 81.0|\n",
            "+---------+--------------------+----------+----------+--------------------+-----+\n",
            "only showing top 20 rows\n",
            "\n",
            "root\n",
            " |-- ProductID: integer (nullable = true)\n",
            " |-- ProductName: string (nullable = true)\n",
            " |-- SupplierID: integer (nullable = true)\n",
            " |-- CategoryID: integer (nullable = true)\n",
            " |-- Unit: string (nullable = true)\n",
            " |-- Price: double (nullable = true)\n",
            "\n"
          ],
          "name": "stdout"
        }
      ]
    },
    {
      "cell_type": "markdown",
      "metadata": {
        "id": "bgg8aPvJo2NT"
      },
      "source": [
        "# ***2. ALL ABOUT COLUMNS***"
      ]
    },
    {
      "cell_type": "code",
      "metadata": {
        "id": "x29mfoRZpF_j"
      },
      "source": [
        ""
      ],
      "execution_count": null,
      "outputs": []
    },
    {
      "cell_type": "markdown",
      "metadata": {
        "id": "rI3Cf8VtpLX4"
      },
      "source": [
        "### 2.1 All Column Names"
      ]
    },
    {
      "cell_type": "code",
      "metadata": {
        "colab": {
          "base_uri": "https://localhost:8080/"
        },
        "id": "IWYQ2dHmpP0q",
        "outputId": "8b33d45f-34e3-4c2d-a847-664a525af5c8"
      },
      "source": [
        "df_pyspark.columns"
      ],
      "execution_count": 28,
      "outputs": [
        {
          "output_type": "execute_result",
          "data": {
            "text/plain": [
              "['ProductID', 'ProductName', 'SupplierID', 'CategoryID', 'Unit', 'Price']"
            ]
          },
          "metadata": {
            "tags": []
          },
          "execution_count": 28
        }
      ]
    },
    {
      "cell_type": "markdown",
      "metadata": {
        "id": "RYHub4BVpZEJ"
      },
      "source": [
        "### 2.2 Selecting Columns"
      ]
    },
    {
      "cell_type": "code",
      "metadata": {
        "colab": {
          "base_uri": "https://localhost:8080/"
        },
        "id": "bUOi3WMipemk",
        "outputId": "2b9c5db5-aa72-44d3-f6db-430421b2347a"
      },
      "source": [
        "df_pyspark.select('ProductID').show()"
      ],
      "execution_count": 29,
      "outputs": [
        {
          "output_type": "stream",
          "text": [
            "+---------+\n",
            "|ProductID|\n",
            "+---------+\n",
            "|        1|\n",
            "|        2|\n",
            "|        3|\n",
            "|        4|\n",
            "|        5|\n",
            "|        6|\n",
            "|     null|\n",
            "|        8|\n",
            "|     null|\n",
            "|       10|\n",
            "|       11|\n",
            "|       12|\n",
            "|       13|\n",
            "|       14|\n",
            "|       15|\n",
            "|       16|\n",
            "|       17|\n",
            "|       18|\n",
            "|       19|\n",
            "|       20|\n",
            "+---------+\n",
            "only showing top 20 rows\n",
            "\n"
          ],
          "name": "stdout"
        }
      ]
    },
    {
      "cell_type": "code",
      "metadata": {
        "colab": {
          "base_uri": "https://localhost:8080/"
        },
        "id": "-tWw3ENfpmq7",
        "outputId": "b4441ad8-769d-4fc5-e255-7cbe2e8c5b3f"
      },
      "source": [
        "df_pyspark.select('ProductID','ProductName').show()"
      ],
      "execution_count": 30,
      "outputs": [
        {
          "output_type": "stream",
          "text": [
            "+---------+--------------------+\n",
            "|ProductID|         ProductName|\n",
            "+---------+--------------------+\n",
            "|        1|               Chais|\n",
            "|        2|               Chang|\n",
            "|        3|       Aniseed Syrup|\n",
            "|        4|Chef Anton's Caju...|\n",
            "|        5|Chef Anton's Gumb...|\n",
            "|        6|Grandma's Boysenb...|\n",
            "|     null|                null|\n",
            "|        8|Northwoods Cranbe...|\n",
            "|     null|     Mishi Kobe Niku|\n",
            "|       10|               Ikura|\n",
            "|       11|      Queso Cabrales|\n",
            "|       12|Queso Manchego La...|\n",
            "|       13|               Konbu|\n",
            "|       14|                Tofu|\n",
            "|       15|        Genen Shouyu|\n",
            "|       16|             Pavlova|\n",
            "|       17|        Alice Mutton|\n",
            "|       18|    Carnarvon Tigers|\n",
            "|       19|Teatime Chocolate...|\n",
            "|       20|Sir Rodney's Marm...|\n",
            "+---------+--------------------+\n",
            "only showing top 20 rows\n",
            "\n"
          ],
          "name": "stdout"
        }
      ]
    },
    {
      "cell_type": "code",
      "metadata": {
        "colab": {
          "base_uri": "https://localhost:8080/"
        },
        "id": "KJDVfXRCpyf6",
        "outputId": "855b8d44-fdcd-492a-fcd9-e8e52e0f2ce4"
      },
      "source": [
        "df_pyspark.select('ProductName','ProductID').show()"
      ],
      "execution_count": 31,
      "outputs": [
        {
          "output_type": "stream",
          "text": [
            "+--------------------+---------+\n",
            "|         ProductName|ProductID|\n",
            "+--------------------+---------+\n",
            "|               Chais|        1|\n",
            "|               Chang|        2|\n",
            "|       Aniseed Syrup|        3|\n",
            "|Chef Anton's Caju...|        4|\n",
            "|Chef Anton's Gumb...|        5|\n",
            "|Grandma's Boysenb...|        6|\n",
            "|                null|     null|\n",
            "|Northwoods Cranbe...|        8|\n",
            "|     Mishi Kobe Niku|     null|\n",
            "|               Ikura|       10|\n",
            "|      Queso Cabrales|       11|\n",
            "|Queso Manchego La...|       12|\n",
            "|               Konbu|       13|\n",
            "|                Tofu|       14|\n",
            "|        Genen Shouyu|       15|\n",
            "|             Pavlova|       16|\n",
            "|        Alice Mutton|       17|\n",
            "|    Carnarvon Tigers|       18|\n",
            "|Teatime Chocolate...|       19|\n",
            "|Sir Rodney's Marm...|       20|\n",
            "+--------------------+---------+\n",
            "only showing top 20 rows\n",
            "\n"
          ],
          "name": "stdout"
        }
      ]
    },
    {
      "cell_type": "code",
      "metadata": {
        "colab": {
          "base_uri": "https://localhost:8080/"
        },
        "id": "rUVr297sp1Ni",
        "outputId": "87d8013a-6f11-449b-d13c-c6752d453ab1"
      },
      "source": [
        "df_pyspark.select(['ProductName','ProductID']).show()"
      ],
      "execution_count": 32,
      "outputs": [
        {
          "output_type": "stream",
          "text": [
            "+--------------------+---------+\n",
            "|         ProductName|ProductID|\n",
            "+--------------------+---------+\n",
            "|               Chais|        1|\n",
            "|               Chang|        2|\n",
            "|       Aniseed Syrup|        3|\n",
            "|Chef Anton's Caju...|        4|\n",
            "|Chef Anton's Gumb...|        5|\n",
            "|Grandma's Boysenb...|        6|\n",
            "|                null|     null|\n",
            "|Northwoods Cranbe...|        8|\n",
            "|     Mishi Kobe Niku|     null|\n",
            "|               Ikura|       10|\n",
            "|      Queso Cabrales|       11|\n",
            "|Queso Manchego La...|       12|\n",
            "|               Konbu|       13|\n",
            "|                Tofu|       14|\n",
            "|        Genen Shouyu|       15|\n",
            "|             Pavlova|       16|\n",
            "|        Alice Mutton|       17|\n",
            "|    Carnarvon Tigers|       18|\n",
            "|Teatime Chocolate...|       19|\n",
            "|Sir Rodney's Marm...|       20|\n",
            "+--------------------+---------+\n",
            "only showing top 20 rows\n",
            "\n"
          ],
          "name": "stdout"
        }
      ]
    },
    {
      "cell_type": "markdown",
      "metadata": {
        "id": "4oP2DZ0SqAc5"
      },
      "source": [
        "### 2.3 DataTypes Of Columns"
      ]
    },
    {
      "cell_type": "code",
      "metadata": {
        "colab": {
          "base_uri": "https://localhost:8080/"
        },
        "id": "oZq0cwe9qJ1d",
        "outputId": "21c8d49d-85f7-49c1-c5e9-7c7e945d3741"
      },
      "source": [
        "df_pyspark.dtypes"
      ],
      "execution_count": 33,
      "outputs": [
        {
          "output_type": "execute_result",
          "data": {
            "text/plain": [
              "[('ProductID', 'int'),\n",
              " ('ProductName', 'string'),\n",
              " ('SupplierID', 'int'),\n",
              " ('CategoryID', 'int'),\n",
              " ('Unit', 'string'),\n",
              " ('Price', 'double')]"
            ]
          },
          "metadata": {
            "tags": []
          },
          "execution_count": 33
        }
      ]
    },
    {
      "cell_type": "markdown",
      "metadata": {
        "id": "avDIjKa6upfP"
      },
      "source": [
        "### 2.4 Adding A Column In DataFrame"
      ]
    },
    {
      "cell_type": "code",
      "metadata": {
        "colab": {
          "base_uri": "https://localhost:8080/"
        },
        "id": "BlrY3qHJuzQu",
        "outputId": "e2f075ff-ddca-4345-f73b-a2177c183c06"
      },
      "source": [
        "df_pyspark=df_pyspark.withColumn('New_PriceList', df_pyspark['Price']+2)\n",
        "df_pyspark.show()"
      ],
      "execution_count": 34,
      "outputs": [
        {
          "output_type": "stream",
          "text": [
            "+---------+--------------------+----------+----------+--------------------+-----+-------------+\n",
            "|ProductID|         ProductName|SupplierID|CategoryID|                Unit|Price|New_PriceList|\n",
            "+---------+--------------------+----------+----------+--------------------+-----+-------------+\n",
            "|        1|               Chais|         1|         1|  10 boxes x 20 bags| 18.0|         20.0|\n",
            "|        2|               Chang|         1|         1|  24 - 12 oz bottles| 19.0|         21.0|\n",
            "|        3|       Aniseed Syrup|         1|         2| 12 - 550 ml bottles| 10.0|         12.0|\n",
            "|        4|Chef Anton's Caju...|         2|         2|      48 - 6 oz jars| 22.0|         24.0|\n",
            "|        5|Chef Anton's Gumb...|         2|         2|            36 boxes|21.35|        23.35|\n",
            "|        6|Grandma's Boysenb...|         3|         2|      12 - 8 oz jars| 25.0|         27.0|\n",
            "|     null|                null|      null|      null|                null| null|         null|\n",
            "|        8|Northwoods Cranbe...|         3|         2|     12 - 12 oz jars| 40.0|         42.0|\n",
            "|     null|     Mishi Kobe Niku|         4|         6|    18 - 500 g pkgs.| 97.0|         99.0|\n",
            "|       10|               Ikura|      null|         8|    12 - 200 ml jars| 31.0|         33.0|\n",
            "|       11|      Queso Cabrales|         5|      null|           1 kg pkg.| 21.0|         23.0|\n",
            "|       12|Queso Manchego La...|         5|         4|                null| 38.0|         40.0|\n",
            "|       13|               Konbu|         6|         8|            2 kg box| null|         null|\n",
            "|       14|                Tofu|         6|         7|    40 - 100 g pkgs.|23.25|        25.25|\n",
            "|       15|        Genen Shouyu|         6|         2| 24 - 250 ml bottles| 15.5|         17.5|\n",
            "|       16|             Pavlova|         7|         3|    32 - 500 g boxes|17.45|        19.45|\n",
            "|       17|        Alice Mutton|         7|         6|      20 - 1 kg tins| 39.0|         41.0|\n",
            "|       18|    Carnarvon Tigers|         7|         8|          16 kg pkg.| 62.5|         64.5|\n",
            "|       19|Teatime Chocolate...|         8|         3|10 boxes x 12 pieces|  9.2|         11.2|\n",
            "|       20|Sir Rodney's Marm...|         8|         3|       30 gift boxes| 81.0|         83.0|\n",
            "+---------+--------------------+----------+----------+--------------------+-----+-------------+\n",
            "only showing top 20 rows\n",
            "\n"
          ],
          "name": "stdout"
        }
      ]
    },
    {
      "cell_type": "markdown",
      "metadata": {
        "id": "HOA35bn6vRih"
      },
      "source": [
        "### 2.5 Deleting A Column From DataFrame"
      ]
    },
    {
      "cell_type": "code",
      "metadata": {
        "colab": {
          "base_uri": "https://localhost:8080/"
        },
        "id": "PDcn6Kf3vbUd",
        "outputId": "98289da9-ec22-4b59-fcb1-0ced6e47b785"
      },
      "source": [
        "df_pyspark=df_pyspark.drop('New_PriceList')\n",
        "df_pyspark.show()"
      ],
      "execution_count": 35,
      "outputs": [
        {
          "output_type": "stream",
          "text": [
            "+---------+--------------------+----------+----------+--------------------+-----+\n",
            "|ProductID|         ProductName|SupplierID|CategoryID|                Unit|Price|\n",
            "+---------+--------------------+----------+----------+--------------------+-----+\n",
            "|        1|               Chais|         1|         1|  10 boxes x 20 bags| 18.0|\n",
            "|        2|               Chang|         1|         1|  24 - 12 oz bottles| 19.0|\n",
            "|        3|       Aniseed Syrup|         1|         2| 12 - 550 ml bottles| 10.0|\n",
            "|        4|Chef Anton's Caju...|         2|         2|      48 - 6 oz jars| 22.0|\n",
            "|        5|Chef Anton's Gumb...|         2|         2|            36 boxes|21.35|\n",
            "|        6|Grandma's Boysenb...|         3|         2|      12 - 8 oz jars| 25.0|\n",
            "|     null|                null|      null|      null|                null| null|\n",
            "|        8|Northwoods Cranbe...|         3|         2|     12 - 12 oz jars| 40.0|\n",
            "|     null|     Mishi Kobe Niku|         4|         6|    18 - 500 g pkgs.| 97.0|\n",
            "|       10|               Ikura|      null|         8|    12 - 200 ml jars| 31.0|\n",
            "|       11|      Queso Cabrales|         5|      null|           1 kg pkg.| 21.0|\n",
            "|       12|Queso Manchego La...|         5|         4|                null| 38.0|\n",
            "|       13|               Konbu|         6|         8|            2 kg box| null|\n",
            "|       14|                Tofu|         6|         7|    40 - 100 g pkgs.|23.25|\n",
            "|       15|        Genen Shouyu|         6|         2| 24 - 250 ml bottles| 15.5|\n",
            "|       16|             Pavlova|         7|         3|    32 - 500 g boxes|17.45|\n",
            "|       17|        Alice Mutton|         7|         6|      20 - 1 kg tins| 39.0|\n",
            "|       18|    Carnarvon Tigers|         7|         8|          16 kg pkg.| 62.5|\n",
            "|       19|Teatime Chocolate...|         8|         3|10 boxes x 12 pieces|  9.2|\n",
            "|       20|Sir Rodney's Marm...|         8|         3|       30 gift boxes| 81.0|\n",
            "+---------+--------------------+----------+----------+--------------------+-----+\n",
            "only showing top 20 rows\n",
            "\n"
          ],
          "name": "stdout"
        }
      ]
    },
    {
      "cell_type": "markdown",
      "metadata": {
        "id": "VdioAj0Cvy_B"
      },
      "source": [
        "### 2.6 Renaming The Column Name"
      ]
    },
    {
      "cell_type": "code",
      "metadata": {
        "colab": {
          "base_uri": "https://localhost:8080/"
        },
        "id": "2UqutR9fv5cU",
        "outputId": "5e529243-3892-47ed-ffd6-39c1046a4f70"
      },
      "source": [
        "df_pyspark.withColumnRenamed('ProductName', 'P_Name').columns"
      ],
      "execution_count": 38,
      "outputs": [
        {
          "output_type": "execute_result",
          "data": {
            "text/plain": [
              "['ProductID', 'P_Name', 'SupplierID', 'CategoryID', 'Unit', 'Price']"
            ]
          },
          "metadata": {
            "tags": []
          },
          "execution_count": 38
        }
      ]
    },
    {
      "cell_type": "markdown",
      "metadata": {
        "id": "KqqLwluTzqiW"
      },
      "source": [
        "# ***3. OTHERS***"
      ]
    },
    {
      "cell_type": "markdown",
      "metadata": {
        "id": "Vkj4O3hBzzGM"
      },
      "source": [
        "### 3.1 Describing DataFrame"
      ]
    },
    {
      "cell_type": "code",
      "metadata": {
        "colab": {
          "base_uri": "https://localhost:8080/"
        },
        "id": "dmsfUogTzpdb",
        "outputId": "7ea0202a-101a-492b-c0e9-b9df491d0b26"
      },
      "source": [
        "df_pyspark.describe()"
      ],
      "execution_count": 39,
      "outputs": [
        {
          "output_type": "execute_result",
          "data": {
            "text/plain": [
              "DataFrame[summary: string, ProductID: string, ProductName: string, SupplierID: string, CategoryID: string, Unit: string, Price: string]"
            ]
          },
          "metadata": {
            "tags": []
          },
          "execution_count": 39
        }
      ]
    },
    {
      "cell_type": "code",
      "metadata": {
        "colab": {
          "base_uri": "https://localhost:8080/"
        },
        "id": "D1b-DNHz0Cqb",
        "outputId": "1db998d5-0651-44f0-bb63-cc8e6af6a4c2"
      },
      "source": [
        "df_pyspark.describe().show()"
      ],
      "execution_count": 40,
      "outputs": [
        {
          "output_type": "stream",
          "text": [
            "+-------+-----------------+-------------+-----------------+-----------------+-----------------+------------------+\n",
            "|summary|        ProductID|  ProductName|       SupplierID|       CategoryID|             Unit|             Price|\n",
            "+-------+-----------------+-------------+-----------------+-----------------+-----------------+------------------+\n",
            "|  count|               75|           76|               75|               75|               75|                75|\n",
            "|   mean|39.82666666666667|         null|            13.92|             4.08|             null|29.156133333333333|\n",
            "| stddev|22.07565207223593|         null|8.156840935929427|2.403600902250059|             null|  34.1642773721377|\n",
            "|    min|                1| Alice Mutton|                1|                1|        1 kg pkg.|               2.5|\n",
            "|    max|               77|Zaanse koeken|               29|                8|750 cc per bottle|             263.5|\n",
            "+-------+-----------------+-------------+-----------------+-----------------+-----------------+------------------+\n",
            "\n"
          ],
          "name": "stdout"
        }
      ]
    },
    {
      "cell_type": "markdown",
      "metadata": {
        "id": "C2fa8D-H0L5j"
      },
      "source": [
        "# ***4. HANDLING WITH NULL & MISSING VALUES***"
      ]
    },
    {
      "cell_type": "code",
      "metadata": {
        "colab": {
          "base_uri": "https://localhost:8080/"
        },
        "id": "szXmycIz0d2P",
        "outputId": "90a155b7-3105-42f7-cea8-a6d6cedc4df8"
      },
      "source": [
        "df_pyspark.show()"
      ],
      "execution_count": 41,
      "outputs": [
        {
          "output_type": "stream",
          "text": [
            "+---------+--------------------+----------+----------+--------------------+-----+\n",
            "|ProductID|         ProductName|SupplierID|CategoryID|                Unit|Price|\n",
            "+---------+--------------------+----------+----------+--------------------+-----+\n",
            "|        1|               Chais|         1|         1|  10 boxes x 20 bags| 18.0|\n",
            "|        2|               Chang|         1|         1|  24 - 12 oz bottles| 19.0|\n",
            "|        3|       Aniseed Syrup|         1|         2| 12 - 550 ml bottles| 10.0|\n",
            "|        4|Chef Anton's Caju...|         2|         2|      48 - 6 oz jars| 22.0|\n",
            "|        5|Chef Anton's Gumb...|         2|         2|            36 boxes|21.35|\n",
            "|        6|Grandma's Boysenb...|         3|         2|      12 - 8 oz jars| 25.0|\n",
            "|     null|                null|      null|      null|                null| null|\n",
            "|        8|Northwoods Cranbe...|         3|         2|     12 - 12 oz jars| 40.0|\n",
            "|     null|     Mishi Kobe Niku|         4|         6|    18 - 500 g pkgs.| 97.0|\n",
            "|       10|               Ikura|      null|         8|    12 - 200 ml jars| 31.0|\n",
            "|       11|      Queso Cabrales|         5|      null|           1 kg pkg.| 21.0|\n",
            "|       12|Queso Manchego La...|         5|         4|                null| 38.0|\n",
            "|       13|               Konbu|         6|         8|            2 kg box| null|\n",
            "|       14|                Tofu|         6|         7|    40 - 100 g pkgs.|23.25|\n",
            "|       15|        Genen Shouyu|         6|         2| 24 - 250 ml bottles| 15.5|\n",
            "|       16|             Pavlova|         7|         3|    32 - 500 g boxes|17.45|\n",
            "|       17|        Alice Mutton|         7|         6|      20 - 1 kg tins| 39.0|\n",
            "|       18|    Carnarvon Tigers|         7|         8|          16 kg pkg.| 62.5|\n",
            "|       19|Teatime Chocolate...|         8|         3|10 boxes x 12 pieces|  9.2|\n",
            "|       20|Sir Rodney's Marm...|         8|         3|       30 gift boxes| 81.0|\n",
            "+---------+--------------------+----------+----------+--------------------+-----+\n",
            "only showing top 20 rows\n",
            "\n"
          ],
          "name": "stdout"
        }
      ]
    },
    {
      "cell_type": "markdown",
      "metadata": {
        "id": "Yh3R8yKX0Tki"
      },
      "source": [
        "### 4.1 Drpooing Rows Containing Null Value"
      ]
    },
    {
      "cell_type": "code",
      "metadata": {
        "colab": {
          "base_uri": "https://localhost:8080/"
        },
        "id": "KhdoQAhK0dQQ",
        "outputId": "58b0670c-94bd-4b93-df1f-25400a93a1cd"
      },
      "source": [
        "df_pyspark.na.drop().show()"
      ],
      "execution_count": 43,
      "outputs": [
        {
          "output_type": "stream",
          "text": [
            "+---------+--------------------+----------+----------+--------------------+-----+\n",
            "|ProductID|         ProductName|SupplierID|CategoryID|                Unit|Price|\n",
            "+---------+--------------------+----------+----------+--------------------+-----+\n",
            "|        1|               Chais|         1|         1|  10 boxes x 20 bags| 18.0|\n",
            "|        2|               Chang|         1|         1|  24 - 12 oz bottles| 19.0|\n",
            "|        3|       Aniseed Syrup|         1|         2| 12 - 550 ml bottles| 10.0|\n",
            "|        4|Chef Anton's Caju...|         2|         2|      48 - 6 oz jars| 22.0|\n",
            "|        5|Chef Anton's Gumb...|         2|         2|            36 boxes|21.35|\n",
            "|        6|Grandma's Boysenb...|         3|         2|      12 - 8 oz jars| 25.0|\n",
            "|        8|Northwoods Cranbe...|         3|         2|     12 - 12 oz jars| 40.0|\n",
            "|       14|                Tofu|         6|         7|    40 - 100 g pkgs.|23.25|\n",
            "|       15|        Genen Shouyu|         6|         2| 24 - 250 ml bottles| 15.5|\n",
            "|       16|             Pavlova|         7|         3|    32 - 500 g boxes|17.45|\n",
            "|       17|        Alice Mutton|         7|         6|      20 - 1 kg tins| 39.0|\n",
            "|       18|    Carnarvon Tigers|         7|         8|          16 kg pkg.| 62.5|\n",
            "|       19|Teatime Chocolate...|         8|         3|10 boxes x 12 pieces|  9.2|\n",
            "|       20|Sir Rodney's Marm...|         8|         3|       30 gift boxes| 81.0|\n",
            "|       21| Sir Rodney's Scones|         8|         3| 24 pkgs. x 4 pieces| 10.0|\n",
            "|       22| Gustaf's Kn�ckebr�d|         9|         5|    24 - 500 g pkgs.| 21.0|\n",
            "|       23|            Tunnbr�d|         9|         5|    12 - 250 g pkgs.|  9.0|\n",
            "|       24|  Guaran� Fant�stica|        10|         1|    12 - 355 ml cans|  4.5|\n",
            "|       25|NuNuCa Nu�-Nougat...|        11|         3|  20 - 450 g glasses| 14.0|\n",
            "|       26| Gumb�r Gummib�rchen|        11|         3|    100 - 250 g bags|31.23|\n",
            "+---------+--------------------+----------+----------+--------------------+-----+\n",
            "only showing top 20 rows\n",
            "\n"
          ],
          "name": "stdout"
        }
      ]
    },
    {
      "cell_type": "markdown",
      "metadata": {
        "id": "xWKbQNPL31o3"
      },
      "source": [
        "\n",
        "\n",
        "1.   .drop('any') //delete all rows containing any null value\n",
        "2.   .drop('all') //delete all rows which contains all the values as null\n",
        "3.   .drop('any',thresh=2) //delete all rows containing atleast two non-null values\n",
        "4.   .drop('any',subset=['ProductId']) //delete all rows in which ProductId is null\n",
        "\n",
        "\n",
        "\n"
      ]
    },
    {
      "cell_type": "code",
      "metadata": {
        "colab": {
          "base_uri": "https://localhost:8080/"
        },
        "id": "uWJIdYwx5Xqy",
        "outputId": "03cbce44-48de-4594-8ad3-aa6054a5184a"
      },
      "source": [
        "# .drop(how=='any') //delete all rows containing any null value\n",
        "\n",
        "df_pyspark.na.drop('any').show()"
      ],
      "execution_count": 53,
      "outputs": [
        {
          "output_type": "stream",
          "text": [
            "+---------+--------------------+----------+----------+--------------------+-----+\n",
            "|ProductID|         ProductName|SupplierID|CategoryID|                Unit|Price|\n",
            "+---------+--------------------+----------+----------+--------------------+-----+\n",
            "|        1|               Chais|         1|         1|  10 boxes x 20 bags| 18.0|\n",
            "|        2|               Chang|         1|         1|  24 - 12 oz bottles| 19.0|\n",
            "|        3|       Aniseed Syrup|         1|         2| 12 - 550 ml bottles| 10.0|\n",
            "|        4|Chef Anton's Caju...|         2|         2|      48 - 6 oz jars| 22.0|\n",
            "|        5|Chef Anton's Gumb...|         2|         2|            36 boxes|21.35|\n",
            "|        6|Grandma's Boysenb...|         3|         2|      12 - 8 oz jars| 25.0|\n",
            "|        8|Northwoods Cranbe...|         3|         2|     12 - 12 oz jars| 40.0|\n",
            "|       14|                Tofu|         6|         7|    40 - 100 g pkgs.|23.25|\n",
            "|       15|        Genen Shouyu|         6|         2| 24 - 250 ml bottles| 15.5|\n",
            "|       16|             Pavlova|         7|         3|    32 - 500 g boxes|17.45|\n",
            "|       17|        Alice Mutton|         7|         6|      20 - 1 kg tins| 39.0|\n",
            "|       18|    Carnarvon Tigers|         7|         8|          16 kg pkg.| 62.5|\n",
            "|       19|Teatime Chocolate...|         8|         3|10 boxes x 12 pieces|  9.2|\n",
            "|       20|Sir Rodney's Marm...|         8|         3|       30 gift boxes| 81.0|\n",
            "|       21| Sir Rodney's Scones|         8|         3| 24 pkgs. x 4 pieces| 10.0|\n",
            "|       22| Gustaf's Kn�ckebr�d|         9|         5|    24 - 500 g pkgs.| 21.0|\n",
            "|       23|            Tunnbr�d|         9|         5|    12 - 250 g pkgs.|  9.0|\n",
            "|       24|  Guaran� Fant�stica|        10|         1|    12 - 355 ml cans|  4.5|\n",
            "|       25|NuNuCa Nu�-Nougat...|        11|         3|  20 - 450 g glasses| 14.0|\n",
            "|       26| Gumb�r Gummib�rchen|        11|         3|    100 - 250 g bags|31.23|\n",
            "+---------+--------------------+----------+----------+--------------------+-----+\n",
            "only showing top 20 rows\n",
            "\n"
          ],
          "name": "stdout"
        }
      ]
    },
    {
      "cell_type": "code",
      "metadata": {
        "colab": {
          "base_uri": "https://localhost:8080/"
        },
        "id": "TUZjMoC550mp",
        "outputId": "4a64b095-156a-410d-eb74-5d708c6b77d2"
      },
      "source": [
        "# .drop(how=='all') //delete all rows which contains all the values as null\n",
        "\n",
        "df_pyspark.na.drop('all').show()"
      ],
      "execution_count": 54,
      "outputs": [
        {
          "output_type": "stream",
          "text": [
            "+---------+--------------------+----------+----------+--------------------+-----+\n",
            "|ProductID|         ProductName|SupplierID|CategoryID|                Unit|Price|\n",
            "+---------+--------------------+----------+----------+--------------------+-----+\n",
            "|        1|               Chais|         1|         1|  10 boxes x 20 bags| 18.0|\n",
            "|        2|               Chang|         1|         1|  24 - 12 oz bottles| 19.0|\n",
            "|        3|       Aniseed Syrup|         1|         2| 12 - 550 ml bottles| 10.0|\n",
            "|        4|Chef Anton's Caju...|         2|         2|      48 - 6 oz jars| 22.0|\n",
            "|        5|Chef Anton's Gumb...|         2|         2|            36 boxes|21.35|\n",
            "|        6|Grandma's Boysenb...|         3|         2|      12 - 8 oz jars| 25.0|\n",
            "|        8|Northwoods Cranbe...|         3|         2|     12 - 12 oz jars| 40.0|\n",
            "|     null|     Mishi Kobe Niku|         4|         6|    18 - 500 g pkgs.| 97.0|\n",
            "|       10|               Ikura|      null|         8|    12 - 200 ml jars| 31.0|\n",
            "|       11|      Queso Cabrales|         5|      null|           1 kg pkg.| 21.0|\n",
            "|       12|Queso Manchego La...|         5|         4|                null| 38.0|\n",
            "|       13|               Konbu|         6|         8|            2 kg box| null|\n",
            "|       14|                Tofu|         6|         7|    40 - 100 g pkgs.|23.25|\n",
            "|       15|        Genen Shouyu|         6|         2| 24 - 250 ml bottles| 15.5|\n",
            "|       16|             Pavlova|         7|         3|    32 - 500 g boxes|17.45|\n",
            "|       17|        Alice Mutton|         7|         6|      20 - 1 kg tins| 39.0|\n",
            "|       18|    Carnarvon Tigers|         7|         8|          16 kg pkg.| 62.5|\n",
            "|       19|Teatime Chocolate...|         8|         3|10 boxes x 12 pieces|  9.2|\n",
            "|       20|Sir Rodney's Marm...|         8|         3|       30 gift boxes| 81.0|\n",
            "|       21| Sir Rodney's Scones|         8|         3| 24 pkgs. x 4 pieces| 10.0|\n",
            "+---------+--------------------+----------+----------+--------------------+-----+\n",
            "only showing top 20 rows\n",
            "\n"
          ],
          "name": "stdout"
        }
      ]
    },
    {
      "cell_type": "code",
      "metadata": {
        "colab": {
          "base_uri": "https://localhost:8080/"
        },
        "id": "_XNrhryu6bxB",
        "outputId": "205da384-b9bb-458a-f1e1-e67d020684ae"
      },
      "source": [
        "# drop('any',thresh=2) //delete all rows containing atleast two non-null values\n",
        "\n",
        "df_pyspark.na.drop('any',thresh=2).show()"
      ],
      "execution_count": 56,
      "outputs": [
        {
          "output_type": "stream",
          "text": [
            "+---------+--------------------+----------+----------+--------------------+-----+\n",
            "|ProductID|         ProductName|SupplierID|CategoryID|                Unit|Price|\n",
            "+---------+--------------------+----------+----------+--------------------+-----+\n",
            "|        1|               Chais|         1|         1|  10 boxes x 20 bags| 18.0|\n",
            "|        2|               Chang|         1|         1|  24 - 12 oz bottles| 19.0|\n",
            "|        3|       Aniseed Syrup|         1|         2| 12 - 550 ml bottles| 10.0|\n",
            "|        4|Chef Anton's Caju...|         2|         2|      48 - 6 oz jars| 22.0|\n",
            "|        5|Chef Anton's Gumb...|         2|         2|            36 boxes|21.35|\n",
            "|        6|Grandma's Boysenb...|         3|         2|      12 - 8 oz jars| 25.0|\n",
            "|        8|Northwoods Cranbe...|         3|         2|     12 - 12 oz jars| 40.0|\n",
            "|     null|     Mishi Kobe Niku|         4|         6|    18 - 500 g pkgs.| 97.0|\n",
            "|       10|               Ikura|      null|         8|    12 - 200 ml jars| 31.0|\n",
            "|       11|      Queso Cabrales|         5|      null|           1 kg pkg.| 21.0|\n",
            "|       12|Queso Manchego La...|         5|         4|                null| 38.0|\n",
            "|       13|               Konbu|         6|         8|            2 kg box| null|\n",
            "|       14|                Tofu|         6|         7|    40 - 100 g pkgs.|23.25|\n",
            "|       15|        Genen Shouyu|         6|         2| 24 - 250 ml bottles| 15.5|\n",
            "|       16|             Pavlova|         7|         3|    32 - 500 g boxes|17.45|\n",
            "|       17|        Alice Mutton|         7|         6|      20 - 1 kg tins| 39.0|\n",
            "|       18|    Carnarvon Tigers|         7|         8|          16 kg pkg.| 62.5|\n",
            "|       19|Teatime Chocolate...|         8|         3|10 boxes x 12 pieces|  9.2|\n",
            "|       20|Sir Rodney's Marm...|         8|         3|       30 gift boxes| 81.0|\n",
            "|       21| Sir Rodney's Scones|         8|         3| 24 pkgs. x 4 pieces| 10.0|\n",
            "+---------+--------------------+----------+----------+--------------------+-----+\n",
            "only showing top 20 rows\n",
            "\n"
          ],
          "name": "stdout"
        }
      ]
    },
    {
      "cell_type": "code",
      "metadata": {
        "colab": {
          "base_uri": "https://localhost:8080/"
        },
        "id": "EorH5trZ8Di7",
        "outputId": "0ee36f58-155d-4197-d170-fb415551613c"
      },
      "source": [
        "# .drop('any',subset=['ProductId']) //delete all rows in which ProductId is null\n",
        "\n",
        "df_pyspark.na.drop('any',subset=['ProductId']).show()"
      ],
      "execution_count": 58,
      "outputs": [
        {
          "output_type": "stream",
          "text": [
            "+---------+--------------------+----------+----------+--------------------+-----+\n",
            "|ProductID|         ProductName|SupplierID|CategoryID|                Unit|Price|\n",
            "+---------+--------------------+----------+----------+--------------------+-----+\n",
            "|        1|               Chais|         1|         1|  10 boxes x 20 bags| 18.0|\n",
            "|        2|               Chang|         1|         1|  24 - 12 oz bottles| 19.0|\n",
            "|        3|       Aniseed Syrup|         1|         2| 12 - 550 ml bottles| 10.0|\n",
            "|        4|Chef Anton's Caju...|         2|         2|      48 - 6 oz jars| 22.0|\n",
            "|        5|Chef Anton's Gumb...|         2|         2|            36 boxes|21.35|\n",
            "|        6|Grandma's Boysenb...|         3|         2|      12 - 8 oz jars| 25.0|\n",
            "|        8|Northwoods Cranbe...|         3|         2|     12 - 12 oz jars| 40.0|\n",
            "|       10|               Ikura|      null|         8|    12 - 200 ml jars| 31.0|\n",
            "|       11|      Queso Cabrales|         5|      null|           1 kg pkg.| 21.0|\n",
            "|       12|Queso Manchego La...|         5|         4|                null| 38.0|\n",
            "|       13|               Konbu|         6|         8|            2 kg box| null|\n",
            "|       14|                Tofu|         6|         7|    40 - 100 g pkgs.|23.25|\n",
            "|       15|        Genen Shouyu|         6|         2| 24 - 250 ml bottles| 15.5|\n",
            "|       16|             Pavlova|         7|         3|    32 - 500 g boxes|17.45|\n",
            "|       17|        Alice Mutton|         7|         6|      20 - 1 kg tins| 39.0|\n",
            "|       18|    Carnarvon Tigers|         7|         8|          16 kg pkg.| 62.5|\n",
            "|       19|Teatime Chocolate...|         8|         3|10 boxes x 12 pieces|  9.2|\n",
            "|       20|Sir Rodney's Marm...|         8|         3|       30 gift boxes| 81.0|\n",
            "|       21| Sir Rodney's Scones|         8|         3| 24 pkgs. x 4 pieces| 10.0|\n",
            "|       22| Gustaf's Kn�ckebr�d|         9|         5|    24 - 500 g pkgs.| 21.0|\n",
            "+---------+--------------------+----------+----------+--------------------+-----+\n",
            "only showing top 20 rows\n",
            "\n"
          ],
          "name": "stdout"
        }
      ]
    },
    {
      "cell_type": "markdown",
      "metadata": {
        "id": "WJlVjFwL8lm7"
      },
      "source": [
        "### 4.2 Filling A Value to All Missing / Null Values in String Columns only"
      ]
    },
    {
      "cell_type": "code",
      "metadata": {
        "colab": {
          "base_uri": "https://localhost:8080/"
        },
        "id": "j85NmF4k83kR",
        "outputId": "60175972-5428-472e-dd23-7e3c333b87a5"
      },
      "source": [
        "# Fill the String '****Value Missing****' in the String Columns\n",
        "\n",
        "df_pyspark.na.fill('****VALUE_MISSING****').show()"
      ],
      "execution_count": 65,
      "outputs": [
        {
          "output_type": "stream",
          "text": [
            "+---------+--------------------+----------+----------+--------------------+-----+\n",
            "|ProductID|         ProductName|SupplierID|CategoryID|                Unit|Price|\n",
            "+---------+--------------------+----------+----------+--------------------+-----+\n",
            "|        1|               Chais|         1|         1|  10 boxes x 20 bags| 18.0|\n",
            "|        2|               Chang|         1|         1|  24 - 12 oz bottles| 19.0|\n",
            "|        3|       Aniseed Syrup|         1|         2| 12 - 550 ml bottles| 10.0|\n",
            "|        4|Chef Anton's Caju...|         2|         2|      48 - 6 oz jars| 22.0|\n",
            "|        5|Chef Anton's Gumb...|         2|         2|            36 boxes|21.35|\n",
            "|        6|Grandma's Boysenb...|         3|         2|      12 - 8 oz jars| 25.0|\n",
            "|     null|****VALUE_MISSING...|      null|      null|****VALUE_MISSING...| null|\n",
            "|        8|Northwoods Cranbe...|         3|         2|     12 - 12 oz jars| 40.0|\n",
            "|     null|     Mishi Kobe Niku|         4|         6|    18 - 500 g pkgs.| 97.0|\n",
            "|       10|               Ikura|      null|         8|    12 - 200 ml jars| 31.0|\n",
            "|       11|      Queso Cabrales|         5|      null|           1 kg pkg.| 21.0|\n",
            "|       12|Queso Manchego La...|         5|         4|****VALUE_MISSING...| 38.0|\n",
            "|       13|               Konbu|         6|         8|            2 kg box| null|\n",
            "|       14|                Tofu|         6|         7|    40 - 100 g pkgs.|23.25|\n",
            "|       15|        Genen Shouyu|         6|         2| 24 - 250 ml bottles| 15.5|\n",
            "|       16|             Pavlova|         7|         3|    32 - 500 g boxes|17.45|\n",
            "|       17|        Alice Mutton|         7|         6|      20 - 1 kg tins| 39.0|\n",
            "|       18|    Carnarvon Tigers|         7|         8|          16 kg pkg.| 62.5|\n",
            "|       19|Teatime Chocolate...|         8|         3|10 boxes x 12 pieces|  9.2|\n",
            "|       20|Sir Rodney's Marm...|         8|         3|       30 gift boxes| 81.0|\n",
            "+---------+--------------------+----------+----------+--------------------+-----+\n",
            "only showing top 20 rows\n",
            "\n"
          ],
          "name": "stdout"
        }
      ]
    },
    {
      "cell_type": "markdown",
      "metadata": {
        "id": "BgTDRnL0-kQ1"
      },
      "source": [
        "### 4.2 Filling A Value to All Missing / Null Values In A Particular String Columns only  //Integer columns will not show any error"
      ]
    },
    {
      "cell_type": "code",
      "metadata": {
        "colab": {
          "base_uri": "https://localhost:8080/"
        },
        "id": "9cNkSvyY_M7o",
        "outputId": "93597ced-6b3f-44ff-95b0-9fa598ee7965"
      },
      "source": [
        "df_pyspark.na.fill('$$$VALUE_MISSING$$$','ProductName').show()"
      ],
      "execution_count": 68,
      "outputs": [
        {
          "output_type": "stream",
          "text": [
            "+---------+--------------------+----------+----------+--------------------+-----+\n",
            "|ProductID|         ProductName|SupplierID|CategoryID|                Unit|Price|\n",
            "+---------+--------------------+----------+----------+--------------------+-----+\n",
            "|        1|               Chais|         1|         1|  10 boxes x 20 bags| 18.0|\n",
            "|        2|               Chang|         1|         1|  24 - 12 oz bottles| 19.0|\n",
            "|        3|       Aniseed Syrup|         1|         2| 12 - 550 ml bottles| 10.0|\n",
            "|        4|Chef Anton's Caju...|         2|         2|      48 - 6 oz jars| 22.0|\n",
            "|        5|Chef Anton's Gumb...|         2|         2|            36 boxes|21.35|\n",
            "|        6|Grandma's Boysenb...|         3|         2|      12 - 8 oz jars| 25.0|\n",
            "|     null| $$$VALUE_MISSING$$$|      null|      null|                null| null|\n",
            "|        8|Northwoods Cranbe...|         3|         2|     12 - 12 oz jars| 40.0|\n",
            "|     null|     Mishi Kobe Niku|         4|         6|    18 - 500 g pkgs.| 97.0|\n",
            "|       10|               Ikura|      null|         8|    12 - 200 ml jars| 31.0|\n",
            "|       11|      Queso Cabrales|         5|      null|           1 kg pkg.| 21.0|\n",
            "|       12|Queso Manchego La...|         5|         4|                null| 38.0|\n",
            "|       13|               Konbu|         6|         8|            2 kg box| null|\n",
            "|       14|                Tofu|         6|         7|    40 - 100 g pkgs.|23.25|\n",
            "|       15|        Genen Shouyu|         6|         2| 24 - 250 ml bottles| 15.5|\n",
            "|       16|             Pavlova|         7|         3|    32 - 500 g boxes|17.45|\n",
            "|       17|        Alice Mutton|         7|         6|      20 - 1 kg tins| 39.0|\n",
            "|       18|    Carnarvon Tigers|         7|         8|          16 kg pkg.| 62.5|\n",
            "|       19|Teatime Chocolate...|         8|         3|10 boxes x 12 pieces|  9.2|\n",
            "|       20|Sir Rodney's Marm...|         8|         3|       30 gift boxes| 81.0|\n",
            "+---------+--------------------+----------+----------+--------------------+-----+\n",
            "only showing top 20 rows\n",
            "\n"
          ],
          "name": "stdout"
        }
      ]
    },
    {
      "cell_type": "code",
      "metadata": {
        "colab": {
          "base_uri": "https://localhost:8080/"
        },
        "id": "U4YTpuY19TG-",
        "outputId": "27ccffee-0a49-4268-ca66-0bccb7fc5899"
      },
      "source": [
        "df_pyspark.na.fill('$$$VALUE_MISSING$$$',['ProductName','Unit']).show()"
      ],
      "execution_count": 67,
      "outputs": [
        {
          "output_type": "stream",
          "text": [
            "+---------+--------------------+----------+----------+--------------------+-----+\n",
            "|ProductID|         ProductName|SupplierID|CategoryID|                Unit|Price|\n",
            "+---------+--------------------+----------+----------+--------------------+-----+\n",
            "|        1|               Chais|         1|         1|  10 boxes x 20 bags| 18.0|\n",
            "|        2|               Chang|         1|         1|  24 - 12 oz bottles| 19.0|\n",
            "|        3|       Aniseed Syrup|         1|         2| 12 - 550 ml bottles| 10.0|\n",
            "|        4|Chef Anton's Caju...|         2|         2|      48 - 6 oz jars| 22.0|\n",
            "|        5|Chef Anton's Gumb...|         2|         2|            36 boxes|21.35|\n",
            "|        6|Grandma's Boysenb...|         3|         2|      12 - 8 oz jars| 25.0|\n",
            "|     null| $$$VALUE_MISSING$$$|      null|      null| $$$VALUE_MISSING$$$| null|\n",
            "|        8|Northwoods Cranbe...|         3|         2|     12 - 12 oz jars| 40.0|\n",
            "|     null|     Mishi Kobe Niku|         4|         6|    18 - 500 g pkgs.| 97.0|\n",
            "|       10|               Ikura|      null|         8|    12 - 200 ml jars| 31.0|\n",
            "|       11|      Queso Cabrales|         5|      null|           1 kg pkg.| 21.0|\n",
            "|       12|Queso Manchego La...|         5|         4| $$$VALUE_MISSING$$$| 38.0|\n",
            "|       13|               Konbu|         6|         8|            2 kg box| null|\n",
            "|       14|                Tofu|         6|         7|    40 - 100 g pkgs.|23.25|\n",
            "|       15|        Genen Shouyu|         6|         2| 24 - 250 ml bottles| 15.5|\n",
            "|       16|             Pavlova|         7|         3|    32 - 500 g boxes|17.45|\n",
            "|       17|        Alice Mutton|         7|         6|      20 - 1 kg tins| 39.0|\n",
            "|       18|    Carnarvon Tigers|         7|         8|          16 kg pkg.| 62.5|\n",
            "|       19|Teatime Chocolate...|         8|         3|10 boxes x 12 pieces|  9.2|\n",
            "|       20|Sir Rodney's Marm...|         8|         3|       30 gift boxes| 81.0|\n",
            "+---------+--------------------+----------+----------+--------------------+-----+\n",
            "only showing top 20 rows\n",
            "\n"
          ],
          "name": "stdout"
        }
      ]
    },
    {
      "cell_type": "code",
      "metadata": {
        "colab": {
          "base_uri": "https://localhost:8080/"
        },
        "id": "lEfLTg5z_VM_",
        "outputId": "0ec973cf-ab4a-4e65-99ed-7890a27ef276"
      },
      "source": [
        "df_pyspark.na.fill('$$$VALUE_MISSING$$$',['ProductName','Price']).show()"
      ],
      "execution_count": 69,
      "outputs": [
        {
          "output_type": "stream",
          "text": [
            "+---------+--------------------+----------+----------+--------------------+-----+\n",
            "|ProductID|         ProductName|SupplierID|CategoryID|                Unit|Price|\n",
            "+---------+--------------------+----------+----------+--------------------+-----+\n",
            "|        1|               Chais|         1|         1|  10 boxes x 20 bags| 18.0|\n",
            "|        2|               Chang|         1|         1|  24 - 12 oz bottles| 19.0|\n",
            "|        3|       Aniseed Syrup|         1|         2| 12 - 550 ml bottles| 10.0|\n",
            "|        4|Chef Anton's Caju...|         2|         2|      48 - 6 oz jars| 22.0|\n",
            "|        5|Chef Anton's Gumb...|         2|         2|            36 boxes|21.35|\n",
            "|        6|Grandma's Boysenb...|         3|         2|      12 - 8 oz jars| 25.0|\n",
            "|     null| $$$VALUE_MISSING$$$|      null|      null|                null| null|\n",
            "|        8|Northwoods Cranbe...|         3|         2|     12 - 12 oz jars| 40.0|\n",
            "|     null|     Mishi Kobe Niku|         4|         6|    18 - 500 g pkgs.| 97.0|\n",
            "|       10|               Ikura|      null|         8|    12 - 200 ml jars| 31.0|\n",
            "|       11|      Queso Cabrales|         5|      null|           1 kg pkg.| 21.0|\n",
            "|       12|Queso Manchego La...|         5|         4|                null| 38.0|\n",
            "|       13|               Konbu|         6|         8|            2 kg box| null|\n",
            "|       14|                Tofu|         6|         7|    40 - 100 g pkgs.|23.25|\n",
            "|       15|        Genen Shouyu|         6|         2| 24 - 250 ml bottles| 15.5|\n",
            "|       16|             Pavlova|         7|         3|    32 - 500 g boxes|17.45|\n",
            "|       17|        Alice Mutton|         7|         6|      20 - 1 kg tins| 39.0|\n",
            "|       18|    Carnarvon Tigers|         7|         8|          16 kg pkg.| 62.5|\n",
            "|       19|Teatime Chocolate...|         8|         3|10 boxes x 12 pieces|  9.2|\n",
            "|       20|Sir Rodney's Marm...|         8|         3|       30 gift boxes| 81.0|\n",
            "+---------+--------------------+----------+----------+--------------------+-----+\n",
            "only showing top 20 rows\n",
            "\n"
          ],
          "name": "stdout"
        }
      ]
    },
    {
      "cell_type": "markdown",
      "metadata": {
        "id": "DzEAWHxLHmd2"
      },
      "source": [
        "### 4.3 Filling The Integer Column NULL Values with Mean / Meadian / Mode Of Presented Values In Them By Using Imputer Function"
      ]
    },
    {
      "cell_type": "code",
      "metadata": {
        "id": "AyIJKmsbH6v8"
      },
      "source": [
        "from pyspark.ml.feature import Imputer"
      ],
      "execution_count": 76,
      "outputs": []
    },
    {
      "cell_type": "code",
      "metadata": {
        "colab": {
          "base_uri": "https://localhost:8080/"
        },
        "id": "984iLgg5TDTw",
        "outputId": "ecde5f65-c838-4904-fefa-d21e17d6391f"
      },
      "source": [
        "# Filling Mean Values at NULL\n",
        "\n",
        "imputer=Imputer(\n",
        "    inputCols=['ProductID','SupplierID','CategoryID','Price'],\n",
        "    outputCols=['ProductID','SupplierID','CategoryID','Price']\n",
        ").setStrategy('mean')\n",
        "\n",
        "imputer.fit(df_pyspark).transform(df_pyspark).show()"
      ],
      "execution_count": 77,
      "outputs": [
        {
          "output_type": "stream",
          "text": [
            "+---------+--------------------+----------+----------+--------------------+------------------+\n",
            "|ProductID|         ProductName|SupplierID|CategoryID|                Unit|             Price|\n",
            "+---------+--------------------+----------+----------+--------------------+------------------+\n",
            "|        1|               Chais|         1|         1|  10 boxes x 20 bags|              18.0|\n",
            "|        2|               Chang|         1|         1|  24 - 12 oz bottles|              19.0|\n",
            "|        3|       Aniseed Syrup|         1|         2| 12 - 550 ml bottles|              10.0|\n",
            "|        4|Chef Anton's Caju...|         2|         2|      48 - 6 oz jars|              22.0|\n",
            "|        5|Chef Anton's Gumb...|         2|         2|            36 boxes|             21.35|\n",
            "|        6|Grandma's Boysenb...|         3|         2|      12 - 8 oz jars|              25.0|\n",
            "|       39|                null|        13|         4|                null|29.156133333333333|\n",
            "|        8|Northwoods Cranbe...|         3|         2|     12 - 12 oz jars|              40.0|\n",
            "|       39|     Mishi Kobe Niku|         4|         6|    18 - 500 g pkgs.|              97.0|\n",
            "|       10|               Ikura|        13|         8|    12 - 200 ml jars|              31.0|\n",
            "|       11|      Queso Cabrales|         5|         4|           1 kg pkg.|              21.0|\n",
            "|       12|Queso Manchego La...|         5|         4|                null|              38.0|\n",
            "|       13|               Konbu|         6|         8|            2 kg box|29.156133333333333|\n",
            "|       14|                Tofu|         6|         7|    40 - 100 g pkgs.|             23.25|\n",
            "|       15|        Genen Shouyu|         6|         2| 24 - 250 ml bottles|              15.5|\n",
            "|       16|             Pavlova|         7|         3|    32 - 500 g boxes|             17.45|\n",
            "|       17|        Alice Mutton|         7|         6|      20 - 1 kg tins|              39.0|\n",
            "|       18|    Carnarvon Tigers|         7|         8|          16 kg pkg.|              62.5|\n",
            "|       19|Teatime Chocolate...|         8|         3|10 boxes x 12 pieces|               9.2|\n",
            "|       20|Sir Rodney's Marm...|         8|         3|       30 gift boxes|              81.0|\n",
            "+---------+--------------------+----------+----------+--------------------+------------------+\n",
            "only showing top 20 rows\n",
            "\n"
          ],
          "name": "stdout"
        }
      ]
    },
    {
      "cell_type": "code",
      "metadata": {
        "colab": {
          "base_uri": "https://localhost:8080/"
        },
        "id": "dehtDrY2UZkp",
        "outputId": "c9cfa3af-1d93-42ff-e0ca-ce68ad66e64a"
      },
      "source": [
        "# Filling Median Values at NULL\n",
        "\n",
        "imputer=Imputer(\n",
        "    inputCols=['ProductID','SupplierID','CategoryID','Price'],\n",
        "    outputCols=['ProductID','SupplierID','CategoryID','Price']\n",
        ").setStrategy('median')\n",
        "\n",
        "imputer.fit(df_pyspark).transform(df_pyspark).show()"
      ],
      "execution_count": 78,
      "outputs": [
        {
          "output_type": "stream",
          "text": [
            "+---------+--------------------+----------+----------+--------------------+-----+\n",
            "|ProductID|         ProductName|SupplierID|CategoryID|                Unit|Price|\n",
            "+---------+--------------------+----------+----------+--------------------+-----+\n",
            "|        1|               Chais|         1|         1|  10 boxes x 20 bags| 18.0|\n",
            "|        2|               Chang|         1|         1|  24 - 12 oz bottles| 19.0|\n",
            "|        3|       Aniseed Syrup|         1|         2| 12 - 550 ml bottles| 10.0|\n",
            "|        4|Chef Anton's Caju...|         2|         2|      48 - 6 oz jars| 22.0|\n",
            "|        5|Chef Anton's Gumb...|         2|         2|            36 boxes|21.35|\n",
            "|        6|Grandma's Boysenb...|         3|         2|      12 - 8 oz jars| 25.0|\n",
            "|       40|                null|        14|         4|                null| 19.5|\n",
            "|        8|Northwoods Cranbe...|         3|         2|     12 - 12 oz jars| 40.0|\n",
            "|       40|     Mishi Kobe Niku|         4|         6|    18 - 500 g pkgs.| 97.0|\n",
            "|       10|               Ikura|        14|         8|    12 - 200 ml jars| 31.0|\n",
            "|       11|      Queso Cabrales|         5|         4|           1 kg pkg.| 21.0|\n",
            "|       12|Queso Manchego La...|         5|         4|                null| 38.0|\n",
            "|       13|               Konbu|         6|         8|            2 kg box| 19.5|\n",
            "|       14|                Tofu|         6|         7|    40 - 100 g pkgs.|23.25|\n",
            "|       15|        Genen Shouyu|         6|         2| 24 - 250 ml bottles| 15.5|\n",
            "|       16|             Pavlova|         7|         3|    32 - 500 g boxes|17.45|\n",
            "|       17|        Alice Mutton|         7|         6|      20 - 1 kg tins| 39.0|\n",
            "|       18|    Carnarvon Tigers|         7|         8|          16 kg pkg.| 62.5|\n",
            "|       19|Teatime Chocolate...|         8|         3|10 boxes x 12 pieces|  9.2|\n",
            "|       20|Sir Rodney's Marm...|         8|         3|       30 gift boxes| 81.0|\n",
            "+---------+--------------------+----------+----------+--------------------+-----+\n",
            "only showing top 20 rows\n",
            "\n"
          ],
          "name": "stdout"
        }
      ]
    },
    {
      "cell_type": "code",
      "metadata": {
        "colab": {
          "base_uri": "https://localhost:8080/"
        },
        "id": "RBprtXqgUjY2",
        "outputId": "5b4ee59b-0811-4e5d-c106-d614e5ff149c"
      },
      "source": [
        "# Filling Mode Values at NULL\n",
        "\n",
        "imputer=Imputer(\n",
        "    inputCols=['ProductID','SupplierID','CategoryID','Price'],\n",
        "    outputCols=['ProductID','SupplierID','CategoryID','Price']\n",
        ").setStrategy('mode')\n",
        "\n",
        "imputer.fit(df_pyspark).transform(df_pyspark).show()"
      ],
      "execution_count": 79,
      "outputs": [
        {
          "output_type": "stream",
          "text": [
            "+---------+--------------------+----------+----------+--------------------+-----+\n",
            "|ProductID|         ProductName|SupplierID|CategoryID|                Unit|Price|\n",
            "+---------+--------------------+----------+----------+--------------------+-----+\n",
            "|        1|               Chais|         1|         1|  10 boxes x 20 bags| 18.0|\n",
            "|        2|               Chang|         1|         1|  24 - 12 oz bottles| 19.0|\n",
            "|        3|       Aniseed Syrup|         1|         2| 12 - 550 ml bottles| 10.0|\n",
            "|        4|Chef Anton's Caju...|         2|         2|      48 - 6 oz jars| 22.0|\n",
            "|        5|Chef Anton's Gumb...|         2|         2|            36 boxes|21.35|\n",
            "|        6|Grandma's Boysenb...|         3|         2|      12 - 8 oz jars| 25.0|\n",
            "|        1|                null|         7|         3|                null| 14.0|\n",
            "|        8|Northwoods Cranbe...|         3|         2|     12 - 12 oz jars| 40.0|\n",
            "|        1|     Mishi Kobe Niku|         4|         6|    18 - 500 g pkgs.| 97.0|\n",
            "|       10|               Ikura|         7|         8|    12 - 200 ml jars| 31.0|\n",
            "|       11|      Queso Cabrales|         5|         3|           1 kg pkg.| 21.0|\n",
            "|       12|Queso Manchego La...|         5|         4|                null| 38.0|\n",
            "|       13|               Konbu|         6|         8|            2 kg box| 14.0|\n",
            "|       14|                Tofu|         6|         7|    40 - 100 g pkgs.|23.25|\n",
            "|       15|        Genen Shouyu|         6|         2| 24 - 250 ml bottles| 15.5|\n",
            "|       16|             Pavlova|         7|         3|    32 - 500 g boxes|17.45|\n",
            "|       17|        Alice Mutton|         7|         6|      20 - 1 kg tins| 39.0|\n",
            "|       18|    Carnarvon Tigers|         7|         8|          16 kg pkg.| 62.5|\n",
            "|       19|Teatime Chocolate...|         8|         3|10 boxes x 12 pieces|  9.2|\n",
            "|       20|Sir Rodney's Marm...|         8|         3|       30 gift boxes| 81.0|\n",
            "+---------+--------------------+----------+----------+--------------------+-----+\n",
            "only showing top 20 rows\n",
            "\n"
          ],
          "name": "stdout"
        }
      ]
    }
  ]
}